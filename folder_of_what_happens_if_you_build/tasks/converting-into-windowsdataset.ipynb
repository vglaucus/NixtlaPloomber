{
 "cells": [
  {
   "cell_type": "code",
   "execution_count": null,
   "id": "33597a95",
   "metadata": {
    "tags": [
     "soorgeon-imports"
    ]
   },
   "outputs": [],
   "source": [
    "import neuralforecast as nf\n",
    "from pathlib import Path\n",
    "import pickle"
   ]
  },
  {
   "cell_type": "code",
   "execution_count": null,
   "id": "ccd9c316",
   "metadata": {
    "tags": [
     "parameters"
    ]
   },
   "outputs": [],
   "source": [
    "upstream = ['train', 'read-csv', 'split-test-and-train']\n",
    "product = None"
   ]
  },
  {
   "cell_type": "code",
   "execution_count": null,
   "id": "3b57b8ed",
   "metadata": {
    "tags": [
     "soorgeon-unpickle"
    ]
   },
   "outputs": [],
   "source": [
    "X_cols = pickle.loads(Path(upstream['read-csv']['X_cols']).read_bytes())\n",
    "X_df_train = pickle.loads(Path(upstream['split-test-and-train']['X_df_train']).read_bytes())\n",
    "Y_df_train = pickle.loads(Path(upstream['split-test-and-train']['Y_df_train']).read_bytes())\n",
    "input_size = pickle.loads(Path(upstream['split-test-and-train']['input_size']).read_bytes())\n",
    "output_size = pickle.loads(Path(upstream['split-test-and-train']['output_size']).read_bytes())\n",
    "train_mask_df = pickle.loads(Path(upstream['train']['train_mask_df']).read_bytes())\n",
    "val_mask_df = pickle.loads(Path(upstream['train']['val_mask_df']).read_bytes())"
   ]
  },
  {
   "cell_type": "markdown",
   "id": "2d1257f7",
   "metadata": {},
   "source": [
    "## Converting into WindowsDataset"
   ]
  },
  {
   "cell_type": "code",
   "execution_count": null,
   "id": "3cca401c",
   "metadata": {},
   "outputs": [],
   "source": [
    "# This is an optimized window object made by Nixtla. It can handle time series more efficiently\n",
    "train_dataset = nf.data.tsdataset.WindowsDataset(\n",
    "    Y_df=Y_df_train, \n",
    "    X_df=X_df_train,\n",
    "     f_cols=X_cols,\n",
    "    input_size=input_size,\n",
    "    output_size=output_size,\n",
    "    mask_df=train_mask_df\n",
    ")"
   ]
  },
  {
   "cell_type": "code",
   "execution_count": null,
   "id": "451a36c8",
   "metadata": {},
   "outputs": [],
   "source": [
    "# This is an optimized window object made by Nixtla. It can handle time series more efficiently\n",
    "val_dataset = nf.data.tsdataset.WindowsDataset(\n",
    "    Y_df=Y_df_train, \n",
    "     X_df=X_df_train,\n",
    "     f_cols=X_cols,\n",
    "    input_size=input_size,\n",
    "    output_size=output_size,\n",
    "    mask_df=val_mask_df\n",
    ")"
   ]
  },
  {
   "cell_type": "code",
   "execution_count": null,
   "id": "00b48b24",
   "metadata": {
    "tags": [
     "soorgeon-pickle"
    ]
   },
   "outputs": [],
   "source": [
    "Path(product['train_dataset']).parent.mkdir(exist_ok=True, parents=True)\n",
    "Path(product['train_dataset']).write_bytes(pickle.dumps(train_dataset))\n",
    "\n",
    "Path(product['val_dataset']).parent.mkdir(exist_ok=True, parents=True)\n",
    "Path(product['val_dataset']).write_bytes(pickle.dumps(val_dataset))"
   ]
  }
 ],
 "metadata": {
  "kernelspec": {
   "display_name": "Python 3",
   "language": "python",
   "name": "python3"
  }
 },
 "nbformat": 4,
 "nbformat_minor": 5
}