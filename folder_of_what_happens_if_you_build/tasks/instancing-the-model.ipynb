{
 "cells": [
  {
   "cell_type": "code",
   "execution_count": null,
   "id": "15681c01",
   "metadata": {
    "tags": [
     "soorgeon-imports"
    ]
   },
   "outputs": [],
   "source": [
    "import neuralforecast as nf\n",
    "from pathlib import Path\n",
    "import pickle"
   ]
  },
  {
   "cell_type": "code",
   "execution_count": null,
   "id": "22143cb7",
   "metadata": {
    "tags": [
     "parameters"
    ]
   },
   "outputs": [],
   "source": [
    "upstream = ['read-csv', 'split-test-and-train']\n",
    "product = None"
   ]
  },
  {
   "cell_type": "code",
   "execution_count": null,
   "id": "ee2178db",
   "metadata": {
    "tags": [
     "soorgeon-unpickle"
    ]
   },
   "outputs": [],
   "source": [
    "X_cols = pickle.loads(Path(upstream['read-csv']['X_cols']).read_bytes())\n",
    "input_size = pickle.loads(Path(upstream['split-test-and-train']['input_size']).read_bytes())\n",
    "output_size = pickle.loads(Path(upstream['split-test-and-train']['output_size']).read_bytes())"
   ]
  },
  {
   "cell_type": "markdown",
   "id": "3ca48d52",
   "metadata": {},
   "source": [
    "## Instancing the model"
   ]
  },
  {
   "cell_type": "code",
   "execution_count": null,
   "id": "cf491898",
   "metadata": {},
   "outputs": [],
   "source": [
    "model = nf.models.nbeats.nbeats.NBEATS(\n",
    "    n_time_in=input_size,\n",
    "    n_time_out=output_size,\n",
    "    n_x=len(X_cols),  # Number of X cols you provided\n",
    "    n_x_hidden=[len(X_cols), 10], # These are neural network hidden layers for X variables\n",
    "    frequency='W-MON', \n",
    "    seasonality=4  # Since they are weeks. It would be 7 in case of daily or any other number if you know what you are doing\n",
    ")"
   ]
  },
  {
   "cell_type": "code",
   "execution_count": null,
   "id": "0c83b42b",
   "metadata": {
    "tags": [
     "soorgeon-pickle"
    ]
   },
   "outputs": [],
   "source": [
    "Path(product['model']).parent.mkdir(exist_ok=True, parents=True)\n",
    "Path(product['model']).write_bytes(pickle.dumps(model))"
   ]
  }
 ],
 "metadata": {
  "kernelspec": {
   "display_name": "Python 3",
   "language": "python",
   "name": "python3"
  }
 },
 "nbformat": 4,
 "nbformat_minor": 5
}