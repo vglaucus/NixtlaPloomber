{
 "cells": [
  {
   "cell_type": "code",
   "execution_count": null,
   "id": "49fe5229",
   "metadata": {
    "tags": [
     "soorgeon-imports"
    ]
   },
   "outputs": [],
   "source": [
    "import neuralforecast as nf\n",
    "from pathlib import Path\n",
    "import pickle"
   ]
  },
  {
   "cell_type": "code",
   "execution_count": null,
   "id": "d17699a2",
   "metadata": {
    "tags": [
     "parameters"
    ]
   },
   "outputs": [],
   "source": [
    "upstream = ['converting-into-windowsdataset']\n",
    "product = None"
   ]
  },
  {
   "cell_type": "code",
   "execution_count": null,
   "id": "f16fca87",
   "metadata": {
    "tags": [
     "soorgeon-unpickle"
    ]
   },
   "outputs": [],
   "source": [
    "train_dataset = pickle.loads(Path(upstream['converting-into-windowsdataset']['train_dataset']).read_bytes())\n",
    "val_dataset = pickle.loads(Path(upstream['converting-into-windowsdataset']['val_dataset']).read_bytes())"
   ]
  },
  {
   "cell_type": "markdown",
   "id": "3cb78053",
   "metadata": {},
   "source": [
    "## Converting into TimeSeriesLoader"
   ]
  },
  {
   "cell_type": "code",
   "execution_count": null,
   "id": "88f6d3fc",
   "metadata": {},
   "outputs": [],
   "source": [
    "# This is another object made by Nixtla. It's used to give the WindowsDatasets to the models\n",
    "train_loader = nf.data.tsloader.TimeSeriesLoader(\n",
    "    train_dataset, batch_size=32, \n",
    "    n_windows=256,\n",
    "    shuffle=True\n",
    ")"
   ]
  },
  {
   "cell_type": "code",
   "execution_count": null,
   "id": "0c59a2d3",
   "metadata": {},
   "outputs": [],
   "source": [
    "# This is another object made by Nixtla. It's used to give the WindowsDatasets to the models\n",
    "val_loader = nf.data.tsloader.TimeSeriesLoader(\n",
    "    val_dataset, \n",
    "    batch_size=1\n",
    ")"
   ]
  },
  {
   "cell_type": "code",
   "execution_count": null,
   "id": "88dd8a9b",
   "metadata": {
    "tags": [
     "soorgeon-pickle"
    ]
   },
   "outputs": [],
   "source": [
    "Path(product['train_loader']).parent.mkdir(exist_ok=True, parents=True)\n",
    "Path(product['train_loader']).write_bytes(pickle.dumps(train_loader))\n",
    "\n",
    "Path(product['val_loader']).parent.mkdir(exist_ok=True, parents=True)\n",
    "Path(product['val_loader']).write_bytes(pickle.dumps(val_loader))"
   ]
  }
 ],
 "metadata": {
  "kernelspec": {
   "display_name": "Python 3",
   "language": "python",
   "name": "python3"
  }
 },
 "nbformat": 4,
 "nbformat_minor": 5
}