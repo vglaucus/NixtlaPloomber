{
 "cells": [
  {
   "cell_type": "code",
   "execution_count": null,
   "id": "eca53cd6",
   "metadata": {
    "tags": [
     "soorgeon-imports"
    ]
   },
   "outputs": [],
   "source": [
    "import pandas as pd\n",
    "from pathlib import Path\n",
    "import pickle"
   ]
  },
  {
   "cell_type": "code",
   "execution_count": null,
   "id": "fd3dec20",
   "metadata": {
    "tags": [
     "parameters"
    ]
   },
   "outputs": [],
   "source": [
    "upstream = ['read-csv']\n",
    "product = None"
   ]
  },
  {
   "cell_type": "code",
   "execution_count": null,
   "id": "44749060",
   "metadata": {
    "tags": [
     "soorgeon-unpickle"
    ]
   },
   "outputs": [],
   "source": [
    "X_cols = pickle.loads(Path(upstream['read-csv']['X_cols']).read_bytes())\n",
    "Y_col = pickle.loads(Path(upstream['read-csv']['Y_col']).read_bytes())\n",
    "df = pickle.loads(Path(upstream['read-csv']['df']).read_bytes())"
   ]
  },
  {
   "cell_type": "markdown",
   "id": "07d40209",
   "metadata": {},
   "source": [
    "## Cleaning and converting into desired format"
   ]
  },
  {
   "cell_type": "code",
   "execution_count": null,
   "id": "273edd9c",
   "metadata": {},
   "outputs": [],
   "source": [
    "# These names are required by the library\n",
    "column_renamer = {\"location\": \"unique_id\",\n",
    "                  \"date\": \"ds\",\n",
    "                  \"new_cases\": \"y\"}"
   ]
  },
  {
   "cell_type": "code",
   "execution_count": null,
   "id": "61c4ddba",
   "metadata": {},
   "outputs": [],
   "source": [
    "# Library requires that all series end at the same time. Not many countries are lost this way\n",
    "df = df[df.groupby(\"location\")[\"date\"].transform(max) == df[\"date\"].max()]\n",
    "minmaxes = df.groupby(\"location\")[\"date\"].agg([min, max, \"count\"])\n",
    "minmaxes[\"proportions\"] = (((minmaxes[\"max\"] - minmaxes[\"min\"]).dt.days + 1) / minmaxes[\"count\"])\n",
    "minmaxes[minmaxes[\"proportions\"] != 1]"
   ]
  },
  {
   "cell_type": "code",
   "execution_count": null,
   "id": "564f9663",
   "metadata": {},
   "outputs": [],
   "source": [
    "# Aggregating data to be at a weekly level since daily was very messy\n",
    "grouper_aggregator = {col: \"mean\" for col in X_cols}\n",
    "grouper_aggregator.update({Y_col: \"sum\"})\n",
    "df = df.groupby([\"location\", \n",
    "                 pd.Grouper(key='date', freq='W-MON')]).agg(grouper_aggregator).reset_index()"
   ]
  },
  {
   "cell_type": "code",
   "execution_count": null,
   "id": "38d559f2",
   "metadata": {
    "tags": [
     "soorgeon-pickle"
    ]
   },
   "outputs": [],
   "source": [
    "Path(product['column_renamer']).parent.mkdir(exist_ok=True, parents=True)\n",
    "Path(product['column_renamer']).write_bytes(pickle.dumps(column_renamer))\n",
    "\n",
    "Path(product['df']).parent.mkdir(exist_ok=True, parents=True)\n",
    "Path(product['df']).write_bytes(pickle.dumps(df))"
   ]
  }
 ],
 "metadata": {
  "kernelspec": {
   "display_name": "Python 3",
   "language": "python",
   "name": "python3"
  }
 },
 "nbformat": 4,
 "nbformat_minor": 5
}