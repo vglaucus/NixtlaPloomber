{
 "cells": [
  {
   "cell_type": "code",
   "execution_count": null,
   "id": "3d766b1b",
   "metadata": {
    "tags": [
     "soorgeon-imports"
    ]
   },
   "outputs": [],
   "source": [
    "\n",
    "from pathlib import Path\n",
    "import pickle"
   ]
  },
  {
   "cell_type": "code",
   "execution_count": null,
   "id": "bd82b5f6",
   "metadata": {
    "tags": [
     "parameters"
    ]
   },
   "outputs": [],
   "source": [
    "upstream = ['creating-dataframe-for-x', 'creating-dataframe-for-y']\n",
    "product = None"
   ]
  },
  {
   "cell_type": "code",
   "execution_count": null,
   "id": "906d78d1",
   "metadata": {
    "tags": [
     "soorgeon-unpickle"
    ]
   },
   "outputs": [],
   "source": [
    "X_df = pickle.loads(Path(upstream['creating-dataframe-for-x']['X_df']).read_bytes())\n",
    "Y_df = pickle.loads(Path(upstream['creating-dataframe-for-y']['Y_df']).read_bytes())"
   ]
  },
  {
   "cell_type": "markdown",
   "id": "27ebae40",
   "metadata": {},
   "source": [
    "## Split Test and Train"
   ]
  },
  {
   "cell_type": "code",
   "execution_count": null,
   "id": "2f399ea6",
   "metadata": {},
   "outputs": [],
   "source": [
    "output_size = 6  # This is how many periods you wish predict. 6 weeks in this case\n",
    "Y_df_test = Y_df.groupby('unique_id').tail(output_size)\n",
    "Y_df_train = Y_df.drop(Y_df_test.index)\n",
    "\n",
    "X_df_train = X_df.drop(Y_df_test.index)"
   ]
  },
  {
   "cell_type": "code",
   "execution_count": null,
   "id": "974f5435",
   "metadata": {},
   "outputs": [],
   "source": [
    "# Since I want to show a comparable result along with my predictions,\n",
    "# output split is to be doubled so that I can have train  >  validation  >  predictions\n",
    "#                                                         (output_size1)   (output_size2)\n",
    "input_size = 2 * output_size"
   ]
  },
  {
   "cell_type": "code",
   "execution_count": null,
   "id": "5655a083",
   "metadata": {
    "tags": [
     "soorgeon-pickle"
    ]
   },
   "outputs": [],
   "source": [
    "Path(product['X_df_train']).parent.mkdir(exist_ok=True, parents=True)\n",
    "Path(product['X_df_train']).write_bytes(pickle.dumps(X_df_train))\n",
    "\n",
    "Path(product['Y_df_test']).parent.mkdir(exist_ok=True, parents=True)\n",
    "Path(product['Y_df_test']).write_bytes(pickle.dumps(Y_df_test))\n",
    "\n",
    "Path(product['Y_df_train']).parent.mkdir(exist_ok=True, parents=True)\n",
    "Path(product['Y_df_train']).write_bytes(pickle.dumps(Y_df_train))\n",
    "\n",
    "Path(product['input_size']).parent.mkdir(exist_ok=True, parents=True)\n",
    "Path(product['input_size']).write_bytes(pickle.dumps(input_size))\n",
    "\n",
    "Path(product['output_size']).parent.mkdir(exist_ok=True, parents=True)\n",
    "Path(product['output_size']).write_bytes(pickle.dumps(output_size))"
   ]
  }
 ],
 "metadata": {
  "kernelspec": {
   "display_name": "Python 3",
   "language": "python",
   "name": "python3"
  }
 },
 "nbformat": 4,
 "nbformat_minor": 5
}