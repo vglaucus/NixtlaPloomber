{
 "cells": [
  {
   "cell_type": "code",
   "execution_count": 1,
   "id": "34710ff7",
   "metadata": {
    "execution": {
     "iopub.execute_input": "2022-03-03T05:39:37.057376Z",
     "iopub.status.busy": "2022-03-03T05:39:37.041754Z",
     "iopub.status.idle": "2022-03-03T05:39:37.072994Z",
     "shell.execute_reply": "2022-03-03T05:39:37.072994Z"
    },
    "papermill": {
     "duration": 0.062484,
     "end_time": "2022-03-03T05:39:37.072994",
     "exception": false,
     "start_time": "2022-03-03T05:39:37.010510",
     "status": "completed"
    },
    "tags": [
     "soorgeon-imports"
    ]
   },
   "outputs": [],
   "source": [
    "\n",
    "from pathlib import Path\n",
    "import pickle"
   ]
  },
  {
   "cell_type": "code",
   "execution_count": 2,
   "id": "c13049c2",
   "metadata": {
    "execution": {
     "iopub.execute_input": "2022-03-03T05:39:37.111670Z",
     "iopub.status.busy": "2022-03-03T05:39:37.110673Z",
     "iopub.status.idle": "2022-03-03T05:39:37.122641Z",
     "shell.execute_reply": "2022-03-03T05:39:37.123637Z"
    },
    "papermill": {
     "duration": 0.050643,
     "end_time": "2022-03-03T05:39:37.123637",
     "exception": false,
     "start_time": "2022-03-03T05:39:37.072994",
     "status": "completed"
    },
    "tags": [
     "parameters"
    ]
   },
   "outputs": [],
   "source": [
    "upstream = ['cleaning-and-converting-into-desired-format', 'read-csv']\n",
    "product = None"
   ]
  },
  {
   "cell_type": "code",
   "execution_count": 3,
   "id": "96fde2ca",
   "metadata": {
    "execution": {
     "iopub.execute_input": "2022-03-03T05:39:37.154300Z",
     "iopub.status.busy": "2022-03-03T05:39:37.154300Z",
     "iopub.status.idle": "2022-03-03T05:39:37.169921Z",
     "shell.execute_reply": "2022-03-03T05:39:37.169921Z"
    },
    "papermill": {
     "duration": 0.037308,
     "end_time": "2022-03-03T05:39:37.169921",
     "exception": false,
     "start_time": "2022-03-03T05:39:37.132613",
     "status": "completed"
    },
    "tags": [
     "injected-parameters"
    ]
   },
   "outputs": [],
   "source": [
    "# Parameters\n",
    "upstream = {\n",
    "    \"read-csv\": {\n",
    "        \"Y_col\": \"C:\\\\Users\\\\victor\\\\Documents\\\\notebooks\\\\output\\\\read-csv-Y_col.pkl\",\n",
    "        \"df\": \"C:\\\\Users\\\\victor\\\\Documents\\\\notebooks\\\\output\\\\read-csv-df.pkl\",\n",
    "        \"X_cols\": \"C:\\\\Users\\\\victor\\\\Documents\\\\notebooks\\\\output\\\\read-csv-X_cols.pkl\",\n",
    "        \"nb\": \"C:\\\\Users\\\\victor\\\\Documents\\\\notebooks\\\\output\\\\read-csv.ipynb\",\n",
    "    },\n",
    "    \"cleaning-and-converting-into-desired-format\": {\n",
    "        \"df\": \"C:\\\\Users\\\\victor\\\\Documents\\\\notebooks\\\\output\\\\cleaning-and-converting-into-desired-format-df.pkl\",\n",
    "        \"column_renamer\": \"C:\\\\Users\\\\victor\\\\Documents\\\\notebooks\\\\output\\\\cleaning-and-converting-into-desired-format-column_renamer.pkl\",\n",
    "        \"nb\": \"C:\\\\Users\\\\victor\\\\Documents\\\\notebooks\\\\output\\\\cleaning-and-converting-into-desired-format.ipynb\",\n",
    "    },\n",
    "}\n",
    "product = {\n",
    "    \"X_df\": \"C:\\\\Users\\\\victor\\\\Documents\\\\notebooks\\\\output\\\\creating-dataframe-for-x-X_df.pkl\",\n",
    "    \"nb\": \"C:\\\\Users\\\\victor\\\\Documents\\\\notebooks\\\\output\\\\creating-dataframe-for-x.ipynb\",\n",
    "}\n"
   ]
  },
  {
   "cell_type": "code",
   "execution_count": 4,
   "id": "3cf23218",
   "metadata": {
    "execution": {
     "iopub.execute_input": "2022-03-03T05:39:37.216877Z",
     "iopub.status.busy": "2022-03-03T05:39:37.214882Z",
     "iopub.status.idle": "2022-03-03T05:39:37.529509Z",
     "shell.execute_reply": "2022-03-03T05:39:37.529509Z"
    },
    "papermill": {
     "duration": 0.330584,
     "end_time": "2022-03-03T05:39:37.529509",
     "exception": false,
     "start_time": "2022-03-03T05:39:37.198925",
     "status": "completed"
    },
    "tags": [
     "soorgeon-unpickle"
    ]
   },
   "outputs": [],
   "source": [
    "column_renamer = pickle.loads(Path(upstream['cleaning-and-converting-into-desired-format']['column_renamer']).read_bytes())\n",
    "df = pickle.loads(Path(upstream['cleaning-and-converting-into-desired-format']['df']).read_bytes())\n",
    "X_cols = pickle.loads(Path(upstream['read-csv']['X_cols']).read_bytes())"
   ]
  },
  {
   "cell_type": "markdown",
   "id": "36c27818",
   "metadata": {
    "papermill": {
     "duration": 0.028522,
     "end_time": "2022-03-03T05:39:37.558031",
     "exception": false,
     "start_time": "2022-03-03T05:39:37.529509",
     "status": "completed"
    },
    "tags": []
   },
   "source": [
    "## Creating DataFrame for X"
   ]
  },
  {
   "cell_type": "code",
   "execution_count": 5,
   "id": "cfcfe882",
   "metadata": {
    "execution": {
     "iopub.execute_input": "2022-03-03T05:39:37.588976Z",
     "iopub.status.busy": "2022-03-03T05:39:37.588976Z",
     "iopub.status.idle": "2022-03-03T05:39:37.688068Z",
     "shell.execute_reply": "2022-03-03T05:39:37.686536Z"
    },
    "papermill": {
     "duration": 0.104106,
     "end_time": "2022-03-03T05:39:37.688068",
     "exception": false,
     "start_time": "2022-03-03T05:39:37.583962",
     "status": "completed"
    },
    "tags": []
   },
   "outputs": [
    {
     "data": {
      "text/html": [
       "<div>\n",
       "<style scoped>\n",
       "    .dataframe tbody tr th:only-of-type {\n",
       "        vertical-align: middle;\n",
       "    }\n",
       "\n",
       "    .dataframe tbody tr th {\n",
       "        vertical-align: top;\n",
       "    }\n",
       "\n",
       "    .dataframe thead th {\n",
       "        text-align: right;\n",
       "    }\n",
       "</style>\n",
       "<table border=\"1\" class=\"dataframe\">\n",
       "  <thead>\n",
       "    <tr style=\"text-align: right;\">\n",
       "      <th></th>\n",
       "      <th>unique_id</th>\n",
       "      <th>ds</th>\n",
       "      <th>human_development_index</th>\n",
       "      <th>gdp_per_capita</th>\n",
       "      <th>stringency_index</th>\n",
       "      <th>life_expectancy</th>\n",
       "      <th>hospital_beds_per_thousand</th>\n",
       "    </tr>\n",
       "  </thead>\n",
       "  <tbody>\n",
       "    <tr>\n",
       "      <th>6454</th>\n",
       "      <td>Ethiopia</td>\n",
       "      <td>2021-06-28</td>\n",
       "      <td>0.485</td>\n",
       "      <td>1729.927</td>\n",
       "      <td>43.52</td>\n",
       "      <td>66.60</td>\n",
       "      <td>0.3</td>\n",
       "    </tr>\n",
       "    <tr>\n",
       "      <th>19602</th>\n",
       "      <td>Timor</td>\n",
       "      <td>2021-10-18</td>\n",
       "      <td>0.606</td>\n",
       "      <td>6570.102</td>\n",
       "      <td>46.30</td>\n",
       "      <td>69.50</td>\n",
       "      <td>5.9</td>\n",
       "    </tr>\n",
       "    <tr>\n",
       "      <th>5495</th>\n",
       "      <td>Djibouti</td>\n",
       "      <td>2021-07-19</td>\n",
       "      <td>0.524</td>\n",
       "      <td>2705.406</td>\n",
       "      <td>43.52</td>\n",
       "      <td>67.11</td>\n",
       "      <td>1.4</td>\n",
       "    </tr>\n",
       "  </tbody>\n",
       "</table>\n",
       "</div>"
      ],
      "text/plain": [
       "      unique_id         ds  human_development_index  gdp_per_capita  \\\n",
       "6454   Ethiopia 2021-06-28                    0.485        1729.927   \n",
       "19602     Timor 2021-10-18                    0.606        6570.102   \n",
       "5495   Djibouti 2021-07-19                    0.524        2705.406   \n",
       "\n",
       "       stringency_index  life_expectancy  hospital_beds_per_thousand  \n",
       "6454              43.52            66.60                         0.3  \n",
       "19602             46.30            69.50                         5.9  \n",
       "5495              43.52            67.11                         1.4  "
      ]
     },
     "execution_count": 5,
     "metadata": {},
     "output_type": "execute_result"
    }
   ],
   "source": [
    "X_df = df[[\"location\", \"date\"] + X_cols]\n",
    "X_df = X_df.rename(columns=column_renamer).fillna(0)\n",
    "X_df.sample(3)"
   ]
  },
  {
   "cell_type": "code",
   "execution_count": 6,
   "id": "f50a4854",
   "metadata": {
    "execution": {
     "iopub.execute_input": "2022-03-03T05:39:37.700034Z",
     "iopub.status.busy": "2022-03-03T05:39:37.700034Z",
     "iopub.status.idle": "2022-03-03T05:39:37.718984Z",
     "shell.execute_reply": "2022-03-03T05:39:37.718984Z"
    },
    "papermill": {
     "duration": 0.025931,
     "end_time": "2022-03-03T05:39:37.718984",
     "exception": false,
     "start_time": "2022-03-03T05:39:37.693053",
     "status": "completed"
    },
    "tags": [
     "soorgeon-pickle"
    ]
   },
   "outputs": [
    {
     "data": {
      "text/plain": [
       "1091141"
      ]
     },
     "execution_count": 6,
     "metadata": {},
     "output_type": "execute_result"
    }
   ],
   "source": [
    "Path(product['X_df']).parent.mkdir(exist_ok=True, parents=True)\n",
    "Path(product['X_df']).write_bytes(pickle.dumps(X_df))"
   ]
  }
 ],
 "metadata": {
  "kernelspec": {
   "display_name": "Python 3 (ipykernel)",
   "language": "python",
   "name": "python3"
  },
  "language_info": {
   "codemirror_mode": {
    "name": "ipython",
    "version": 3
   },
   "file_extension": ".py",
   "mimetype": "text/x-python",
   "name": "python",
   "nbconvert_exporter": "python",
   "pygments_lexer": "ipython3",
   "version": "3.7.11"
  },
  "papermill": {
   "duration": 2.150967,
   "end_time": "2022-03-03T05:39:37.852265",
   "exception": null,
   "input_path": "C:\\Users\\victor\\AppData\\Local\\Temp\\tmpvwvz6d0h.ipynb",
   "output_path": "C:\\Users\\victor\\Documents\\notebooks\\output\\creating-dataframe-for-x.ipynb",
   "parameters": {
    "product": {
     "X_df": "C:\\Users\\victor\\Documents\\notebooks\\output\\creating-dataframe-for-x-X_df.pkl",
     "nb": "C:\\Users\\victor\\Documents\\notebooks\\output\\creating-dataframe-for-x.ipynb"
    },
    "upstream": {
     "cleaning-and-converting-into-desired-format": {
      "column_renamer": "C:\\Users\\victor\\Documents\\notebooks\\output\\cleaning-and-converting-into-desired-format-column_renamer.pkl",
      "df": "C:\\Users\\victor\\Documents\\notebooks\\output\\cleaning-and-converting-into-desired-format-df.pkl",
      "nb": "C:\\Users\\victor\\Documents\\notebooks\\output\\cleaning-and-converting-into-desired-format.ipynb"
     },
     "read-csv": {
      "X_cols": "C:\\Users\\victor\\Documents\\notebooks\\output\\read-csv-X_cols.pkl",
      "Y_col": "C:\\Users\\victor\\Documents\\notebooks\\output\\read-csv-Y_col.pkl",
      "df": "C:\\Users\\victor\\Documents\\notebooks\\output\\read-csv-df.pkl",
      "nb": "C:\\Users\\victor\\Documents\\notebooks\\output\\read-csv.ipynb"
     }
    }
   },
   "start_time": "2022-03-03T05:39:35.701298"
  }
 },
 "nbformat": 4,
 "nbformat_minor": 5
}