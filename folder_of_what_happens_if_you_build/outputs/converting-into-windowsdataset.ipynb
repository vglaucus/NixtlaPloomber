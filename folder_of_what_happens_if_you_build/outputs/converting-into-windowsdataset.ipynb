{
 "cells": [
  {
   "cell_type": "code",
   "execution_count": 1,
   "id": "33597a95",
   "metadata": {
    "execution": {
     "iopub.execute_input": "2022-03-03T05:39:53.522750Z",
     "iopub.status.busy": "2022-03-03T05:39:53.522750Z",
     "iopub.status.idle": "2022-03-03T05:39:55.850322Z",
     "shell.execute_reply": "2022-03-03T05:39:55.850322Z"
    },
    "papermill": {
     "duration": 2.405682,
     "end_time": "2022-03-03T05:39:55.850322",
     "exception": false,
     "start_time": "2022-03-03T05:39:53.444640",
     "status": "completed"
    },
    "tags": [
     "soorgeon-imports"
    ]
   },
   "outputs": [],
   "source": [
    "import neuralforecast as nf\n",
    "from pathlib import Path\n",
    "import pickle"
   ]
  },
  {
   "cell_type": "code",
   "execution_count": 2,
   "id": "ccd9c316",
   "metadata": {
    "execution": {
     "iopub.execute_input": "2022-03-03T05:39:55.863854Z",
     "iopub.status.busy": "2022-03-03T05:39:55.862857Z",
     "iopub.status.idle": "2022-03-03T05:39:55.866845Z",
     "shell.execute_reply": "2022-03-03T05:39:55.866845Z"
    },
    "papermill": {
     "duration": 0.016523,
     "end_time": "2022-03-03T05:39:55.866845",
     "exception": false,
     "start_time": "2022-03-03T05:39:55.850322",
     "status": "completed"
    },
    "tags": [
     "parameters"
    ]
   },
   "outputs": [],
   "source": [
    "upstream = ['train', 'read-csv', 'split-test-and-train']\n",
    "product = None"
   ]
  },
  {
   "cell_type": "code",
   "execution_count": 3,
   "id": "6ae93d34",
   "metadata": {
    "execution": {
     "iopub.execute_input": "2022-03-03T05:39:55.878813Z",
     "iopub.status.busy": "2022-03-03T05:39:55.878813Z",
     "iopub.status.idle": "2022-03-03T05:39:55.882803Z",
     "shell.execute_reply": "2022-03-03T05:39:55.882803Z"
    },
    "papermill": {
     "duration": 0.011969,
     "end_time": "2022-03-03T05:39:55.882803",
     "exception": false,
     "start_time": "2022-03-03T05:39:55.870834",
     "status": "completed"
    },
    "tags": [
     "injected-parameters"
    ]
   },
   "outputs": [],
   "source": [
    "# Parameters\n",
    "upstream = {\n",
    "    \"split-test-and-train\": {\n",
    "        \"Y_df_test\": \"C:\\\\Users\\\\victor\\\\Documents\\\\notebooks\\\\output\\\\split-test-and-train-Y_df_test.pkl\",\n",
    "        \"output_size\": \"C:\\\\Users\\\\victor\\\\Documents\\\\notebooks\\\\output\\\\split-test-and-train-output_size.pkl\",\n",
    "        \"X_df_train\": \"C:\\\\Users\\\\victor\\\\Documents\\\\notebooks\\\\output\\\\split-test-and-train-X_df_train.pkl\",\n",
    "        \"input_size\": \"C:\\\\Users\\\\victor\\\\Documents\\\\notebooks\\\\output\\\\split-test-and-train-input_size.pkl\",\n",
    "        \"Y_df_train\": \"C:\\\\Users\\\\victor\\\\Documents\\\\notebooks\\\\output\\\\split-test-and-train-Y_df_train.pkl\",\n",
    "        \"nb\": \"C:\\\\Users\\\\victor\\\\Documents\\\\notebooks\\\\output\\\\split-test-and-train.ipynb\",\n",
    "    },\n",
    "    \"read-csv\": {\n",
    "        \"Y_col\": \"C:\\\\Users\\\\victor\\\\Documents\\\\notebooks\\\\output\\\\read-csv-Y_col.pkl\",\n",
    "        \"df\": \"C:\\\\Users\\\\victor\\\\Documents\\\\notebooks\\\\output\\\\read-csv-df.pkl\",\n",
    "        \"X_cols\": \"C:\\\\Users\\\\victor\\\\Documents\\\\notebooks\\\\output\\\\read-csv-X_cols.pkl\",\n",
    "        \"nb\": \"C:\\\\Users\\\\victor\\\\Documents\\\\notebooks\\\\output\\\\read-csv.ipynb\",\n",
    "    },\n",
    "    \"train\": {\n",
    "        \"val_mask_df\": \"C:\\\\Users\\\\victor\\\\Documents\\\\notebooks\\\\output\\\\train-val_mask_df.pkl\",\n",
    "        \"train_mask_df\": \"C:\\\\Users\\\\victor\\\\Documents\\\\notebooks\\\\output\\\\train-train_mask_df.pkl\",\n",
    "        \"nb\": \"C:\\\\Users\\\\victor\\\\Documents\\\\notebooks\\\\output\\\\train.ipynb\",\n",
    "    },\n",
    "}\n",
    "product = {\n",
    "    \"train_dataset\": \"C:\\\\Users\\\\victor\\\\Documents\\\\notebooks\\\\output\\\\converting-into-windowsdataset-train_dataset.pkl\",\n",
    "    \"val_dataset\": \"C:\\\\Users\\\\victor\\\\Documents\\\\notebooks\\\\output\\\\converting-into-windowsdataset-val_dataset.pkl\",\n",
    "    \"nb\": \"C:\\\\Users\\\\victor\\\\Documents\\\\notebooks\\\\output\\\\converting-into-windowsdataset.ipynb\",\n",
    "}\n"
   ]
  },
  {
   "cell_type": "code",
   "execution_count": 4,
   "id": "3b57b8ed",
   "metadata": {
    "execution": {
     "iopub.execute_input": "2022-03-03T05:39:55.905742Z",
     "iopub.status.busy": "2022-03-03T05:39:55.904745Z",
     "iopub.status.idle": "2022-03-03T05:39:55.923400Z",
     "shell.execute_reply": "2022-03-03T05:39:55.923400Z"
    },
    "papermill": {
     "duration": 0.03561,
     "end_time": "2022-03-03T05:39:55.923400",
     "exception": false,
     "start_time": "2022-03-03T05:39:55.887790",
     "status": "completed"
    },
    "tags": [
     "soorgeon-unpickle"
    ]
   },
   "outputs": [],
   "source": [
    "X_cols = pickle.loads(Path(upstream['read-csv']['X_cols']).read_bytes())\n",
    "X_df_train = pickle.loads(Path(upstream['split-test-and-train']['X_df_train']).read_bytes())\n",
    "Y_df_train = pickle.loads(Path(upstream['split-test-and-train']['Y_df_train']).read_bytes())\n",
    "input_size = pickle.loads(Path(upstream['split-test-and-train']['input_size']).read_bytes())\n",
    "output_size = pickle.loads(Path(upstream['split-test-and-train']['output_size']).read_bytes())\n",
    "train_mask_df = pickle.loads(Path(upstream['train']['train_mask_df']).read_bytes())\n",
    "val_mask_df = pickle.loads(Path(upstream['train']['val_mask_df']).read_bytes())"
   ]
  },
  {
   "cell_type": "markdown",
   "id": "2d1257f7",
   "metadata": {
    "papermill": {
     "duration": 0.015621,
     "end_time": "2022-03-03T05:39:55.939021",
     "exception": false,
     "start_time": "2022-03-03T05:39:55.923400",
     "status": "completed"
    },
    "tags": []
   },
   "source": [
    "## Converting into WindowsDataset"
   ]
  },
  {
   "cell_type": "code",
   "execution_count": 5,
   "id": "3cca401c",
   "metadata": {
    "execution": {
     "iopub.execute_input": "2022-03-03T05:39:55.954642Z",
     "iopub.status.busy": "2022-03-03T05:39:55.954642Z",
     "iopub.status.idle": "2022-03-03T05:39:56.087497Z",
     "shell.execute_reply": "2022-03-03T05:39:56.087497Z"
    },
    "papermill": {
     "duration": 0.132855,
     "end_time": "2022-03-03T05:39:56.087497",
     "exception": false,
     "start_time": "2022-03-03T05:39:55.954642",
     "status": "completed"
    },
    "tags": []
   },
   "outputs": [
    {
     "name": "stderr",
     "output_type": "stream",
     "text": [
      "C:\\Users\\victor\\anaconda3\\envs\\myenv2\\lib\\site-packages\\neuralforecast\\data\\tsdataset.py:208: FutureWarning: In a future version of pandas all arguments of DataFrame.drop except for the argument 'labels' will be keyword-only\n",
      "  X.drop(['unique_id', 'ds'], 1, inplace=True)\n"
     ]
    }
   ],
   "source": [
    "# This is an optimized window object made by Nixtla. It can handle time series more efficiently\n",
    "train_dataset = nf.data.tsdataset.WindowsDataset(\n",
    "    Y_df=Y_df_train, \n",
    "    X_df=X_df_train,\n",
    "     f_cols=X_cols,\n",
    "    input_size=input_size,\n",
    "    output_size=output_size,\n",
    "    mask_df=train_mask_df\n",
    ")"
   ]
  },
  {
   "cell_type": "code",
   "execution_count": 6,
   "id": "451a36c8",
   "metadata": {
    "execution": {
     "iopub.execute_input": "2022-03-03T05:39:56.106447Z",
     "iopub.status.busy": "2022-03-03T05:39:56.106447Z",
     "iopub.status.idle": "2022-03-03T05:39:56.249394Z",
     "shell.execute_reply": "2022-03-03T05:39:56.249394Z"
    },
    "papermill": {
     "duration": 0.152921,
     "end_time": "2022-03-03T05:39:56.249394",
     "exception": false,
     "start_time": "2022-03-03T05:39:56.096473",
     "status": "completed"
    },
    "tags": []
   },
   "outputs": [],
   "source": [
    "# This is an optimized window object made by Nixtla. It can handle time series more efficiently\n",
    "val_dataset = nf.data.tsdataset.WindowsDataset(\n",
    "    Y_df=Y_df_train, \n",
    "     X_df=X_df_train,\n",
    "     f_cols=X_cols,\n",
    "    input_size=input_size,\n",
    "    output_size=output_size,\n",
    "    mask_df=val_mask_df\n",
    ")"
   ]
  },
  {
   "cell_type": "code",
   "execution_count": 7,
   "id": "00b48b24",
   "metadata": {
    "execution": {
     "iopub.execute_input": "2022-03-03T05:39:56.249394Z",
     "iopub.status.busy": "2022-03-03T05:39:56.249394Z",
     "iopub.status.idle": "2022-03-03T05:39:56.311881Z",
     "shell.execute_reply": "2022-03-03T05:39:56.311881Z"
    },
    "papermill": {
     "duration": 0.062487,
     "end_time": "2022-03-03T05:39:56.311881",
     "exception": false,
     "start_time": "2022-03-03T05:39:56.249394",
     "status": "completed"
    },
    "tags": [
     "soorgeon-pickle"
    ]
   },
   "outputs": [
    {
     "data": {
      "text/plain": [
       "2761057"
      ]
     },
     "execution_count": 7,
     "metadata": {},
     "output_type": "execute_result"
    }
   ],
   "source": [
    "Path(product['train_dataset']).parent.mkdir(exist_ok=True, parents=True)\n",
    "Path(product['train_dataset']).write_bytes(pickle.dumps(train_dataset))\n",
    "\n",
    "Path(product['val_dataset']).parent.mkdir(exist_ok=True, parents=True)\n",
    "Path(product['val_dataset']).write_bytes(pickle.dumps(val_dataset))"
   ]
  }
 ],
 "metadata": {
  "kernelspec": {
   "display_name": "Python 3 (ipykernel)",
   "language": "python",
   "name": "python3"
  },
  "language_info": {
   "codemirror_mode": {
    "name": "ipython",
    "version": 3
   },
   "file_extension": ".py",
   "mimetype": "text/x-python",
   "name": "python",
   "nbconvert_exporter": "python",
   "pygments_lexer": "ipython3",
   "version": "3.7.11"
  },
  "papermill": {
   "duration": 4.531219,
   "end_time": "2022-03-03T05:39:56.665378",
   "exception": null,
   "input_path": "C:\\Users\\victor\\AppData\\Local\\Temp\\tmpe_vol1w1.ipynb",
   "output_path": "C:\\Users\\victor\\Documents\\notebooks\\output\\converting-into-windowsdataset.ipynb",
   "parameters": {
    "product": {
     "nb": "C:\\Users\\victor\\Documents\\notebooks\\output\\converting-into-windowsdataset.ipynb",
     "train_dataset": "C:\\Users\\victor\\Documents\\notebooks\\output\\converting-into-windowsdataset-train_dataset.pkl",
     "val_dataset": "C:\\Users\\victor\\Documents\\notebooks\\output\\converting-into-windowsdataset-val_dataset.pkl"
    },
    "upstream": {
     "read-csv": {
      "X_cols": "C:\\Users\\victor\\Documents\\notebooks\\output\\read-csv-X_cols.pkl",
      "Y_col": "C:\\Users\\victor\\Documents\\notebooks\\output\\read-csv-Y_col.pkl",
      "df": "C:\\Users\\victor\\Documents\\notebooks\\output\\read-csv-df.pkl",
      "nb": "C:\\Users\\victor\\Documents\\notebooks\\output\\read-csv.ipynb"
     },
     "split-test-and-train": {
      "X_df_train": "C:\\Users\\victor\\Documents\\notebooks\\output\\split-test-and-train-X_df_train.pkl",
      "Y_df_test": "C:\\Users\\victor\\Documents\\notebooks\\output\\split-test-and-train-Y_df_test.pkl",
      "Y_df_train": "C:\\Users\\victor\\Documents\\notebooks\\output\\split-test-and-train-Y_df_train.pkl",
      "input_size": "C:\\Users\\victor\\Documents\\notebooks\\output\\split-test-and-train-input_size.pkl",
      "nb": "C:\\Users\\victor\\Documents\\notebooks\\output\\split-test-and-train.ipynb",
      "output_size": "C:\\Users\\victor\\Documents\\notebooks\\output\\split-test-and-train-output_size.pkl"
     },
     "train": {
      "nb": "C:\\Users\\victor\\Documents\\notebooks\\output\\train.ipynb",
      "train_mask_df": "C:\\Users\\victor\\Documents\\notebooks\\output\\train-train_mask_df.pkl",
      "val_mask_df": "C:\\Users\\victor\\Documents\\notebooks\\output\\train-val_mask_df.pkl"
     }
    }
   },
   "start_time": "2022-03-03T05:39:52.134159"
  }
 },
 "nbformat": 4,
 "nbformat_minor": 5
}