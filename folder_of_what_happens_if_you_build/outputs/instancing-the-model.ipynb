{
 "cells": [
  {
   "cell_type": "code",
   "execution_count": 1,
   "id": "15681c01",
   "metadata": {
    "execution": {
     "iopub.execute_input": "2022-03-03T05:39:45.668121Z",
     "iopub.status.busy": "2022-03-03T05:39:45.668121Z",
     "iopub.status.idle": "2022-03-03T05:39:48.042558Z",
     "shell.execute_reply": "2022-03-03T05:39:48.042558Z"
    },
    "papermill": {
     "duration": 2.421303,
     "end_time": "2022-03-03T05:39:48.042558",
     "exception": false,
     "start_time": "2022-03-03T05:39:45.621255",
     "status": "completed"
    },
    "tags": [
     "soorgeon-imports"
    ]
   },
   "outputs": [],
   "source": [
    "import neuralforecast as nf\n",
    "from pathlib import Path\n",
    "import pickle"
   ]
  },
  {
   "cell_type": "code",
   "execution_count": 2,
   "id": "22143cb7",
   "metadata": {
    "execution": {
     "iopub.execute_input": "2022-03-03T05:39:48.054625Z",
     "iopub.status.busy": "2022-03-03T05:39:48.054625Z",
     "iopub.status.idle": "2022-03-03T05:39:48.059611Z",
     "shell.execute_reply": "2022-03-03T05:39:48.059611Z"
    },
    "papermill": {
     "duration": 0.017053,
     "end_time": "2022-03-03T05:39:48.059611",
     "exception": false,
     "start_time": "2022-03-03T05:39:48.042558",
     "status": "completed"
    },
    "tags": [
     "parameters"
    ]
   },
   "outputs": [],
   "source": [
    "upstream = ['read-csv', 'split-test-and-train']\n",
    "product = None"
   ]
  },
  {
   "cell_type": "code",
   "execution_count": 3,
   "id": "e4349215",
   "metadata": {
    "execution": {
     "iopub.execute_input": "2022-03-03T05:39:48.070582Z",
     "iopub.status.busy": "2022-03-03T05:39:48.070582Z",
     "iopub.status.idle": "2022-03-03T05:39:48.074570Z",
     "shell.execute_reply": "2022-03-03T05:39:48.075568Z"
    },
    "papermill": {
     "duration": 0.011968,
     "end_time": "2022-03-03T05:39:48.075568",
     "exception": false,
     "start_time": "2022-03-03T05:39:48.063600",
     "status": "completed"
    },
    "tags": [
     "injected-parameters"
    ]
   },
   "outputs": [],
   "source": [
    "# Parameters\n",
    "upstream = {\n",
    "    \"split-test-and-train\": {\n",
    "        \"Y_df_test\": \"C:\\\\Users\\\\victor\\\\Documents\\\\notebooks\\\\output\\\\split-test-and-train-Y_df_test.pkl\",\n",
    "        \"output_size\": \"C:\\\\Users\\\\victor\\\\Documents\\\\notebooks\\\\output\\\\split-test-and-train-output_size.pkl\",\n",
    "        \"X_df_train\": \"C:\\\\Users\\\\victor\\\\Documents\\\\notebooks\\\\output\\\\split-test-and-train-X_df_train.pkl\",\n",
    "        \"input_size\": \"C:\\\\Users\\\\victor\\\\Documents\\\\notebooks\\\\output\\\\split-test-and-train-input_size.pkl\",\n",
    "        \"Y_df_train\": \"C:\\\\Users\\\\victor\\\\Documents\\\\notebooks\\\\output\\\\split-test-and-train-Y_df_train.pkl\",\n",
    "        \"nb\": \"C:\\\\Users\\\\victor\\\\Documents\\\\notebooks\\\\output\\\\split-test-and-train.ipynb\",\n",
    "    },\n",
    "    \"read-csv\": {\n",
    "        \"Y_col\": \"C:\\\\Users\\\\victor\\\\Documents\\\\notebooks\\\\output\\\\read-csv-Y_col.pkl\",\n",
    "        \"df\": \"C:\\\\Users\\\\victor\\\\Documents\\\\notebooks\\\\output\\\\read-csv-df.pkl\",\n",
    "        \"X_cols\": \"C:\\\\Users\\\\victor\\\\Documents\\\\notebooks\\\\output\\\\read-csv-X_cols.pkl\",\n",
    "        \"nb\": \"C:\\\\Users\\\\victor\\\\Documents\\\\notebooks\\\\output\\\\read-csv.ipynb\",\n",
    "    },\n",
    "}\n",
    "product = {\n",
    "    \"model\": \"C:\\\\Users\\\\victor\\\\Documents\\\\notebooks\\\\output\\\\instancing-the-model-model.pkl\",\n",
    "    \"nb\": \"C:\\\\Users\\\\victor\\\\Documents\\\\notebooks\\\\output\\\\instancing-the-model.ipynb\",\n",
    "}\n"
   ]
  },
  {
   "cell_type": "code",
   "execution_count": 4,
   "id": "ee2178db",
   "metadata": {
    "execution": {
     "iopub.execute_input": "2022-03-03T05:39:48.085542Z",
     "iopub.status.busy": "2022-03-03T05:39:48.085542Z",
     "iopub.status.idle": "2022-03-03T05:39:48.115185Z",
     "shell.execute_reply": "2022-03-03T05:39:48.115185Z"
    },
    "papermill": {
     "duration": 0.035628,
     "end_time": "2022-03-03T05:39:48.115185",
     "exception": false,
     "start_time": "2022-03-03T05:39:48.079557",
     "status": "completed"
    },
    "tags": [
     "soorgeon-unpickle"
    ]
   },
   "outputs": [],
   "source": [
    "X_cols = pickle.loads(Path(upstream['read-csv']['X_cols']).read_bytes())\n",
    "input_size = pickle.loads(Path(upstream['split-test-and-train']['input_size']).read_bytes())\n",
    "output_size = pickle.loads(Path(upstream['split-test-and-train']['output_size']).read_bytes())"
   ]
  },
  {
   "cell_type": "markdown",
   "id": "3ca48d52",
   "metadata": {
    "papermill": {
     "duration": 0.015622,
     "end_time": "2022-03-03T05:39:48.146429",
     "exception": false,
     "start_time": "2022-03-03T05:39:48.130807",
     "status": "completed"
    },
    "tags": []
   },
   "source": [
    "## Instancing the model"
   ]
  },
  {
   "cell_type": "code",
   "execution_count": 5,
   "id": "cf491898",
   "metadata": {
    "execution": {
     "iopub.execute_input": "2022-03-03T05:39:48.166387Z",
     "iopub.status.busy": "2022-03-03T05:39:48.165902Z",
     "iopub.status.idle": "2022-03-03T05:39:48.182009Z",
     "shell.execute_reply": "2022-03-03T05:39:48.182009Z"
    },
    "papermill": {
     "duration": 0.03558,
     "end_time": "2022-03-03T05:39:48.182009",
     "exception": false,
     "start_time": "2022-03-03T05:39:48.146429",
     "status": "completed"
    },
    "tags": []
   },
   "outputs": [],
   "source": [
    "model = nf.models.nbeats.nbeats.NBEATS(\n",
    "    n_time_in=input_size,\n",
    "    n_time_out=output_size,\n",
    "    n_x=len(X_cols),  # Number of X cols you provided\n",
    "    n_x_hidden=[len(X_cols), 10], # These are neural network hidden layers for X variables\n",
    "    frequency='W-MON', \n",
    "    seasonality=4  # Since they are weeks. It would be 7 in case of daily or any other number if you know what you are doing\n",
    ")"
   ]
  },
  {
   "cell_type": "code",
   "execution_count": 6,
   "id": "0c83b42b",
   "metadata": {
    "execution": {
     "iopub.execute_input": "2022-03-03T05:39:48.197629Z",
     "iopub.status.busy": "2022-03-03T05:39:48.197629Z",
     "iopub.status.idle": "2022-03-03T05:39:48.348169Z",
     "shell.execute_reply": "2022-03-03T05:39:48.348169Z"
    },
    "papermill": {
     "duration": 0.16616,
     "end_time": "2022-03-03T05:39:48.348169",
     "exception": false,
     "start_time": "2022-03-03T05:39:48.182009",
     "status": "completed"
    },
    "tags": [
     "soorgeon-pickle"
    ]
   },
   "outputs": [
    {
     "data": {
      "text/plain": [
       "3907505"
      ]
     },
     "execution_count": 6,
     "metadata": {},
     "output_type": "execute_result"
    }
   ],
   "source": [
    "Path(product['model']).parent.mkdir(exist_ok=True, parents=True)\n",
    "Path(product['model']).write_bytes(pickle.dumps(model))"
   ]
  }
 ],
 "metadata": {
  "kernelspec": {
   "display_name": "Python 3 (ipykernel)",
   "language": "python",
   "name": "python3"
  },
  "language_info": {
   "codemirror_mode": {
    "name": "ipython",
    "version": 3
   },
   "file_extension": ".py",
   "mimetype": "text/x-python",
   "name": "python",
   "nbconvert_exporter": "python",
   "pygments_lexer": "ipython3",
   "version": "3.7.11"
  },
  "papermill": {
   "duration": 4.425239,
   "end_time": "2022-03-03T05:39:48.801189",
   "exception": null,
   "input_path": "C:\\Users\\victor\\AppData\\Local\\Temp\\tmpxwcla_ji.ipynb",
   "output_path": "C:\\Users\\victor\\Documents\\notebooks\\output\\instancing-the-model.ipynb",
   "parameters": {
    "product": {
     "model": "C:\\Users\\victor\\Documents\\notebooks\\output\\instancing-the-model-model.pkl",
     "nb": "C:\\Users\\victor\\Documents\\notebooks\\output\\instancing-the-model.ipynb"
    },
    "upstream": {
     "read-csv": {
      "X_cols": "C:\\Users\\victor\\Documents\\notebooks\\output\\read-csv-X_cols.pkl",
      "Y_col": "C:\\Users\\victor\\Documents\\notebooks\\output\\read-csv-Y_col.pkl",
      "df": "C:\\Users\\victor\\Documents\\notebooks\\output\\read-csv-df.pkl",
      "nb": "C:\\Users\\victor\\Documents\\notebooks\\output\\read-csv.ipynb"
     },
     "split-test-and-train": {
      "X_df_train": "C:\\Users\\victor\\Documents\\notebooks\\output\\split-test-and-train-X_df_train.pkl",
      "Y_df_test": "C:\\Users\\victor\\Documents\\notebooks\\output\\split-test-and-train-Y_df_test.pkl",
      "Y_df_train": "C:\\Users\\victor\\Documents\\notebooks\\output\\split-test-and-train-Y_df_train.pkl",
      "input_size": "C:\\Users\\victor\\Documents\\notebooks\\output\\split-test-and-train-input_size.pkl",
      "nb": "C:\\Users\\victor\\Documents\\notebooks\\output\\split-test-and-train.ipynb",
      "output_size": "C:\\Users\\victor\\Documents\\notebooks\\output\\split-test-and-train-output_size.pkl"
     }
    }
   },
   "start_time": "2022-03-03T05:39:44.375950"
  }
 },
 "nbformat": 4,
 "nbformat_minor": 5
}