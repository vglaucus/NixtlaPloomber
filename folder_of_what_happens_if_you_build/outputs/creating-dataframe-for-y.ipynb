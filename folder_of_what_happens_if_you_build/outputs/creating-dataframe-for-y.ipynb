{
 "cells": [
  {
   "cell_type": "code",
   "execution_count": 1,
   "id": "878a5f32",
   "metadata": {
    "execution": {
     "iopub.execute_input": "2022-03-03T05:39:34.890143Z",
     "iopub.status.busy": "2022-03-03T05:39:34.890143Z",
     "iopub.status.idle": "2022-03-03T05:39:34.905763Z",
     "shell.execute_reply": "2022-03-03T05:39:34.905763Z"
    },
    "papermill": {
     "duration": 0.046863,
     "end_time": "2022-03-03T05:39:34.905763",
     "exception": false,
     "start_time": "2022-03-03T05:39:34.858900",
     "status": "completed"
    },
    "tags": [
     "soorgeon-imports"
    ]
   },
   "outputs": [],
   "source": [
    "\n",
    "from pathlib import Path\n",
    "import pickle"
   ]
  },
  {
   "cell_type": "code",
   "execution_count": 2,
   "id": "787122e5",
   "metadata": {
    "execution": {
     "iopub.execute_input": "2022-03-03T05:39:34.934896Z",
     "iopub.status.busy": "2022-03-03T05:39:34.933899Z",
     "iopub.status.idle": "2022-03-03T05:39:34.938886Z",
     "shell.execute_reply": "2022-03-03T05:39:34.938886Z"
    },
    "papermill": {
     "duration": 0.034119,
     "end_time": "2022-03-03T05:39:34.939882",
     "exception": false,
     "start_time": "2022-03-03T05:39:34.905763",
     "status": "completed"
    },
    "tags": [
     "parameters"
    ]
   },
   "outputs": [],
   "source": [
    "upstream = ['read-csv', 'cleaning-and-converting-into-desired-format']\n",
    "product = None"
   ]
  },
  {
   "cell_type": "code",
   "execution_count": 3,
   "id": "f32d2809",
   "metadata": {
    "execution": {
     "iopub.execute_input": "2022-03-03T05:39:34.962821Z",
     "iopub.status.busy": "2022-03-03T05:39:34.961824Z",
     "iopub.status.idle": "2022-03-03T05:39:34.969846Z",
     "shell.execute_reply": "2022-03-03T05:39:34.969846Z"
    },
    "papermill": {
     "duration": 0.021985,
     "end_time": "2022-03-03T05:39:34.969846",
     "exception": false,
     "start_time": "2022-03-03T05:39:34.947861",
     "status": "completed"
    },
    "tags": [
     "injected-parameters"
    ]
   },
   "outputs": [],
   "source": [
    "# Parameters\n",
    "upstream = {\n",
    "    \"read-csv\": {\n",
    "        \"Y_col\": \"C:\\\\Users\\\\victor\\\\Documents\\\\notebooks\\\\output\\\\read-csv-Y_col.pkl\",\n",
    "        \"df\": \"C:\\\\Users\\\\victor\\\\Documents\\\\notebooks\\\\output\\\\read-csv-df.pkl\",\n",
    "        \"X_cols\": \"C:\\\\Users\\\\victor\\\\Documents\\\\notebooks\\\\output\\\\read-csv-X_cols.pkl\",\n",
    "        \"nb\": \"C:\\\\Users\\\\victor\\\\Documents\\\\notebooks\\\\output\\\\read-csv.ipynb\",\n",
    "    },\n",
    "    \"cleaning-and-converting-into-desired-format\": {\n",
    "        \"df\": \"C:\\\\Users\\\\victor\\\\Documents\\\\notebooks\\\\output\\\\cleaning-and-converting-into-desired-format-df.pkl\",\n",
    "        \"column_renamer\": \"C:\\\\Users\\\\victor\\\\Documents\\\\notebooks\\\\output\\\\cleaning-and-converting-into-desired-format-column_renamer.pkl\",\n",
    "        \"nb\": \"C:\\\\Users\\\\victor\\\\Documents\\\\notebooks\\\\output\\\\cleaning-and-converting-into-desired-format.ipynb\",\n",
    "    },\n",
    "}\n",
    "product = {\n",
    "    \"Y_df\": \"C:\\\\Users\\\\victor\\\\Documents\\\\notebooks\\\\output\\\\creating-dataframe-for-y-Y_df.pkl\",\n",
    "    \"nb\": \"C:\\\\Users\\\\victor\\\\Documents\\\\notebooks\\\\output\\\\creating-dataframe-for-y.ipynb\",\n",
    "}\n"
   ]
  },
  {
   "cell_type": "code",
   "execution_count": 4,
   "id": "60f82a60",
   "metadata": {
    "execution": {
     "iopub.execute_input": "2022-03-03T05:39:34.985466Z",
     "iopub.status.busy": "2022-03-03T05:39:34.985466Z",
     "iopub.status.idle": "2022-03-03T05:39:35.274013Z",
     "shell.execute_reply": "2022-03-03T05:39:35.274013Z"
    },
    "papermill": {
     "duration": 0.304167,
     "end_time": "2022-03-03T05:39:35.274013",
     "exception": false,
     "start_time": "2022-03-03T05:39:34.969846",
     "status": "completed"
    },
    "tags": [
     "soorgeon-unpickle"
    ]
   },
   "outputs": [],
   "source": [
    "column_renamer = pickle.loads(Path(upstream['cleaning-and-converting-into-desired-format']['column_renamer']).read_bytes())\n",
    "df = pickle.loads(Path(upstream['cleaning-and-converting-into-desired-format']['df']).read_bytes())\n",
    "Y_col = pickle.loads(Path(upstream['read-csv']['Y_col']).read_bytes())"
   ]
  },
  {
   "cell_type": "markdown",
   "id": "632d4baa",
   "metadata": {
    "papermill": {
     "duration": 0.009215,
     "end_time": "2022-03-03T05:39:35.283228",
     "exception": false,
     "start_time": "2022-03-03T05:39:35.274013",
     "status": "completed"
    },
    "tags": []
   },
   "source": [
    "## Creating DataFrame for Y"
   ]
  },
  {
   "cell_type": "code",
   "execution_count": 5,
   "id": "24e481ff",
   "metadata": {
    "execution": {
     "iopub.execute_input": "2022-03-03T05:39:35.294198Z",
     "iopub.status.busy": "2022-03-03T05:39:35.294198Z",
     "iopub.status.idle": "2022-03-03T05:39:35.365899Z",
     "shell.execute_reply": "2022-03-03T05:39:35.365899Z"
    },
    "papermill": {
     "duration": 0.077685,
     "end_time": "2022-03-03T05:39:35.365899",
     "exception": false,
     "start_time": "2022-03-03T05:39:35.288214",
     "status": "completed"
    },
    "tags": []
   },
   "outputs": [
    {
     "data": {
      "text/html": [
       "<div>\n",
       "<style scoped>\n",
       "    .dataframe tbody tr th:only-of-type {\n",
       "        vertical-align: middle;\n",
       "    }\n",
       "\n",
       "    .dataframe tbody tr th {\n",
       "        vertical-align: top;\n",
       "    }\n",
       "\n",
       "    .dataframe thead th {\n",
       "        text-align: right;\n",
       "    }\n",
       "</style>\n",
       "<table border=\"1\" class=\"dataframe\">\n",
       "  <thead>\n",
       "    <tr style=\"text-align: right;\">\n",
       "      <th></th>\n",
       "      <th>unique_id</th>\n",
       "      <th>ds</th>\n",
       "      <th>y</th>\n",
       "    </tr>\n",
       "  </thead>\n",
       "  <tbody>\n",
       "    <tr>\n",
       "      <th>2643</th>\n",
       "      <td>Bosnia and Herzegovina</td>\n",
       "      <td>2020-10-19</td>\n",
       "      <td>3824.0</td>\n",
       "    </tr>\n",
       "    <tr>\n",
       "      <th>8553</th>\n",
       "      <td>Guyana</td>\n",
       "      <td>2021-08-23</td>\n",
       "      <td>761.0</td>\n",
       "    </tr>\n",
       "    <tr>\n",
       "      <th>5653</th>\n",
       "      <td>Dominican Republic</td>\n",
       "      <td>2020-11-30</td>\n",
       "      <td>5159.0</td>\n",
       "    </tr>\n",
       "  </tbody>\n",
       "</table>\n",
       "</div>"
      ],
      "text/plain": [
       "                   unique_id         ds       y\n",
       "2643  Bosnia and Herzegovina 2020-10-19  3824.0\n",
       "8553                  Guyana 2021-08-23   761.0\n",
       "5653      Dominican Republic 2020-11-30  5159.0"
      ]
     },
     "execution_count": 5,
     "metadata": {},
     "output_type": "execute_result"
    }
   ],
   "source": [
    "Y_df = df[[\"location\", \"date\", Y_col]]\n",
    "Y_df = Y_df.rename(columns=column_renamer).fillna(0)\n",
    "Y_df.sample(3)"
   ]
  },
  {
   "cell_type": "code",
   "execution_count": 6,
   "id": "e08e511f",
   "metadata": {
    "execution": {
     "iopub.execute_input": "2022-03-03T05:39:35.365899Z",
     "iopub.status.busy": "2022-03-03T05:39:35.365899Z",
     "iopub.status.idle": "2022-03-03T05:39:35.381934Z",
     "shell.execute_reply": "2022-03-03T05:39:35.381934Z"
    },
    "papermill": {
     "duration": 0.017032,
     "end_time": "2022-03-03T05:39:35.382931",
     "exception": false,
     "start_time": "2022-03-03T05:39:35.365899",
     "status": "completed"
    },
    "tags": [
     "soorgeon-pickle"
    ]
   },
   "outputs": [
    {
     "data": {
      "text/plain": [
       "396288"
      ]
     },
     "execution_count": 6,
     "metadata": {},
     "output_type": "execute_result"
    }
   ],
   "source": [
    "Path(product['Y_df']).parent.mkdir(exist_ok=True, parents=True)\n",
    "Path(product['Y_df']).write_bytes(pickle.dumps(Y_df))"
   ]
  }
 ],
 "metadata": {
  "kernelspec": {
   "display_name": "Python 3 (ipykernel)",
   "language": "python",
   "name": "python3"
  },
  "language_info": {
   "codemirror_mode": {
    "name": "ipython",
    "version": 3
   },
   "file_extension": ".py",
   "mimetype": "text/x-python",
   "name": "python",
   "nbconvert_exporter": "python",
   "pygments_lexer": "ipython3",
   "version": "3.7.11"
  },
  "papermill": {
   "duration": 1.999177,
   "end_time": "2022-03-03T05:39:35.599911",
   "exception": null,
   "input_path": "C:\\Users\\victor\\AppData\\Local\\Temp\\tmp556gv2wc.ipynb",
   "output_path": "C:\\Users\\victor\\Documents\\notebooks\\output\\creating-dataframe-for-y.ipynb",
   "parameters": {
    "product": {
     "Y_df": "C:\\Users\\victor\\Documents\\notebooks\\output\\creating-dataframe-for-y-Y_df.pkl",
     "nb": "C:\\Users\\victor\\Documents\\notebooks\\output\\creating-dataframe-for-y.ipynb"
    },
    "upstream": {
     "cleaning-and-converting-into-desired-format": {
      "column_renamer": "C:\\Users\\victor\\Documents\\notebooks\\output\\cleaning-and-converting-into-desired-format-column_renamer.pkl",
      "df": "C:\\Users\\victor\\Documents\\notebooks\\output\\cleaning-and-converting-into-desired-format-df.pkl",
      "nb": "C:\\Users\\victor\\Documents\\notebooks\\output\\cleaning-and-converting-into-desired-format.ipynb"
     },
     "read-csv": {
      "X_cols": "C:\\Users\\victor\\Documents\\notebooks\\output\\read-csv-X_cols.pkl",
      "Y_col": "C:\\Users\\victor\\Documents\\notebooks\\output\\read-csv-Y_col.pkl",
      "df": "C:\\Users\\victor\\Documents\\notebooks\\output\\read-csv-df.pkl",
      "nb": "C:\\Users\\victor\\Documents\\notebooks\\output\\read-csv.ipynb"
     }
    }
   },
   "start_time": "2022-03-03T05:39:33.600734"
  }
 },
 "nbformat": 4,
 "nbformat_minor": 5
}