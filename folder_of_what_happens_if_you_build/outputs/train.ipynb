{
 "cells": [
  {
   "cell_type": "code",
   "execution_count": 1,
   "id": "8fdc8af9",
   "metadata": {
    "execution": {
     "iopub.execute_input": "2022-03-03T05:39:41.361317Z",
     "iopub.status.busy": "2022-03-03T05:39:41.361317Z",
     "iopub.status.idle": "2022-03-03T05:39:43.813863Z",
     "shell.execute_reply": "2022-03-03T05:39:43.813863Z"
    },
    "papermill": {
     "duration": 2.483787,
     "end_time": "2022-03-03T05:39:43.813863",
     "exception": false,
     "start_time": "2022-03-03T05:39:41.330076",
     "status": "completed"
    },
    "tags": [
     "soorgeon-imports"
    ]
   },
   "outputs": [],
   "source": [
    "import neuralforecast as nf\n",
    "from pathlib import Path\n",
    "import pickle"
   ]
  },
  {
   "cell_type": "code",
   "execution_count": 2,
   "id": "d60e25d2",
   "metadata": {
    "execution": {
     "iopub.execute_input": "2022-03-03T05:39:43.825929Z",
     "iopub.status.busy": "2022-03-03T05:39:43.825929Z",
     "iopub.status.idle": "2022-03-03T05:39:43.831912Z",
     "shell.execute_reply": "2022-03-03T05:39:43.832908Z"
    },
    "papermill": {
     "duration": 0.019045,
     "end_time": "2022-03-03T05:39:43.832908",
     "exception": false,
     "start_time": "2022-03-03T05:39:43.813863",
     "status": "completed"
    },
    "tags": [
     "parameters"
    ]
   },
   "outputs": [],
   "source": [
    "upstream = ['split-test-and-train']\n",
    "product = None"
   ]
  },
  {
   "cell_type": "code",
   "execution_count": 3,
   "id": "f809c83b",
   "metadata": {
    "execution": {
     "iopub.execute_input": "2022-03-03T05:39:43.860834Z",
     "iopub.status.busy": "2022-03-03T05:39:43.859836Z",
     "iopub.status.idle": "2022-03-03T05:39:43.877479Z",
     "shell.execute_reply": "2022-03-03T05:39:43.877479Z"
    },
    "papermill": {
     "duration": 0.032602,
     "end_time": "2022-03-03T05:39:43.877479",
     "exception": false,
     "start_time": "2022-03-03T05:39:43.844877",
     "status": "completed"
    },
    "tags": [
     "injected-parameters"
    ]
   },
   "outputs": [],
   "source": [
    "# Parameters\n",
    "upstream = {\n",
    "    \"split-test-and-train\": {\n",
    "        \"Y_df_test\": \"C:\\\\Users\\\\victor\\\\Documents\\\\notebooks\\\\output\\\\split-test-and-train-Y_df_test.pkl\",\n",
    "        \"output_size\": \"C:\\\\Users\\\\victor\\\\Documents\\\\notebooks\\\\output\\\\split-test-and-train-output_size.pkl\",\n",
    "        \"X_df_train\": \"C:\\\\Users\\\\victor\\\\Documents\\\\notebooks\\\\output\\\\split-test-and-train-X_df_train.pkl\",\n",
    "        \"input_size\": \"C:\\\\Users\\\\victor\\\\Documents\\\\notebooks\\\\output\\\\split-test-and-train-input_size.pkl\",\n",
    "        \"Y_df_train\": \"C:\\\\Users\\\\victor\\\\Documents\\\\notebooks\\\\output\\\\split-test-and-train-Y_df_train.pkl\",\n",
    "        \"nb\": \"C:\\\\Users\\\\victor\\\\Documents\\\\notebooks\\\\output\\\\split-test-and-train.ipynb\",\n",
    "    }\n",
    "}\n",
    "product = {\n",
    "    \"val_mask_df\": \"C:\\\\Users\\\\victor\\\\Documents\\\\notebooks\\\\output\\\\train-val_mask_df.pkl\",\n",
    "    \"train_mask_df\": \"C:\\\\Users\\\\victor\\\\Documents\\\\notebooks\\\\output\\\\train-train_mask_df.pkl\",\n",
    "    \"nb\": \"C:\\\\Users\\\\victor\\\\Documents\\\\notebooks\\\\output\\\\train.ipynb\",\n",
    "}\n"
   ]
  },
  {
   "cell_type": "code",
   "execution_count": 4,
   "id": "34c98b75",
   "metadata": {
    "execution": {
     "iopub.execute_input": "2022-03-03T05:39:43.893101Z",
     "iopub.status.busy": "2022-03-03T05:39:43.893101Z",
     "iopub.status.idle": "2022-03-03T05:39:43.908723Z",
     "shell.execute_reply": "2022-03-03T05:39:43.908723Z"
    },
    "papermill": {
     "duration": 0.031244,
     "end_time": "2022-03-03T05:39:43.908723",
     "exception": false,
     "start_time": "2022-03-03T05:39:43.877479",
     "status": "completed"
    },
    "tags": [
     "soorgeon-unpickle"
    ]
   },
   "outputs": [],
   "source": [
    "Y_df_train = pickle.loads(Path(upstream['split-test-and-train']['Y_df_train']).read_bytes())\n",
    "output_size = pickle.loads(Path(upstream['split-test-and-train']['output_size']).read_bytes())"
   ]
  },
  {
   "cell_type": "markdown",
   "id": "bae356c8",
   "metadata": {
    "papermill": {
     "duration": 0.019911,
     "end_time": "2022-03-03T05:39:43.928634",
     "exception": false,
     "start_time": "2022-03-03T05:39:43.908723",
     "status": "completed"
    },
    "tags": []
   },
   "source": [
    "## Train"
   ]
  },
  {
   "cell_type": "code",
   "execution_count": 5,
   "id": "a34bf70f",
   "metadata": {
    "execution": {
     "iopub.execute_input": "2022-03-03T05:39:43.944258Z",
     "iopub.status.busy": "2022-03-03T05:39:43.944258Z",
     "iopub.status.idle": "2022-03-03T05:39:43.976960Z",
     "shell.execute_reply": "2022-03-03T05:39:43.976960Z"
    },
    "papermill": {
     "duration": 0.048326,
     "end_time": "2022-03-03T05:39:43.976960",
     "exception": false,
     "start_time": "2022-03-03T05:39:43.928634",
     "status": "completed"
    },
    "tags": []
   },
   "outputs": [
    {
     "data": {
      "text/html": [
       "<div>\n",
       "<style scoped>\n",
       "    .dataframe tbody tr th:only-of-type {\n",
       "        vertical-align: middle;\n",
       "    }\n",
       "\n",
       "    .dataframe tbody tr th {\n",
       "        vertical-align: top;\n",
       "    }\n",
       "\n",
       "    .dataframe thead th {\n",
       "        text-align: right;\n",
       "    }\n",
       "</style>\n",
       "<table border=\"1\" class=\"dataframe\">\n",
       "  <thead>\n",
       "    <tr style=\"text-align: right;\">\n",
       "      <th></th>\n",
       "      <th>unique_id</th>\n",
       "      <th>ds</th>\n",
       "      <th>sample_mask</th>\n",
       "      <th>available_mask</th>\n",
       "    </tr>\n",
       "  </thead>\n",
       "  <tbody>\n",
       "    <tr>\n",
       "      <th>17081</th>\n",
       "      <td>South Korea</td>\n",
       "      <td>2020-02-03</td>\n",
       "      <td>1</td>\n",
       "      <td>1</td>\n",
       "    </tr>\n",
       "    <tr>\n",
       "      <th>18794</th>\n",
       "      <td>Turks and Caicos Islands</td>\n",
       "      <td>2021-02-08</td>\n",
       "      <td>1</td>\n",
       "      <td>1</td>\n",
       "    </tr>\n",
       "    <tr>\n",
       "      <th>13205</th>\n",
       "      <td>Netherlands</td>\n",
       "      <td>2021-07-05</td>\n",
       "      <td>1</td>\n",
       "      <td>1</td>\n",
       "    </tr>\n",
       "  </tbody>\n",
       "</table>\n",
       "</div>"
      ],
      "text/plain": [
       "                      unique_id         ds  sample_mask  available_mask\n",
       "17081               South Korea 2020-02-03            1               1\n",
       "18794  Turks and Caicos Islands 2021-02-08            1               1\n",
       "13205               Netherlands 2021-07-05            1               1"
      ]
     },
     "execution_count": 5,
     "metadata": {},
     "output_type": "execute_result"
    }
   ],
   "source": [
    "# This library tool tags the data as train and validation. See graph below\n",
    "train_mask_df, val_mask_df, _ = nf.experiments.utils.get_mask_dfs(\n",
    "    Y_df=Y_df_train,\n",
    "    ds_in_val=output_size,\n",
    "    ds_in_test=0\n",
    ")\n",
    "train_mask_df.sample(3)"
   ]
  },
  {
   "cell_type": "code",
   "execution_count": 6,
   "id": "38dfc9a5",
   "metadata": {
    "execution": {
     "iopub.execute_input": "2022-03-03T05:39:43.988928Z",
     "iopub.status.busy": "2022-03-03T05:39:43.988928Z",
     "iopub.status.idle": "2022-03-03T05:39:43.994462Z",
     "shell.execute_reply": "2022-03-03T05:39:43.994462Z"
    },
    "papermill": {
     "duration": 0.012516,
     "end_time": "2022-03-03T05:39:43.994462",
     "exception": false,
     "start_time": "2022-03-03T05:39:43.981946",
     "status": "completed"
    },
    "tags": [
     "soorgeon-pickle"
    ]
   },
   "outputs": [
    {
     "data": {
      "text/plain": [
       "548200"
      ]
     },
     "execution_count": 6,
     "metadata": {},
     "output_type": "execute_result"
    }
   ],
   "source": [
    "Path(product['train_mask_df']).parent.mkdir(exist_ok=True, parents=True)\n",
    "Path(product['train_mask_df']).write_bytes(pickle.dumps(train_mask_df))\n",
    "\n",
    "Path(product['val_mask_df']).parent.mkdir(exist_ok=True, parents=True)\n",
    "Path(product['val_mask_df']).write_bytes(pickle.dumps(val_mask_df))"
   ]
  }
 ],
 "metadata": {
  "kernelspec": {
   "display_name": "Python 3 (ipykernel)",
   "language": "python",
   "name": "python3"
  },
  "language_info": {
   "codemirror_mode": {
    "name": "ipython",
    "version": 3
   },
   "file_extension": ".py",
   "mimetype": "text/x-python",
   "name": "python",
   "nbconvert_exporter": "python",
   "pygments_lexer": "ipython3",
   "version": "3.7.11"
  },
  "papermill": {
   "duration": 4.270023,
   "end_time": "2022-03-03T05:39:44.328332",
   "exception": null,
   "input_path": "C:\\Users\\victor\\AppData\\Local\\Temp\\tmpq02l2c_y.ipynb",
   "output_path": "C:\\Users\\victor\\Documents\\notebooks\\output\\train.ipynb",
   "parameters": {
    "product": {
     "nb": "C:\\Users\\victor\\Documents\\notebooks\\output\\train.ipynb",
     "train_mask_df": "C:\\Users\\victor\\Documents\\notebooks\\output\\train-train_mask_df.pkl",
     "val_mask_df": "C:\\Users\\victor\\Documents\\notebooks\\output\\train-val_mask_df.pkl"
    },
    "upstream": {
     "split-test-and-train": {
      "X_df_train": "C:\\Users\\victor\\Documents\\notebooks\\output\\split-test-and-train-X_df_train.pkl",
      "Y_df_test": "C:\\Users\\victor\\Documents\\notebooks\\output\\split-test-and-train-Y_df_test.pkl",
      "Y_df_train": "C:\\Users\\victor\\Documents\\notebooks\\output\\split-test-and-train-Y_df_train.pkl",
      "input_size": "C:\\Users\\victor\\Documents\\notebooks\\output\\split-test-and-train-input_size.pkl",
      "nb": "C:\\Users\\victor\\Documents\\notebooks\\output\\split-test-and-train.ipynb",
      "output_size": "C:\\Users\\victor\\Documents\\notebooks\\output\\split-test-and-train-output_size.pkl"
     }
    }
   },
   "start_time": "2022-03-03T05:39:40.058309"
  }
 },
 "nbformat": 4,
 "nbformat_minor": 5
}