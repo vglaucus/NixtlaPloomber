{
 "cells": [
  {
   "cell_type": "code",
   "execution_count": 1,
   "id": "d12e8775",
   "metadata": {
    "execution": {
     "iopub.execute_input": "2022-03-03T05:40:11.017397Z",
     "iopub.status.busy": "2022-03-03T05:40:11.016399Z",
     "iopub.status.idle": "2022-03-03T05:40:12.091533Z",
     "shell.execute_reply": "2022-03-03T05:40:12.091533Z"
    },
    "papermill": {
     "duration": 1.108566,
     "end_time": "2022-03-03T05:40:12.091533",
     "exception": false,
     "start_time": "2022-03-03T05:40:10.982967",
     "status": "completed"
    },
    "tags": [
     "soorgeon-imports"
    ]
   },
   "outputs": [],
   "source": [
    "import pytorch_lightning as pl\n",
    "import torch as t\n",
    "from pathlib import Path\n",
    "import pickle"
   ]
  },
  {
   "cell_type": "code",
   "execution_count": 2,
   "id": "8813efbe",
   "metadata": {
    "execution": {
     "iopub.execute_input": "2022-03-03T05:40:12.102505Z",
     "iopub.status.busy": "2022-03-03T05:40:12.101511Z",
     "iopub.status.idle": "2022-03-03T05:40:12.107491Z",
     "shell.execute_reply": "2022-03-03T05:40:12.107491Z"
    },
    "papermill": {
     "duration": 0.011969,
     "end_time": "2022-03-03T05:40:12.107491",
     "exception": false,
     "start_time": "2022-03-03T05:40:12.095522",
     "status": "completed"
    },
    "tags": [
     "parameters"
    ]
   },
   "outputs": [],
   "source": [
    "upstream = ['converting-into-timeseriesloader', 'instancing-the-model']\n",
    "product = None"
   ]
  },
  {
   "cell_type": "code",
   "execution_count": 3,
   "id": "802cb534",
   "metadata": {
    "execution": {
     "iopub.execute_input": "2022-03-03T05:40:12.119461Z",
     "iopub.status.busy": "2022-03-03T05:40:12.118463Z",
     "iopub.status.idle": "2022-03-03T05:40:12.123450Z",
     "shell.execute_reply": "2022-03-03T05:40:12.124446Z"
    },
    "papermill": {
     "duration": 0.013963,
     "end_time": "2022-03-03T05:40:12.125443",
     "exception": false,
     "start_time": "2022-03-03T05:40:12.111480",
     "status": "completed"
    },
    "tags": [
     "injected-parameters"
    ]
   },
   "outputs": [],
   "source": [
    "# Parameters\n",
    "upstream = {\n",
    "    \"instancing-the-model\": {\n",
    "        \"model\": \"C:\\\\Users\\\\victor\\\\Documents\\\\notebooks\\\\output\\\\instancing-the-model-model.pkl\",\n",
    "        \"nb\": \"C:\\\\Users\\\\victor\\\\Documents\\\\notebooks\\\\output\\\\instancing-the-model.ipynb\",\n",
    "    },\n",
    "    \"converting-into-timeseriesloader\": {\n",
    "        \"val_loader\": \"C:\\\\Users\\\\victor\\\\Documents\\\\notebooks\\\\output\\\\converting-into-timeseriesloader-val_loader.pkl\",\n",
    "        \"train_loader\": \"C:\\\\Users\\\\victor\\\\Documents\\\\notebooks\\\\output\\\\converting-into-timeseriesloader-train_loader.pkl\",\n",
    "        \"nb\": \"C:\\\\Users\\\\victor\\\\Documents\\\\notebooks\\\\output\\\\converting-into-timeseriesloader.ipynb\",\n",
    "    },\n",
    "}\n",
    "product = {\n",
    "    \"nb\": \"C:\\\\Users\\\\victor\\\\Documents\\\\notebooks\\\\output\\\\training-the-model.ipynb\"\n",
    "}\n"
   ]
  },
  {
   "cell_type": "code",
   "execution_count": 4,
   "id": "ece32682",
   "metadata": {
    "execution": {
     "iopub.execute_input": "2022-03-03T05:40:12.149379Z",
     "iopub.status.busy": "2022-03-03T05:40:12.148381Z",
     "iopub.status.idle": "2022-03-03T05:40:13.690269Z",
     "shell.execute_reply": "2022-03-03T05:40:13.689272Z"
    },
    "papermill": {
     "duration": 1.55585,
     "end_time": "2022-03-03T05:40:13.690269",
     "exception": false,
     "start_time": "2022-03-03T05:40:12.134419",
     "status": "completed"
    },
    "tags": [
     "soorgeon-unpickle"
    ]
   },
   "outputs": [],
   "source": [
    "train_loader = pickle.loads(Path(upstream['converting-into-timeseriesloader']['train_loader']).read_bytes())\n",
    "val_loader = pickle.loads(Path(upstream['converting-into-timeseriesloader']['val_loader']).read_bytes())\n",
    "model = pickle.loads(Path(upstream['instancing-the-model']['model']).read_bytes())"
   ]
  },
  {
   "cell_type": "markdown",
   "id": "bc894f7d",
   "metadata": {
    "papermill": {
     "duration": 0.00399,
     "end_time": "2022-03-03T05:40:13.699246",
     "exception": false,
     "start_time": "2022-03-03T05:40:13.695256",
     "status": "completed"
    },
    "tags": []
   },
   "source": [
    "## Training the model"
   ]
  },
  {
   "cell_type": "code",
   "execution_count": 5,
   "id": "7f4804e7",
   "metadata": {
    "execution": {
     "iopub.execute_input": "2022-03-03T05:40:13.710216Z",
     "iopub.status.busy": "2022-03-03T05:40:13.710216Z",
     "iopub.status.idle": "2022-03-03T05:40:20.441726Z",
     "shell.execute_reply": "2022-03-03T05:40:20.441726Z"
    },
    "papermill": {
     "duration": 6.738492,
     "end_time": "2022-03-03T05:40:20.441726",
     "exception": false,
     "start_time": "2022-03-03T05:40:13.703234",
     "status": "completed"
    },
    "scrolled": true,
    "tags": []
   },
   "outputs": [
    {
     "name": "stderr",
     "output_type": "stream",
     "text": [
      "GPU available: False, used: False\n"
     ]
    },
    {
     "name": "stderr",
     "output_type": "stream",
     "text": [
      "TPU available: False, using: 0 TPU cores\n"
     ]
    },
    {
     "name": "stderr",
     "output_type": "stream",
     "text": [
      "IPU available: False, using: 0 IPUs\n"
     ]
    },
    {
     "name": "stderr",
     "output_type": "stream",
     "text": [
      "\n",
      "  | Name  | Type    | Params\n",
      "----------------------------------\n",
      "0 | model | _NBEATS | 973 K \n",
      "----------------------------------\n",
      "973 K     Trainable params\n",
      "0         Non-trainable params\n",
      "973 K     Total params\n",
      "3.896     Total estimated model params size (MB)\n"
     ]
    },
    {
     "name": "stdout",
     "output_type": "stream",
     "text": [
      "\r",
      "Validation sanity check: 0it [00:00, ?it/s]"
     ]
    },
    {
     "name": "stdout",
     "output_type": "stream",
     "text": [
      "\r",
      "Validation sanity check:   0%|                                                     | 0/2 [00:00<?, ?it/s]"
     ]
    },
    {
     "name": "stdout",
     "output_type": "stream",
     "text": [
      "\r",
      "                                                                                                         "
     ]
    },
    {
     "name": "stderr",
     "output_type": "stream",
     "text": [
      "C:\\Users\\victor\\anaconda3\\envs\\myenv2\\lib\\site-packages\\pytorch_lightning\\trainer\\data_loading.py:133: UserWarning: The dataloader, val_dataloader 0, does not have many workers which may be a bottleneck. Consider increasing the value of the `num_workers` argument` (try 8 which is the number of cpus on this machine) in the `DataLoader` init to improve performance.\n",
      "  f\"The dataloader, {name}, does not have many workers which may be a bottleneck.\"\n",
      "C:\\Users\\victor\\anaconda3\\envs\\myenv2\\lib\\site-packages\\pytorch_lightning\\trainer\\data_loading.py:133: UserWarning: The dataloader, train_dataloader, does not have many workers which may be a bottleneck. Consider increasing the value of the `num_workers` argument` (try 8 which is the number of cpus on this machine) in the `DataLoader` init to improve performance.\n",
      "  f\"The dataloader, {name}, does not have many workers which may be a bottleneck.\"\n",
      "C:\\Users\\victor\\anaconda3\\envs\\myenv2\\lib\\site-packages\\pytorch_lightning\\trainer\\data_loading.py:433: UserWarning: The number of training samples (8) is smaller than the logging interval Trainer(log_every_n_steps=50). Set a lower value for log_every_n_steps if you want to see logs for the training epoch.\n",
      "  f\"The number of training samples ({self.num_training_batches}) is smaller than the logging interval\"\n"
     ]
    },
    {
     "name": "stdout",
     "output_type": "stream",
     "text": [
      "\r"
     ]
    },
    {
     "name": "stdout",
     "output_type": "stream",
     "text": [
      "\r",
      "Training: 0it [00:00, ?it/s]"
     ]
    },
    {
     "name": "stdout",
     "output_type": "stream",
     "text": [
      "\r",
      "Training:   0%|                                                                  | 0/240 [00:00<?, ?it/s]"
     ]
    },
    {
     "name": "stdout",
     "output_type": "stream",
     "text": [
      "\r",
      "Epoch 0:   0%|                                                                   | 0/240 [00:00<?, ?it/s]"
     ]
    },
    {
     "name": "stdout",
     "output_type": "stream",
     "text": [
      "\r",
      "Epoch 0:   0%|          | 1/240 [00:00<00:09, 25.71it/s, loss=1.84e+04, v_num=1, train_loss_step=1.84e+4]"
     ]
    },
    {
     "name": "stdout",
     "output_type": "stream",
     "text": [
      "\r",
      "Epoch 0:   1%|          | 2/240 [00:00<00:07, 30.38it/s, loss=1.59e+04, v_num=1, train_loss_step=1.34e+4]"
     ]
    },
    {
     "name": "stdout",
     "output_type": "stream",
     "text": [
      "\r",
      "Epoch 0:   1%|▏         | 3/240 [00:00<00:07, 32.00it/s, loss=1.85e+04, v_num=1, train_loss_step=2.36e+4]"
     ]
    },
    {
     "name": "stdout",
     "output_type": "stream",
     "text": [
      "\r",
      "Epoch 0:   2%|▏         | 4/240 [00:00<00:06, 33.99it/s, loss=1.85e+04, v_num=1, train_loss_step=2.36e+4]"
     ]
    },
    {
     "name": "stdout",
     "output_type": "stream",
     "text": [
      "\r",
      "Epoch 0:   2%|▏         | 4/240 [00:00<00:07, 33.70it/s, loss=2.29e+04, v_num=1, train_loss_step=3.64e+4]"
     ]
    },
    {
     "name": "stdout",
     "output_type": "stream",
     "text": [
      "\r",
      "Epoch 0:   2%|▏         | 5/240 [00:00<00:06, 34.57it/s, loss=1.92e+04, v_num=1, train_loss_step=4.32e+3]"
     ]
    },
    {
     "name": "stdout",
     "output_type": "stream",
     "text": [
      "\r",
      "Epoch 0:   2%|▎         | 6/240 [00:00<00:06, 34.98it/s, loss=1.97e+04, v_num=1, train_loss_step=2.23e+4]"
     ]
    },
    {
     "name": "stdout",
     "output_type": "stream",
     "text": [
      "\r",
      "Epoch 0:   3%|▎         | 7/240 [00:00<00:06, 36.37it/s, loss=1.85e+04, v_num=1, train_loss_step=1.13e+4]"
     ]
    },
    {
     "name": "stdout",
     "output_type": "stream",
     "text": [
      "\r",
      "Epoch 0:   3%|▎         | 8/240 [00:00<00:06, 38.02it/s, loss=1.66e+04, v_num=1, train_loss_step=2.99e+3]"
     ]
    },
    {
     "name": "stdout",
     "output_type": "stream",
     "text": [
      "\n"
     ]
    },
    {
     "name": "stdout",
     "output_type": "stream",
     "text": [
      "\r",
      "Validating: 0it [00:00, ?it/s]"
     ]
    },
    {
     "name": "stdout",
     "output_type": "stream",
     "text": [
      "\u001b[A"
     ]
    },
    {
     "name": "stdout",
     "output_type": "stream",
     "text": [
      "\n"
     ]
    },
    {
     "name": "stdout",
     "output_type": "stream",
     "text": [
      "\r",
      "Validating:   0%|                                                                | 0/232 [00:00<?, ?it/s]"
     ]
    },
    {
     "name": "stdout",
     "output_type": "stream",
     "text": [
      "\u001b[A"
     ]
    },
    {
     "name": "stdout",
     "output_type": "stream",
     "text": [
      "\r",
      "Epoch 0:   4%|▍        | 10/240 [00:00<00:05, 45.78it/s, loss=1.66e+04, v_num=1, train_loss_step=2.99e+3]"
     ]
    },
    {
     "name": "stdout",
     "output_type": "stream",
     "text": [
      "\n"
     ]
    },
    {
     "name": "stdout",
     "output_type": "stream",
     "text": [
      "\r",
      "Validating:  25%|█████████████▋                                        | 59/232 [00:00<00:00, 585.72it/s]"
     ]
    },
    {
     "name": "stdout",
     "output_type": "stream",
     "text": [
      "\u001b[A"
     ]
    },
    {
     "name": "stdout",
     "output_type": "stream",
     "text": [
      "\r",
      "Epoch 0:  29%|██▎     | 70/240 [00:00<00:00, 219.33it/s, loss=1.66e+04, v_num=1, train_loss_step=2.99e+3]"
     ]
    },
    {
     "name": "stdout",
     "output_type": "stream",
     "text": [
      "\n"
     ]
    },
    {
     "name": "stdout",
     "output_type": "stream",
     "text": [
      "\r",
      "Validating:  51%|██████████████████████████▉                          | 118/232 [00:00<00:00, 577.29it/s]"
     ]
    },
    {
     "name": "stdout",
     "output_type": "stream",
     "text": [
      "\u001b[A"
     ]
    },
    {
     "name": "stdout",
     "output_type": "stream",
     "text": [
      "\r",
      "Epoch 0:  54%|███▊   | 130/240 [00:00<00:00, 306.34it/s, loss=1.66e+04, v_num=1, train_loss_step=2.99e+3]"
     ]
    },
    {
     "name": "stdout",
     "output_type": "stream",
     "text": [
      "\n"
     ]
    },
    {
     "name": "stdout",
     "output_type": "stream",
     "text": [
      "\r",
      "Validating:  77%|████████████████████████████████████████▉            | 179/232 [00:00<00:00, 591.42it/s]"
     ]
    },
    {
     "name": "stdout",
     "output_type": "stream",
     "text": [
      "\u001b[A"
     ]
    },
    {
     "name": "stdout",
     "output_type": "stream",
     "text": [
      "\r",
      "Epoch 0:  79%|█████▌ | 190/240 [00:00<00:00, 362.86it/s, loss=1.66e+04, v_num=1, train_loss_step=2.99e+3]"
     ]
    },
    {
     "name": "stdout",
     "output_type": "stream",
     "text": [
      "\r",
      "Epoch 0: 100%|█| 240/240 [00:00<00:00, 386.88it/s, loss=1.66e+04, v_num=1, train_loss_step=2.99e+3, val_l"
     ]
    },
    {
     "name": "stdout",
     "output_type": "stream",
     "text": [
      "\n"
     ]
    },
    {
     "name": "stdout",
     "output_type": "stream",
     "text": [
      "\r",
      "                                                                                                         "
     ]
    },
    {
     "name": "stdout",
     "output_type": "stream",
     "text": [
      "\u001b[A"
     ]
    },
    {
     "name": "stdout",
     "output_type": "stream",
     "text": [
      "\r",
      "Epoch 0: 100%|█| 240/240 [00:00<00:00, 385.02it/s, loss=1.66e+04, v_num=1, train_loss_step=2.99e+3, val_l"
     ]
    },
    {
     "name": "stdout",
     "output_type": "stream",
     "text": [
      "\r",
      "Epoch 0:   0%| | 0/240 [00:00<?, ?it/s, loss=1.66e+04, v_num=1, train_loss_step=2.99e+3, val_loss=1.36e+4"
     ]
    },
    {
     "name": "stdout",
     "output_type": "stream",
     "text": [
      "\r",
      "Epoch 1:   0%| | 0/240 [00:00<?, ?it/s, loss=1.66e+04, v_num=1, train_loss_step=2.99e+3, val_loss=1.36e+4"
     ]
    },
    {
     "name": "stdout",
     "output_type": "stream",
     "text": [
      "\r",
      "Epoch 1:   0%| | 1/240 [00:00<00:08, 27.10it/s, loss=1.68e+04, v_num=1, train_loss_step=1.88e+4, val_loss"
     ]
    },
    {
     "name": "stdout",
     "output_type": "stream",
     "text": [
      "\r",
      "Epoch 1:   1%| | 2/240 [00:00<00:07, 33.42it/s, loss=1.68e+04, v_num=1, train_loss_step=1.62e+4, val_loss"
     ]
    },
    {
     "name": "stdout",
     "output_type": "stream",
     "text": [
      "\r",
      "Epoch 1:   1%| | 3/240 [00:00<00:06, 36.24it/s, loss=1.57e+04, v_num=1, train_loss_step=4.66e+3, val_loss"
     ]
    },
    {
     "name": "stdout",
     "output_type": "stream",
     "text": [
      "\r",
      "Epoch 1:   2%| | 4/240 [00:00<00:06, 37.84it/s, loss=1.56e+04, v_num=1, train_loss_step=1.53e+4, val_loss"
     ]
    },
    {
     "name": "stdout",
     "output_type": "stream",
     "text": [
      "\r",
      "Epoch 1:   2%| | 5/240 [00:00<00:06, 38.27it/s, loss=1.51e+04, v_num=1, train_loss_step=8.32e+3, val_loss"
     ]
    },
    {
     "name": "stdout",
     "output_type": "stream",
     "text": [
      "\r",
      "Epoch 1:   2%| | 6/240 [00:00<00:06, 38.56it/s, loss=1.51e+04, v_num=1, train_loss_step=1.61e+4, val_loss"
     ]
    },
    {
     "name": "stdout",
     "output_type": "stream",
     "text": [
      "\r",
      "Epoch 1:   3%| | 7/240 [00:00<00:05, 39.65it/s, loss=1.5e+04, v_num=1, train_loss_step=1.33e+4, val_loss="
     ]
    },
    {
     "name": "stdout",
     "output_type": "stream",
     "text": [
      "\r",
      "Epoch 1:   3%| | 8/240 [00:00<00:05, 40.72it/s, loss=1.68e+04, v_num=1, train_loss_step=4.29e+4, val_loss"
     ]
    },
    {
     "name": "stdout",
     "output_type": "stream",
     "text": [
      "\n"
     ]
    },
    {
     "name": "stdout",
     "output_type": "stream",
     "text": [
      "\r",
      "Validating: 0it [00:00, ?it/s]"
     ]
    },
    {
     "name": "stdout",
     "output_type": "stream",
     "text": [
      "\u001b[A"
     ]
    },
    {
     "name": "stdout",
     "output_type": "stream",
     "text": [
      "\n"
     ]
    },
    {
     "name": "stdout",
     "output_type": "stream",
     "text": [
      "\r",
      "Validating:   0%|                                                                | 0/232 [00:00<?, ?it/s]"
     ]
    },
    {
     "name": "stdout",
     "output_type": "stream",
     "text": [
      "\u001b[A"
     ]
    },
    {
     "name": "stdout",
     "output_type": "stream",
     "text": [
      "\r",
      "Epoch 1:  25%|▎| 60/240 [00:00<00:00, 205.33it/s, loss=1.68e+04, v_num=1, train_loss_step=4.29e+4, val_lo"
     ]
    },
    {
     "name": "stdout",
     "output_type": "stream",
     "text": [
      "\n"
     ]
    },
    {
     "name": "stdout",
     "output_type": "stream",
     "text": [
      "\r",
      "Validating:  24%|█████████████                                         | 56/232 [00:00<00:00, 550.49it/s]"
     ]
    },
    {
     "name": "stdout",
     "output_type": "stream",
     "text": [
      "\u001b[A"
     ]
    },
    {
     "name": "stdout",
     "output_type": "stream",
     "text": [
      "\r",
      "Epoch 1:  50%|▌| 120/240 [00:00<00:00, 303.84it/s, loss=1.68e+04, v_num=1, train_loss_step=4.29e+4, val_l"
     ]
    },
    {
     "name": "stdout",
     "output_type": "stream",
     "text": [
      "\n"
     ]
    },
    {
     "name": "stdout",
     "output_type": "stream",
     "text": [
      "\r",
      "Validating:  50%|██████████████████████████▎                          | 115/232 [00:00<00:00, 567.83it/s]"
     ]
    },
    {
     "name": "stdout",
     "output_type": "stream",
     "text": [
      "\u001b[A"
     ]
    },
    {
     "name": "stdout",
     "output_type": "stream",
     "text": [
      "\r",
      "Epoch 1:  75%|▊| 180/240 [00:00<00:00, 355.98it/s, loss=1.68e+04, v_num=1, train_loss_step=4.29e+4, val_l"
     ]
    },
    {
     "name": "stdout",
     "output_type": "stream",
     "text": [
      "\n"
     ]
    },
    {
     "name": "stdout",
     "output_type": "stream",
     "text": [
      "\r",
      "Validating:  74%|███████████████████████████████████████▎             | 172/232 [00:00<00:00, 554.47it/s]"
     ]
    },
    {
     "name": "stdout",
     "output_type": "stream",
     "text": [
      "\u001b[A"
     ]
    },
    {
     "name": "stdout",
     "output_type": "stream",
     "text": [
      "\n"
     ]
    },
    {
     "name": "stdout",
     "output_type": "stream",
     "text": [
      "\r",
      "Validating:  98%|████████████████████████████████████████████████████ | 228/232 [00:00<00:00, 555.04it/s]"
     ]
    },
    {
     "name": "stdout",
     "output_type": "stream",
     "text": [
      "\u001b[A"
     ]
    },
    {
     "name": "stdout",
     "output_type": "stream",
     "text": [
      "\r",
      "Epoch 1: 100%|█| 240/240 [00:00<00:00, 389.39it/s, loss=1.68e+04, v_num=1, train_loss_step=4.29e+4, val_l"
     ]
    },
    {
     "name": "stdout",
     "output_type": "stream",
     "text": [
      "\r",
      "Epoch 1: 100%|█| 240/240 [00:00<00:00, 386.88it/s, loss=1.68e+04, v_num=1, train_loss_step=4.29e+4, val_l"
     ]
    },
    {
     "name": "stdout",
     "output_type": "stream",
     "text": [
      "\n"
     ]
    },
    {
     "name": "stdout",
     "output_type": "stream",
     "text": [
      "\r",
      "                                                                                                         "
     ]
    },
    {
     "name": "stdout",
     "output_type": "stream",
     "text": [
      "\u001b[A"
     ]
    },
    {
     "name": "stdout",
     "output_type": "stream",
     "text": [
      "\r",
      "Epoch 1: 100%|█| 240/240 [00:00<00:00, 385.03it/s, loss=1.68e+04, v_num=1, train_loss_step=4.29e+4, val_l"
     ]
    },
    {
     "name": "stdout",
     "output_type": "stream",
     "text": [
      "\r",
      "Epoch 1:   0%| | 0/240 [00:00<?, ?it/s, loss=1.68e+04, v_num=1, train_loss_step=4.29e+4, val_loss=9.63e+3"
     ]
    },
    {
     "name": "stdout",
     "output_type": "stream",
     "text": [
      "\r",
      "Epoch 2:   0%| | 0/240 [00:00<?, ?it/s, loss=1.68e+04, v_num=1, train_loss_step=4.29e+4, val_loss=9.63e+3"
     ]
    },
    {
     "name": "stdout",
     "output_type": "stream",
     "text": [
      "\r",
      "Epoch 2:   0%| | 1/240 [00:00<00:08, 27.85it/s, loss=1.66e+04, v_num=1, train_loss_step=1.46e+4, val_loss"
     ]
    },
    {
     "name": "stdout",
     "output_type": "stream",
     "text": [
      "\r",
      "Epoch 2:   1%| | 2/240 [00:00<00:07, 31.33it/s, loss=1.62e+04, v_num=1, train_loss_step=9.11e+3, val_loss"
     ]
    },
    {
     "name": "stdout",
     "output_type": "stream",
     "text": [
      "\r",
      "Epoch 2:   1%| | 3/240 [00:00<00:07, 32.34it/s, loss=1.66e+04, v_num=1, train_loss_step=2.39e+4, val_loss"
     ]
    },
    {
     "name": "stdout",
     "output_type": "stream",
     "text": [
      "\r",
      "Epoch 2:   2%| | 4/240 [00:00<00:07, 33.15it/s, loss=1.67e+04, v_num=1, train_loss_step=1.84e+4, val_loss"
     ]
    },
    {
     "name": "stdout",
     "output_type": "stream",
     "text": [
      "\r",
      "Epoch 2:   2%| | 5/240 [00:00<00:06, 33.87it/s, loss=1.72e+04, v_num=1, train_loss_step=2.77e+4, val_loss"
     ]
    },
    {
     "name": "stdout",
     "output_type": "stream",
     "text": [
      "\r",
      "Epoch 2:   2%| | 6/240 [00:00<00:06, 34.98it/s, loss=1.71e+04, v_num=1, train_loss_step=1.15e+4, val_loss"
     ]
    },
    {
     "name": "stdout",
     "output_type": "stream",
     "text": [
      "\r",
      "Epoch 2:   3%| | 7/240 [00:00<00:06, 37.14it/s, loss=1.68e+04, v_num=1, train_loss_step=1.86e+4, val_loss"
     ]
    },
    {
     "name": "stdout",
     "output_type": "stream",
     "text": [
      "\r",
      "Epoch 2:   3%| | 8/240 [00:00<00:06, 38.56it/s, loss=1.51e+04, v_num=1, train_loss_step=1.51e+3, val_loss"
     ]
    },
    {
     "name": "stdout",
     "output_type": "stream",
     "text": [
      "\n"
     ]
    },
    {
     "name": "stdout",
     "output_type": "stream",
     "text": [
      "\r",
      "Validating: 0it [00:00, ?it/s]"
     ]
    },
    {
     "name": "stdout",
     "output_type": "stream",
     "text": [
      "\u001b[A"
     ]
    },
    {
     "name": "stdout",
     "output_type": "stream",
     "text": [
      "\n"
     ]
    },
    {
     "name": "stdout",
     "output_type": "stream",
     "text": [
      "\r",
      "Validating:   0%|                                                                | 0/232 [00:00<?, ?it/s]"
     ]
    },
    {
     "name": "stdout",
     "output_type": "stream",
     "text": [
      "\u001b[A"
     ]
    },
    {
     "name": "stdout",
     "output_type": "stream",
     "text": [
      "\r",
      "Epoch 2:  25%|▎| 60/240 [00:00<00:00, 196.60it/s, loss=1.51e+04, v_num=1, train_loss_step=1.51e+3, val_lo"
     ]
    },
    {
     "name": "stdout",
     "output_type": "stream",
     "text": [
      "\n"
     ]
    },
    {
     "name": "stdout",
     "output_type": "stream",
     "text": [
      "\r",
      "Validating:  24%|████████████▊                                         | 55/232 [00:00<00:00, 546.01it/s]"
     ]
    },
    {
     "name": "stdout",
     "output_type": "stream",
     "text": [
      "\u001b[A"
     ]
    },
    {
     "name": "stdout",
     "output_type": "stream",
     "text": [
      "\r",
      "Epoch 2:  51%|▌| 122/240 [00:00<00:00, 300.56it/s, loss=1.51e+04, v_num=1, train_loss_step=1.51e+3, val_l"
     ]
    },
    {
     "name": "stdout",
     "output_type": "stream",
     "text": [
      "\n"
     ]
    },
    {
     "name": "stdout",
     "output_type": "stream",
     "text": [
      "\r",
      "Validating:  50%|██████████████████████████▌                          | 116/232 [00:00<00:00, 581.05it/s]"
     ]
    },
    {
     "name": "stdout",
     "output_type": "stream",
     "text": [
      "\u001b[A"
     ]
    },
    {
     "name": "stdout",
     "output_type": "stream",
     "text": [
      "\n"
     ]
    },
    {
     "name": "stdout",
     "output_type": "stream",
     "text": [
      "\r",
      "Validating:  75%|███████████████████████████████████████▉             | 175/232 [00:00<00:00, 567.78it/s]"
     ]
    },
    {
     "name": "stdout",
     "output_type": "stream",
     "text": [
      "\u001b[A"
     ]
    },
    {
     "name": "stdout",
     "output_type": "stream",
     "text": [
      "\r",
      "Epoch 2:  77%|▊| 184/240 [00:00<00:00, 353.43it/s, loss=1.51e+04, v_num=1, train_loss_step=1.51e+3, val_l"
     ]
    },
    {
     "name": "stdout",
     "output_type": "stream",
     "text": [
      "\n"
     ]
    },
    {
     "name": "stdout",
     "output_type": "stream",
     "text": [
      "\r",
      "Validating: 100%|█████████████████████████████████████████████████████| 232/232 [00:00<00:00, 558.45it/s]"
     ]
    },
    {
     "name": "stdout",
     "output_type": "stream",
     "text": [
      "\u001b[A"
     ]
    },
    {
     "name": "stdout",
     "output_type": "stream",
     "text": [
      "\r",
      "Epoch 2: 100%|█| 240/240 [00:00<00:00, 382.58it/s, loss=1.51e+04, v_num=1, train_loss_step=1.51e+3, val_l"
     ]
    },
    {
     "name": "stdout",
     "output_type": "stream",
     "text": [
      "\n"
     ]
    },
    {
     "name": "stdout",
     "output_type": "stream",
     "text": [
      "\r",
      "                                                                                                         "
     ]
    },
    {
     "name": "stdout",
     "output_type": "stream",
     "text": [
      "\u001b[A"
     ]
    },
    {
     "name": "stdout",
     "output_type": "stream",
     "text": [
      "\r",
      "Epoch 2: 100%|█| 240/240 [00:00<00:00, 380.76it/s, loss=1.51e+04, v_num=1, train_loss_step=1.51e+3, val_l"
     ]
    },
    {
     "name": "stdout",
     "output_type": "stream",
     "text": [
      "\r",
      "Epoch 2:   0%| | 0/240 [00:00<?, ?it/s, loss=1.51e+04, v_num=1, train_loss_step=1.51e+3, val_loss=1e+4, t"
     ]
    },
    {
     "name": "stdout",
     "output_type": "stream",
     "text": [
      "\r",
      "Epoch 3:   0%| | 0/240 [00:00<?, ?it/s, loss=1.51e+04, v_num=1, train_loss_step=1.51e+3, val_loss=1e+4, t"
     ]
    },
    {
     "name": "stdout",
     "output_type": "stream",
     "text": [
      "\r",
      "Epoch 3:   0%| | 1/240 [00:00<00:08, 27.10it/s, loss=1.56e+04, v_num=1, train_loss_step=1.5e+4, val_loss="
     ]
    },
    {
     "name": "stdout",
     "output_type": "stream",
     "text": [
      "\r",
      "Epoch 3:   1%| | 2/240 [00:00<00:08, 28.65it/s, loss=1.53e+04, v_num=1, train_loss_step=1.51e+4, val_loss"
     ]
    },
    {
     "name": "stdout",
     "output_type": "stream",
     "text": [
      "\r",
      "Epoch 3:   1%| | 3/240 [00:00<00:07, 31.66it/s, loss=1.5e+04, v_num=1, train_loss_step=5.28e+3, val_loss="
     ]
    },
    {
     "name": "stdout",
     "output_type": "stream",
     "text": [
      "\r",
      "Epoch 3:   2%| | 4/240 [00:00<00:07, 33.15it/s, loss=1.61e+04, v_num=1, train_loss_step=2.52e+4, val_loss"
     ]
    },
    {
     "name": "stdout",
     "output_type": "stream",
     "text": [
      "\r",
      "Epoch 3:   2%| | 5/240 [00:00<00:06, 34.10it/s, loss=1.67e+04, v_num=1, train_loss_step=3.12e+4, val_loss"
     ]
    },
    {
     "name": "stdout",
     "output_type": "stream",
     "text": [
      "\r",
      "Epoch 3:   2%| | 6/240 [00:00<00:06, 33.80it/s, loss=1.66e+04, v_num=1, train_loss_step=1.38e+4, val_loss"
     ]
    },
    {
     "name": "stdout",
     "output_type": "stream",
     "text": [
      "\r",
      "Epoch 3:   3%| | 7/240 [00:00<00:06, 34.92it/s, loss=1.75e+04, v_num=1, train_loss_step=2.35e+4, val_loss"
     ]
    },
    {
     "name": "stdout",
     "output_type": "stream",
     "text": [
      "\r",
      "Epoch 3:   3%| | 8/240 [00:00<00:06, 36.96it/s, loss=1.69e+04, v_num=1, train_loss_step=2.57e+3, val_loss"
     ]
    },
    {
     "name": "stdout",
     "output_type": "stream",
     "text": [
      "\n"
     ]
    },
    {
     "name": "stdout",
     "output_type": "stream",
     "text": [
      "\r",
      "Validating: 0it [00:00, ?it/s]"
     ]
    },
    {
     "name": "stdout",
     "output_type": "stream",
     "text": [
      "\u001b[A"
     ]
    },
    {
     "name": "stdout",
     "output_type": "stream",
     "text": [
      "\n"
     ]
    },
    {
     "name": "stdout",
     "output_type": "stream",
     "text": [
      "\r",
      "Validating:   0%|                                                                | 0/232 [00:00<?, ?it/s]"
     ]
    },
    {
     "name": "stdout",
     "output_type": "stream",
     "text": [
      "\u001b[A"
     ]
    },
    {
     "name": "stdout",
     "output_type": "stream",
     "text": [
      "\r",
      "Epoch 3:  26%|▎| 62/240 [00:00<00:00, 196.73it/s, loss=1.69e+04, v_num=1, train_loss_step=2.57e+3, val_lo"
     ]
    },
    {
     "name": "stdout",
     "output_type": "stream",
     "text": [
      "\n"
     ]
    },
    {
     "name": "stdout",
     "output_type": "stream",
     "text": [
      "\r",
      "Validating:  24%|█████████████                                         | 56/232 [00:00<00:00, 550.49it/s]"
     ]
    },
    {
     "name": "stdout",
     "output_type": "stream",
     "text": [
      "\u001b[A"
     ]
    },
    {
     "name": "stdout",
     "output_type": "stream",
     "text": [
      "\r",
      "Epoch 3:  52%|▌| 124/240 [00:00<00:00, 293.93it/s, loss=1.69e+04, v_num=1, train_loss_step=2.57e+3, val_l"
     ]
    },
    {
     "name": "stdout",
     "output_type": "stream",
     "text": [
      "\n"
     ]
    },
    {
     "name": "stdout",
     "output_type": "stream",
     "text": [
      "\r",
      "Validating:  50%|██████████████████████████▌                          | 116/232 [00:00<00:00, 570.33it/s]"
     ]
    },
    {
     "name": "stdout",
     "output_type": "stream",
     "text": [
      "\u001b[A"
     ]
    },
    {
     "name": "stdout",
     "output_type": "stream",
     "text": [
      "\n"
     ]
    },
    {
     "name": "stdout",
     "output_type": "stream",
     "text": [
      "\r",
      "Validating:  75%|███████████████████████████████████████▊             | 174/232 [00:00<00:00, 562.71it/s]"
     ]
    },
    {
     "name": "stdout",
     "output_type": "stream",
     "text": [
      "\u001b[A"
     ]
    },
    {
     "name": "stdout",
     "output_type": "stream",
     "text": [
      "\r",
      "Epoch 3:  78%|▊| 186/240 [00:00<00:00, 346.65it/s, loss=1.69e+04, v_num=1, train_loss_step=2.57e+3, val_l"
     ]
    },
    {
     "name": "stdout",
     "output_type": "stream",
     "text": [
      "\n"
     ]
    },
    {
     "name": "stdout",
     "output_type": "stream",
     "text": [
      "\r",
      "Validating: 100%|█████████████████████████████████████████████████████| 232/232 [00:00<00:00, 567.80it/s]"
     ]
    },
    {
     "name": "stdout",
     "output_type": "stream",
     "text": [
      "\u001b[A"
     ]
    },
    {
     "name": "stdout",
     "output_type": "stream",
     "text": [
      "\r",
      "Epoch 3: 100%|█| 240/240 [00:00<00:00, 379.56it/s, loss=1.69e+04, v_num=1, train_loss_step=2.57e+3, val_l"
     ]
    },
    {
     "name": "stdout",
     "output_type": "stream",
     "text": [
      "\n"
     ]
    },
    {
     "name": "stdout",
     "output_type": "stream",
     "text": [
      "\r",
      "                                                                                                         "
     ]
    },
    {
     "name": "stdout",
     "output_type": "stream",
     "text": [
      "\u001b[A"
     ]
    },
    {
     "name": "stdout",
     "output_type": "stream",
     "text": [
      "\r",
      "Epoch 3: 100%|█| 240/240 [00:00<00:00, 377.18it/s, loss=1.69e+04, v_num=1, train_loss_step=2.57e+3, val_l"
     ]
    },
    {
     "name": "stdout",
     "output_type": "stream",
     "text": [
      "\r",
      "Epoch 3:   0%| | 0/240 [00:00<?, ?it/s, loss=1.69e+04, v_num=1, train_loss_step=2.57e+3, val_loss=9.44e+3"
     ]
    },
    {
     "name": "stdout",
     "output_type": "stream",
     "text": [
      "\r",
      "Epoch 4:   0%| | 0/240 [00:00<?, ?it/s, loss=1.69e+04, v_num=1, train_loss_step=2.57e+3, val_loss=9.44e+3"
     ]
    },
    {
     "name": "stdout",
     "output_type": "stream",
     "text": [
      "\r",
      "Epoch 4:   0%| | 1/240 [00:00<00:09, 26.39it/s, loss=1.74e+04, v_num=1, train_loss_step=1.92e+4, val_loss"
     ]
    },
    {
     "name": "stdout",
     "output_type": "stream",
     "text": [
      "\r",
      "Epoch 4:   1%| | 2/240 [00:00<00:07, 31.33it/s, loss=1.7e+04, v_num=1, train_loss_step=7.37e+3, val_loss="
     ]
    },
    {
     "name": "stdout",
     "output_type": "stream",
     "text": [
      "\r",
      "Epoch 4:   1%| | 3/240 [00:00<00:06, 34.57it/s, loss=1.65e+04, v_num=1, train_loss_step=3.27e+3, val_loss"
     ]
    },
    {
     "name": "stdout",
     "output_type": "stream",
     "text": [
      "\r",
      "Epoch 4:   2%| | 4/240 [00:00<00:07, 33.42it/s, loss=1.46e+04, v_num=1, train_loss_step=6.02e+3, val_loss"
     ]
    },
    {
     "name": "stdout",
     "output_type": "stream",
     "text": [
      "\r",
      "Epoch 4:   2%| | 5/240 [00:00<00:07, 32.77it/s, loss=1.51e+04, v_num=1, train_loss_step=2.35e+4, val_loss"
     ]
    },
    {
     "name": "stdout",
     "output_type": "stream",
     "text": [
      "\r",
      "Epoch 4:   2%| | 6/240 [00:00<00:06, 33.61it/s, loss=1.57e+04, v_num=1, train_loss_step=2.06e+4, val_loss"
     ]
    },
    {
     "name": "stdout",
     "output_type": "stream",
     "text": [
      "\r",
      "Epoch 4:   3%| | 7/240 [00:00<00:06, 34.92it/s, loss=1.54e+04, v_num=1, train_loss_step=1.89e+4, val_loss"
     ]
    },
    {
     "name": "stdout",
     "output_type": "stream",
     "text": [
      "\r",
      "Epoch 4:   3%| | 8/240 [00:00<00:06, 36.63it/s, loss=1.46e+04, v_num=1, train_loss_step=2.59e+3, val_loss"
     ]
    },
    {
     "name": "stdout",
     "output_type": "stream",
     "text": [
      "\n"
     ]
    },
    {
     "name": "stdout",
     "output_type": "stream",
     "text": [
      "\r",
      "Validating: 0it [00:00, ?it/s]"
     ]
    },
    {
     "name": "stdout",
     "output_type": "stream",
     "text": [
      "\u001b[A"
     ]
    },
    {
     "name": "stdout",
     "output_type": "stream",
     "text": [
      "\n"
     ]
    },
    {
     "name": "stdout",
     "output_type": "stream",
     "text": [
      "\r",
      "Validating:   0%|                                                                | 0/232 [00:00<?, ?it/s]"
     ]
    },
    {
     "name": "stdout",
     "output_type": "stream",
     "text": [
      "\u001b[A"
     ]
    },
    {
     "name": "stdout",
     "output_type": "stream",
     "text": [
      "\n"
     ]
    },
    {
     "name": "stdout",
     "output_type": "stream",
     "text": [
      "\r",
      "Validating:  22%|████████████                                          | 52/232 [00:00<00:00, 511.17it/s]"
     ]
    },
    {
     "name": "stdout",
     "output_type": "stream",
     "text": [
      "\u001b[A"
     ]
    },
    {
     "name": "stdout",
     "output_type": "stream",
     "text": [
      "\r",
      "Epoch 4:  26%|▎| 62/240 [00:00<00:00, 190.11it/s, loss=1.46e+04, v_num=1, train_loss_step=2.59e+3, val_lo"
     ]
    },
    {
     "name": "stdout",
     "output_type": "stream",
     "text": [
      "\n"
     ]
    },
    {
     "name": "stdout",
     "output_type": "stream",
     "text": [
      "\r",
      "Validating:  49%|██████████████████████████                           | 114/232 [00:00<00:00, 572.29it/s]"
     ]
    },
    {
     "name": "stdout",
     "output_type": "stream",
     "text": [
      "\u001b[A"
     ]
    },
    {
     "name": "stdout",
     "output_type": "stream",
     "text": [
      "\r",
      "Epoch 4:  52%|▌| 124/240 [00:00<00:00, 289.82it/s, loss=1.46e+04, v_num=1, train_loss_step=2.59e+3, val_l"
     ]
    },
    {
     "name": "stdout",
     "output_type": "stream",
     "text": [
      "\n"
     ]
    },
    {
     "name": "stdout",
     "output_type": "stream",
     "text": [
      "\r",
      "Validating:  74%|███████████████████████████████████████▎             | 172/232 [00:00<00:00, 573.89it/s]"
     ]
    },
    {
     "name": "stdout",
     "output_type": "stream",
     "text": [
      "\u001b[A"
     ]
    },
    {
     "name": "stdout",
     "output_type": "stream",
     "text": [
      "\r",
      "Epoch 4:  78%|▊| 186/240 [00:00<00:00, 347.94it/s, loss=1.46e+04, v_num=1, train_loss_step=2.59e+3, val_l"
     ]
    },
    {
     "name": "stdout",
     "output_type": "stream",
     "text": [
      "\n"
     ]
    },
    {
     "name": "stdout",
     "output_type": "stream",
     "text": [
      "\r",
      "Validating:  99%|████████████████████████████████████████████████████▌| 230/232 [00:00<00:00, 553.05it/s]"
     ]
    },
    {
     "name": "stdout",
     "output_type": "stream",
     "text": [
      "\u001b[A"
     ]
    },
    {
     "name": "stdout",
     "output_type": "stream",
     "text": [
      "\r",
      "Epoch 4: 100%|█| 240/240 [00:00<00:00, 374.83it/s, loss=1.46e+04, v_num=1, train_loss_step=2.59e+3, val_l"
     ]
    },
    {
     "name": "stdout",
     "output_type": "stream",
     "text": [
      "\n"
     ]
    },
    {
     "name": "stdout",
     "output_type": "stream",
     "text": [
      "\r",
      "                                                                                                         "
     ]
    },
    {
     "name": "stdout",
     "output_type": "stream",
     "text": [
      "\u001b[A"
     ]
    },
    {
     "name": "stdout",
     "output_type": "stream",
     "text": [
      "\r",
      "Epoch 4: 100%|█| 240/240 [00:00<00:00, 372.51it/s, loss=1.46e+04, v_num=1, train_loss_step=2.59e+3, val_l"
     ]
    },
    {
     "name": "stdout",
     "output_type": "stream",
     "text": [
      "\r",
      "Epoch 4:   0%| | 0/240 [00:00<?, ?it/s, loss=1.46e+04, v_num=1, train_loss_step=2.59e+3, val_loss=9.42e+3"
     ]
    },
    {
     "name": "stdout",
     "output_type": "stream",
     "text": [
      "\r",
      "Epoch 5:   0%| | 0/240 [00:00<?, ?it/s, loss=1.46e+04, v_num=1, train_loss_step=2.59e+3, val_loss=9.42e+3"
     ]
    },
    {
     "name": "stdout",
     "output_type": "stream",
     "text": [
      "\r",
      "Epoch 5:   0%| | 1/240 [00:00<00:10, 22.79it/s, loss=1.35e+04, v_num=1, train_loss_step=4.48e+3, val_loss"
     ]
    },
    {
     "name": "stdout",
     "output_type": "stream",
     "text": [
      "\r",
      "Epoch 5:   1%| | 2/240 [00:00<00:08, 29.06it/s, loss=1.38e+04, v_num=1, train_loss_step=1.75e+4, val_loss"
     ]
    },
    {
     "name": "stdout",
     "output_type": "stream",
     "text": [
      "\r",
      "Epoch 5:   1%| | 3/240 [00:00<00:07, 30.38it/s, loss=1.34e+04, v_num=1, train_loss_step=1.04e+4, val_loss"
     ]
    },
    {
     "name": "stdout",
     "output_type": "stream",
     "text": [
      "\r",
      "Epoch 5:   2%| | 4/240 [00:00<00:07, 32.61it/s, loss=1.37e+04, v_num=1, train_loss_step=8.12e+3, val_loss"
     ]
    },
    {
     "name": "stdout",
     "output_type": "stream",
     "text": [
      "\r",
      "Epoch 5:   2%| | 5/240 [00:00<00:07, 32.77it/s, loss=1.44e+04, v_num=1, train_loss_step=3e+4, val_loss=9."
     ]
    },
    {
     "name": "stdout",
     "output_type": "stream",
     "text": [
      "\r",
      "Epoch 5:   2%| | 6/240 [00:00<00:07, 32.87it/s, loss=1.43e+04, v_num=1, train_loss_step=1.25e+4, val_loss"
     ]
    },
    {
     "name": "stdout",
     "output_type": "stream",
     "text": [
      "\r",
      "Epoch 5:   3%| | 7/240 [00:00<00:06, 34.57it/s, loss=1.62e+04, v_num=1, train_loss_step=4.4e+4, val_loss="
     ]
    },
    {
     "name": "stdout",
     "output_type": "stream",
     "text": [
      "\r",
      "Epoch 5:   3%| | 8/240 [00:00<00:06, 36.46it/s, loss=1.56e+04, v_num=1, train_loss_step=1.17e+4, val_loss"
     ]
    },
    {
     "name": "stdout",
     "output_type": "stream",
     "text": [
      "\n"
     ]
    },
    {
     "name": "stdout",
     "output_type": "stream",
     "text": [
      "\r",
      "Validating: 0it [00:00, ?it/s]"
     ]
    },
    {
     "name": "stdout",
     "output_type": "stream",
     "text": [
      "\u001b[A"
     ]
    },
    {
     "name": "stdout",
     "output_type": "stream",
     "text": [
      "\n"
     ]
    },
    {
     "name": "stdout",
     "output_type": "stream",
     "text": [
      "\r",
      "Validating:   0%|                                                                | 0/232 [00:00<?, ?it/s]"
     ]
    },
    {
     "name": "stdout",
     "output_type": "stream",
     "text": [
      "\u001b[A"
     ]
    },
    {
     "name": "stdout",
     "output_type": "stream",
     "text": [
      "\r",
      "Epoch 5:  26%|▎| 62/240 [00:00<00:00, 196.73it/s, loss=1.56e+04, v_num=1, train_loss_step=1.17e+4, val_lo"
     ]
    },
    {
     "name": "stdout",
     "output_type": "stream",
     "text": [
      "\n"
     ]
    },
    {
     "name": "stdout",
     "output_type": "stream",
     "text": [
      "\r",
      "Validating:  25%|█████████████▎                                        | 57/232 [00:00<00:00, 560.32it/s]"
     ]
    },
    {
     "name": "stdout",
     "output_type": "stream",
     "text": [
      "\u001b[A"
     ]
    },
    {
     "name": "stdout",
     "output_type": "stream",
     "text": [
      "\n"
     ]
    },
    {
     "name": "stdout",
     "output_type": "stream",
     "text": [
      "\r",
      "Validating:  49%|██████████████████████████                           | 114/232 [00:00<00:00, 529.25it/s]"
     ]
    },
    {
     "name": "stdout",
     "output_type": "stream",
     "text": [
      "\u001b[A"
     ]
    },
    {
     "name": "stdout",
     "output_type": "stream",
     "text": [
      "\r",
      "Epoch 5:  52%|▌| 124/240 [00:00<00:00, 281.82it/s, loss=1.56e+04, v_num=1, train_loss_step=1.17e+4, val_l"
     ]
    },
    {
     "name": "stdout",
     "output_type": "stream",
     "text": [
      "\n"
     ]
    },
    {
     "name": "stdout",
     "output_type": "stream",
     "text": [
      "\r",
      "Validating:  72%|██████████████████████████████████████▍              | 168/232 [00:00<00:00, 513.19it/s]"
     ]
    },
    {
     "name": "stdout",
     "output_type": "stream",
     "text": [
      "\u001b[A"
     ]
    },
    {
     "name": "stdout",
     "output_type": "stream",
     "text": [
      "\r",
      "Epoch 5:  78%|▊| 186/240 [00:00<00:00, 330.26it/s, loss=1.56e+04, v_num=1, train_loss_step=1.17e+4, val_l"
     ]
    },
    {
     "name": "stdout",
     "output_type": "stream",
     "text": [
      "\n"
     ]
    },
    {
     "name": "stdout",
     "output_type": "stream",
     "text": [
      "\r",
      "Validating:  97%|███████████████████████████████████████████████████▋ | 226/232 [00:00<00:00, 534.59it/s]"
     ]
    },
    {
     "name": "stdout",
     "output_type": "stream",
     "text": [
      "\u001b[A"
     ]
    },
    {
     "name": "stdout",
     "output_type": "stream",
     "text": [
      "\r",
      "Epoch 5: 100%|█| 240/240 [00:00<00:00, 364.14it/s, loss=1.56e+04, v_num=1, train_loss_step=1.17e+4, val_l"
     ]
    },
    {
     "name": "stdout",
     "output_type": "stream",
     "text": [
      "\n"
     ]
    },
    {
     "name": "stdout",
     "output_type": "stream",
     "text": [
      "\r",
      "                                                                                                         "
     ]
    },
    {
     "name": "stdout",
     "output_type": "stream",
     "text": [
      "\u001b[A"
     ]
    },
    {
     "name": "stdout",
     "output_type": "stream",
     "text": [
      "\r",
      "Epoch 5: 100%|█| 240/240 [00:00<00:00, 362.48it/s, loss=1.56e+04, v_num=1, train_loss_step=1.17e+4, val_l"
     ]
    },
    {
     "name": "stdout",
     "output_type": "stream",
     "text": [
      "\r",
      "Epoch 5:   0%| | 0/240 [00:00<?, ?it/s, loss=1.56e+04, v_num=1, train_loss_step=1.17e+4, val_loss=9.2e+3,"
     ]
    },
    {
     "name": "stdout",
     "output_type": "stream",
     "text": [
      "\r",
      "Epoch 6:   0%| | 0/240 [00:00<?, ?it/s, loss=1.56e+04, v_num=1, train_loss_step=1.17e+4, val_loss=9.2e+3,"
     ]
    },
    {
     "name": "stdout",
     "output_type": "stream",
     "text": [
      "\r",
      "Epoch 6:   0%| | 1/240 [00:00<00:09, 26.35it/s, loss=1.61e+04, v_num=1, train_loss_step=4.1e+4, val_loss="
     ]
    },
    {
     "name": "stdout",
     "output_type": "stream",
     "text": [
      "\r",
      "Epoch 6:   1%| | 2/240 [00:00<00:07, 30.80it/s, loss=1.67e+04, v_num=1, train_loss_step=2.7e+4, val_loss="
     ]
    },
    {
     "name": "stdout",
     "output_type": "stream",
     "text": [
      "\r",
      "Epoch 6:   1%| | 3/240 [00:00<00:07, 30.96it/s, loss=1.56e+04, v_num=1, train_loss_step=1.29e+3, val_loss"
     ]
    },
    {
     "name": "stdout",
     "output_type": "stream",
     "text": [
      "\r",
      "Epoch 6:   2%| | 4/240 [00:00<00:07, 32.29it/s, loss=1.58e+04, v_num=1, train_loss_step=7.24e+3, val_loss"
     ]
    },
    {
     "name": "stdout",
     "output_type": "stream",
     "text": [
      "\r",
      "Epoch 6:   2%| | 5/240 [00:00<00:07, 32.92it/s, loss=1.55e+04, v_num=1, train_loss_step=1.31e+4, val_loss"
     ]
    },
    {
     "name": "stdout",
     "output_type": "stream",
     "text": [
      "\r",
      "Epoch 6:   2%| | 6/240 [00:00<00:06, 34.31it/s, loss=1.56e+04, v_num=1, train_loss_step=9.38e+3, val_loss"
     ]
    },
    {
     "name": "stdout",
     "output_type": "stream",
     "text": [
      "\r",
      "Epoch 6:   3%| | 7/240 [00:00<00:06, 35.74it/s, loss=1.67e+04, v_num=1, train_loss_step=2.5e+4, val_loss="
     ]
    },
    {
     "name": "stdout",
     "output_type": "stream",
     "text": [
      "\r",
      "Epoch 6:   3%| | 8/240 [00:00<00:06, 37.41it/s, loss=1.66e+04, v_num=1, train_loss_step=3.38e+3, val_loss"
     ]
    },
    {
     "name": "stdout",
     "output_type": "stream",
     "text": [
      "\n"
     ]
    },
    {
     "name": "stdout",
     "output_type": "stream",
     "text": [
      "\r",
      "Validating: 0it [00:00, ?it/s]"
     ]
    },
    {
     "name": "stdout",
     "output_type": "stream",
     "text": [
      "\u001b[A"
     ]
    },
    {
     "name": "stdout",
     "output_type": "stream",
     "text": [
      "\n"
     ]
    },
    {
     "name": "stdout",
     "output_type": "stream",
     "text": [
      "\r",
      "Validating:   0%|                                                                | 0/232 [00:00<?, ?it/s]"
     ]
    },
    {
     "name": "stdout",
     "output_type": "stream",
     "text": [
      "\u001b[A"
     ]
    },
    {
     "name": "stdout",
     "output_type": "stream",
     "text": [
      "\r",
      "Epoch 6:  26%|▎| 62/240 [00:00<00:00, 198.65it/s, loss=1.66e+04, v_num=1, train_loss_step=3.38e+3, val_lo"
     ]
    },
    {
     "name": "stdout",
     "output_type": "stream",
     "text": [
      "\n"
     ]
    },
    {
     "name": "stdout",
     "output_type": "stream",
     "text": [
      "\r",
      "Validating:  24%|████████████▊                                         | 55/232 [00:00<00:00, 548.59it/s]"
     ]
    },
    {
     "name": "stdout",
     "output_type": "stream",
     "text": [
      "\u001b[A"
     ]
    },
    {
     "name": "stdout",
     "output_type": "stream",
     "text": [
      "\n"
     ]
    },
    {
     "name": "stdout",
     "output_type": "stream",
     "text": [
      "\r",
      "Validating:  47%|█████████████████████████▏                           | 110/232 [00:00<00:00, 541.75it/s]"
     ]
    },
    {
     "name": "stdout",
     "output_type": "stream",
     "text": [
      "\u001b[A"
     ]
    },
    {
     "name": "stdout",
     "output_type": "stream",
     "text": [
      "\r",
      "Epoch 6:  52%|▌| 124/240 [00:00<00:00, 288.72it/s, loss=1.66e+04, v_num=1, train_loss_step=3.38e+3, val_l"
     ]
    },
    {
     "name": "stdout",
     "output_type": "stream",
     "text": [
      "\n"
     ]
    },
    {
     "name": "stdout",
     "output_type": "stream",
     "text": [
      "\r",
      "Validating:  74%|███████████████████████████████████████              | 171/232 [00:00<00:00, 569.01it/s]"
     ]
    },
    {
     "name": "stdout",
     "output_type": "stream",
     "text": [
      "\u001b[A"
     ]
    },
    {
     "name": "stdout",
     "output_type": "stream",
     "text": [
      "\r",
      "Epoch 6:  78%|▊| 186/240 [00:00<00:00, 348.38it/s, loss=1.66e+04, v_num=1, train_loss_step=3.38e+3, val_l"
     ]
    },
    {
     "name": "stdout",
     "output_type": "stream",
     "text": [
      "\r",
      "Epoch 6: 100%|█| 240/240 [00:00<00:00, 385.95it/s, loss=1.66e+04, v_num=1, train_loss_step=3.38e+3, val_l"
     ]
    },
    {
     "name": "stdout",
     "output_type": "stream",
     "text": [
      "\n"
     ]
    },
    {
     "name": "stdout",
     "output_type": "stream",
     "text": [
      "\r",
      "                                                                                                         "
     ]
    },
    {
     "name": "stdout",
     "output_type": "stream",
     "text": [
      "\u001b[A"
     ]
    },
    {
     "name": "stdout",
     "output_type": "stream",
     "text": [
      "\r",
      "Epoch 6: 100%|█| 240/240 [00:00<00:00, 384.11it/s, loss=1.66e+04, v_num=1, train_loss_step=3.38e+3, val_l"
     ]
    },
    {
     "name": "stdout",
     "output_type": "stream",
     "text": [
      "\r",
      "Epoch 6:   0%| | 0/240 [00:00<?, ?it/s, loss=1.66e+04, v_num=1, train_loss_step=3.38e+3, val_loss=8.84e+3"
     ]
    },
    {
     "name": "stdout",
     "output_type": "stream",
     "text": [
      "\r",
      "Epoch 7:   0%| | 0/240 [00:00<?, ?it/s, loss=1.66e+04, v_num=1, train_loss_step=3.38e+3, val_loss=8.84e+3"
     ]
    },
    {
     "name": "stdout",
     "output_type": "stream",
     "text": [
      "\r",
      "Epoch 7:   0%| | 1/240 [00:00<00:09, 25.07it/s, loss=1.64e+04, v_num=1, train_loss_step=2.07e+4, val_loss"
     ]
    },
    {
     "name": "stdout",
     "output_type": "stream",
     "text": [
      "\r",
      "Epoch 7:   1%| | 2/240 [00:00<00:08, 27.46it/s, loss=1.57e+04, v_num=1, train_loss_step=5.09e+3, val_loss"
     ]
    },
    {
     "name": "stdout",
     "output_type": "stream",
     "text": [
      "\r",
      "Epoch 7:   1%| | 3/240 [00:00<00:07, 31.64it/s, loss=1.49e+04, v_num=1, train_loss_step=4.39e+3, val_loss"
     ]
    },
    {
     "name": "stdout",
     "output_type": "stream",
     "text": [
      "\r",
      "Epoch 7:   2%| | 4/240 [00:00<00:07, 33.11it/s, loss=1.65e+04, v_num=1, train_loss_step=3.28e+4, val_loss"
     ]
    },
    {
     "name": "stdout",
     "output_type": "stream",
     "text": [
      "\r",
      "Epoch 7:   2%| | 5/240 [00:00<00:06, 34.53it/s, loss=1.63e+04, v_num=1, train_loss_step=2.32e+3, val_loss"
     ]
    },
    {
     "name": "stdout",
     "output_type": "stream",
     "text": [
      "\r",
      "Epoch 7:   2%| | 6/240 [00:00<00:06, 35.76it/s, loss=1.62e+04, v_num=1, train_loss_step=1.52e+4, val_loss"
     ]
    },
    {
     "name": "stdout",
     "output_type": "stream",
     "text": [
      "\r",
      "Epoch 7:   3%| | 7/240 [00:00<00:06, 37.09it/s, loss=1.69e+04, v_num=1, train_loss_step=2.48e+4, val_loss"
     ]
    },
    {
     "name": "stdout",
     "output_type": "stream",
     "text": [
      "\r",
      "Epoch 7:   3%| | 8/240 [00:00<00:05, 39.26it/s, loss=1.73e+04, v_num=1, train_loss_step=1.53e+4, val_loss"
     ]
    },
    {
     "name": "stdout",
     "output_type": "stream",
     "text": [
      "\n"
     ]
    },
    {
     "name": "stdout",
     "output_type": "stream",
     "text": [
      "\r",
      "Validating: 0it [00:00, ?it/s]"
     ]
    },
    {
     "name": "stdout",
     "output_type": "stream",
     "text": [
      "\u001b[A"
     ]
    },
    {
     "name": "stdout",
     "output_type": "stream",
     "text": [
      "\n"
     ]
    },
    {
     "name": "stdout",
     "output_type": "stream",
     "text": [
      "\r",
      "Validating:   0%|                                                                | 0/232 [00:00<?, ?it/s]"
     ]
    },
    {
     "name": "stdout",
     "output_type": "stream",
     "text": [
      "\u001b[A"
     ]
    },
    {
     "name": "stdout",
     "output_type": "stream",
     "text": [
      "\r",
      "Epoch 7:  26%|▎| 62/240 [00:00<00:00, 207.60it/s, loss=1.73e+04, v_num=1, train_loss_step=1.53e+4, val_lo"
     ]
    },
    {
     "name": "stdout",
     "output_type": "stream",
     "text": [
      "\n"
     ]
    },
    {
     "name": "stdout",
     "output_type": "stream",
     "text": [
      "\r",
      "Validating:  25%|█████████████▌                                        | 58/232 [00:00<00:00, 574.76it/s]"
     ]
    },
    {
     "name": "stdout",
     "output_type": "stream",
     "text": [
      "\u001b[A"
     ]
    },
    {
     "name": "stdout",
     "output_type": "stream",
     "text": [
      "\r",
      "Epoch 7:  52%|▌| 124/240 [00:00<00:00, 305.75it/s, loss=1.73e+04, v_num=1, train_loss_step=1.53e+4, val_l"
     ]
    },
    {
     "name": "stdout",
     "output_type": "stream",
     "text": [
      "\n"
     ]
    },
    {
     "name": "stdout",
     "output_type": "stream",
     "text": [
      "\r",
      "Validating:  50%|██████████████████████████▋                          | 117/232 [00:00<00:00, 577.22it/s]"
     ]
    },
    {
     "name": "stdout",
     "output_type": "stream",
     "text": [
      "\u001b[A"
     ]
    },
    {
     "name": "stdout",
     "output_type": "stream",
     "text": [
      "\n"
     ]
    },
    {
     "name": "stdout",
     "output_type": "stream",
     "text": [
      "\r",
      "Validating:  75%|███████████████████████████████████████▉             | 175/232 [00:00<00:00, 571.00it/s]"
     ]
    },
    {
     "name": "stdout",
     "output_type": "stream",
     "text": [
      "\u001b[A"
     ]
    },
    {
     "name": "stdout",
     "output_type": "stream",
     "text": [
      "\r",
      "Epoch 7:  78%|▊| 186/240 [00:00<00:00, 358.06it/s, loss=1.73e+04, v_num=1, train_loss_step=1.53e+4, val_l"
     ]
    },
    {
     "name": "stdout",
     "output_type": "stream",
     "text": [
      "\r",
      "Epoch 7: 100%|█| 240/240 [00:00<00:00, 391.92it/s, loss=1.73e+04, v_num=1, train_loss_step=1.53e+4, val_l"
     ]
    },
    {
     "name": "stdout",
     "output_type": "stream",
     "text": [
      "\n"
     ]
    },
    {
     "name": "stdout",
     "output_type": "stream",
     "text": [
      "\r",
      "                                                                                                         "
     ]
    },
    {
     "name": "stdout",
     "output_type": "stream",
     "text": [
      "\u001b[A"
     ]
    },
    {
     "name": "stdout",
     "output_type": "stream",
     "text": [
      "\r",
      "Epoch 7: 100%|█| 240/240 [00:00<00:00, 389.39it/s, loss=1.73e+04, v_num=1, train_loss_step=1.53e+4, val_l"
     ]
    },
    {
     "name": "stdout",
     "output_type": "stream",
     "text": [
      "\r",
      "Epoch 7:   0%| | 0/240 [00:00<?, ?it/s, loss=1.73e+04, v_num=1, train_loss_step=1.53e+4, val_loss=9.49e+3"
     ]
    },
    {
     "name": "stdout",
     "output_type": "stream",
     "text": [
      "\r",
      "Epoch 8:   0%| | 0/240 [00:00<?, ?it/s, loss=1.73e+04, v_num=1, train_loss_step=1.53e+4, val_loss=9.49e+3"
     ]
    },
    {
     "name": "stdout",
     "output_type": "stream",
     "text": [
      "\r",
      "Epoch 8:   0%| | 1/240 [00:00<00:07, 32.34it/s, loss=1.62e+04, v_num=1, train_loss_step=7.21e+3, val_loss"
     ]
    },
    {
     "name": "stdout",
     "output_type": "stream",
     "text": [
      "\r",
      "Epoch 8:   1%| | 2/240 [00:00<00:07, 33.42it/s, loss=1.65e+04, v_num=1, train_loss_step=1.93e+4, val_loss"
     ]
    },
    {
     "name": "stdout",
     "output_type": "stream",
     "text": [
      "\r",
      "Epoch 8:   1%| | 3/240 [00:00<00:07, 33.06it/s, loss=1.57e+04, v_num=1, train_loss_step=2.7e+4, val_loss="
     ]
    },
    {
     "name": "stdout",
     "output_type": "stream",
     "text": [
      "\r",
      "Epoch 8:   2%| | 4/240 [00:00<00:06, 33.99it/s, loss=1.6e+04, v_num=1, train_loss_step=1.95e+4, val_loss="
     ]
    },
    {
     "name": "stdout",
     "output_type": "stream",
     "text": [
      "\r",
      "Epoch 8:   2%| | 5/240 [00:00<00:06, 35.06it/s, loss=1.42e+04, v_num=1, train_loss_step=3.91e+3, val_loss"
     ]
    },
    {
     "name": "stdout",
     "output_type": "stream",
     "text": [
      "\r",
      "Epoch 8:   2%| | 6/240 [00:00<00:06, 35.39it/s, loss=1.4e+04, v_num=1, train_loss_step=2.37e+4, val_loss="
     ]
    },
    {
     "name": "stdout",
     "output_type": "stream",
     "text": [
      "\r",
      "Epoch 8:   3%| | 7/240 [00:00<00:06, 36.56it/s, loss=1.44e+04, v_num=1, train_loss_step=8.84e+3, val_loss"
     ]
    },
    {
     "name": "stdout",
     "output_type": "stream",
     "text": [
      "\r",
      "Epoch 8:   3%| | 8/240 [00:00<00:06, 37.84it/s, loss=1.42e+04, v_num=1, train_loss_step=2.51e+3, val_loss"
     ]
    },
    {
     "name": "stdout",
     "output_type": "stream",
     "text": [
      "\n"
     ]
    },
    {
     "name": "stdout",
     "output_type": "stream",
     "text": [
      "\r",
      "Validating: 0it [00:00, ?it/s]"
     ]
    },
    {
     "name": "stdout",
     "output_type": "stream",
     "text": [
      "\u001b[A"
     ]
    },
    {
     "name": "stdout",
     "output_type": "stream",
     "text": [
      "\n"
     ]
    },
    {
     "name": "stdout",
     "output_type": "stream",
     "text": [
      "\r",
      "Validating:   0%|                                                                | 0/232 [00:00<?, ?it/s]"
     ]
    },
    {
     "name": "stdout",
     "output_type": "stream",
     "text": [
      "\u001b[A"
     ]
    },
    {
     "name": "stdout",
     "output_type": "stream",
     "text": [
      "\n"
     ]
    },
    {
     "name": "stdout",
     "output_type": "stream",
     "text": [
      "\r",
      "Validating:  22%|███████████▊                                          | 51/232 [00:00<00:00, 506.31it/s]"
     ]
    },
    {
     "name": "stdout",
     "output_type": "stream",
     "text": [
      "\u001b[A"
     ]
    },
    {
     "name": "stdout",
     "output_type": "stream",
     "text": [
      "\r",
      "Epoch 8:  26%|▎| 62/240 [00:00<00:00, 192.46it/s, loss=1.42e+04, v_num=1, train_loss_step=2.51e+3, val_lo"
     ]
    },
    {
     "name": "stdout",
     "output_type": "stream",
     "text": [
      "\n"
     ]
    },
    {
     "name": "stdout",
     "output_type": "stream",
     "text": [
      "\r",
      "Validating:  44%|███████████████████████▎                             | 102/232 [00:00<00:00, 491.98it/s]"
     ]
    },
    {
     "name": "stdout",
     "output_type": "stream",
     "text": [
      "\u001b[A"
     ]
    },
    {
     "name": "stdout",
     "output_type": "stream",
     "text": [
      "\r",
      "Epoch 8:  52%|▌| 124/240 [00:00<00:00, 275.68it/s, loss=1.42e+04, v_num=1, train_loss_step=2.51e+3, val_l"
     ]
    },
    {
     "name": "stdout",
     "output_type": "stream",
     "text": [
      "\n"
     ]
    },
    {
     "name": "stdout",
     "output_type": "stream",
     "text": [
      "\r",
      "Validating:  66%|██████████████████████████████████▋                  | 152/232 [00:00<00:00, 487.44it/s]"
     ]
    },
    {
     "name": "stdout",
     "output_type": "stream",
     "text": [
      "\u001b[A"
     ]
    },
    {
     "name": "stdout",
     "output_type": "stream",
     "text": [
      "\r",
      "Epoch 8:  78%|▊| 186/240 [00:00<00:00, 325.19it/s, loss=1.42e+04, v_num=1, train_loss_step=2.51e+3, val_l"
     ]
    },
    {
     "name": "stdout",
     "output_type": "stream",
     "text": [
      "\n"
     ]
    },
    {
     "name": "stdout",
     "output_type": "stream",
     "text": [
      "\r",
      "Validating:  89%|███████████████████████████████████████████████      | 206/232 [00:00<00:00, 505.33it/s]"
     ]
    },
    {
     "name": "stdout",
     "output_type": "stream",
     "text": [
      "\u001b[A"
     ]
    },
    {
     "name": "stdout",
     "output_type": "stream",
     "text": [
      "\r",
      "Epoch 8: 100%|█| 240/240 [00:00<00:00, 355.71it/s, loss=1.42e+04, v_num=1, train_loss_step=2.51e+3, val_l"
     ]
    },
    {
     "name": "stdout",
     "output_type": "stream",
     "text": [
      "\n"
     ]
    },
    {
     "name": "stdout",
     "output_type": "stream",
     "text": [
      "\r",
      "                                                                                                         "
     ]
    },
    {
     "name": "stdout",
     "output_type": "stream",
     "text": [
      "\u001b[A"
     ]
    },
    {
     "name": "stdout",
     "output_type": "stream",
     "text": [
      "\r",
      "Epoch 8: 100%|█| 240/240 [00:00<00:00, 354.14it/s, loss=1.42e+04, v_num=1, train_loss_step=2.51e+3, val_l"
     ]
    },
    {
     "name": "stdout",
     "output_type": "stream",
     "text": [
      "\r",
      "Epoch 8:   0%| | 0/240 [00:00<?, ?it/s, loss=1.42e+04, v_num=1, train_loss_step=2.51e+3, val_loss=9.26e+3"
     ]
    },
    {
     "name": "stdout",
     "output_type": "stream",
     "text": [
      "\r",
      "Epoch 9:   0%| | 0/240 [00:00<?, ?it/s, loss=1.42e+04, v_num=1, train_loss_step=2.51e+3, val_loss=9.26e+3"
     ]
    },
    {
     "name": "stdout",
     "output_type": "stream",
     "text": [
      "\r",
      "Epoch 9:   0%| | 1/240 [00:00<00:08, 29.49it/s, loss=1.36e+04, v_num=1, train_loss_step=2.26e+3, val_loss"
     ]
    },
    {
     "name": "stdout",
     "output_type": "stream",
     "text": [
      "\r",
      "Epoch 9:   1%| | 2/240 [00:00<00:06, 34.87it/s, loss=1.46e+04, v_num=1, train_loss_step=2.88e+4, val_loss"
     ]
    },
    {
     "name": "stdout",
     "output_type": "stream",
     "text": [
      "\r",
      "Epoch 9:   1%| | 3/240 [00:00<00:07, 33.23it/s, loss=1.48e+04, v_num=1, train_loss_step=2.96e+4, val_loss"
     ]
    },
    {
     "name": "stdout",
     "output_type": "stream",
     "text": [
      "\r",
      "Epoch 9:   2%| | 4/240 [00:00<00:06, 35.02it/s, loss=1.48e+04, v_num=1, train_loss_step=3.69e+3, val_loss"
     ]
    },
    {
     "name": "stdout",
     "output_type": "stream",
     "text": [
      "\r",
      "Epoch 9:   2%| | 5/240 [00:00<00:06, 36.20it/s, loss=1.41e+04, v_num=1, train_loss_step=6.77e+3, val_loss"
     ]
    },
    {
     "name": "stdout",
     "output_type": "stream",
     "text": [
      "\r",
      "Epoch 9:   2%| | 6/240 [00:00<00:06, 36.35it/s, loss=1.52e+04, v_num=1, train_loss_step=2.55e+4, val_loss"
     ]
    },
    {
     "name": "stdout",
     "output_type": "stream",
     "text": [
      "\r",
      "Epoch 9:   3%| | 7/240 [00:00<00:06, 38.25it/s, loss=1.52e+04, v_num=1, train_loss_step=5.79e+3, val_loss"
     ]
    },
    {
     "name": "stdout",
     "output_type": "stream",
     "text": [
      "\r",
      "Epoch 9:   3%| | 8/240 [00:00<00:05, 40.01it/s, loss=1.63e+04, v_num=1, train_loss_step=5.5e+4, val_loss="
     ]
    },
    {
     "name": "stdout",
     "output_type": "stream",
     "text": [
      "\n"
     ]
    },
    {
     "name": "stdout",
     "output_type": "stream",
     "text": [
      "\r",
      "Validating: 0it [00:00, ?it/s]"
     ]
    },
    {
     "name": "stdout",
     "output_type": "stream",
     "text": [
      "\u001b[A"
     ]
    },
    {
     "name": "stdout",
     "output_type": "stream",
     "text": [
      "\n"
     ]
    },
    {
     "name": "stdout",
     "output_type": "stream",
     "text": [
      "\r",
      "Validating:   0%|                                                                | 0/232 [00:00<?, ?it/s]"
     ]
    },
    {
     "name": "stdout",
     "output_type": "stream",
     "text": [
      "\u001b[A"
     ]
    },
    {
     "name": "stdout",
     "output_type": "stream",
     "text": [
      "\n"
     ]
    },
    {
     "name": "stdout",
     "output_type": "stream",
     "text": [
      "\r",
      "Validating:  21%|███████████▏                                          | 48/232 [00:00<00:00, 478.86it/s]"
     ]
    },
    {
     "name": "stdout",
     "output_type": "stream",
     "text": [
      "\u001b[A"
     ]
    },
    {
     "name": "stdout",
     "output_type": "stream",
     "text": [
      "\r",
      "Epoch 9:  26%|▎| 62/240 [00:00<00:00, 194.26it/s, loss=1.63e+04, v_num=1, train_loss_step=5.5e+4, val_los"
     ]
    },
    {
     "name": "stdout",
     "output_type": "stream",
     "text": [
      "\n"
     ]
    },
    {
     "name": "stdout",
     "output_type": "stream",
     "text": [
      "\r",
      "Validating:  42%|██████████████████████▊                               | 98/232 [00:00<00:00, 489.18it/s]"
     ]
    },
    {
     "name": "stdout",
     "output_type": "stream",
     "text": [
      "\u001b[A"
     ]
    },
    {
     "name": "stdout",
     "output_type": "stream",
     "text": [
      "\r",
      "Epoch 9:  52%|▌| 124/240 [00:00<00:00, 280.33it/s, loss=1.63e+04, v_num=1, train_loss_step=5.5e+4, val_lo"
     ]
    },
    {
     "name": "stdout",
     "output_type": "stream",
     "text": [
      "\n"
     ]
    },
    {
     "name": "stdout",
     "output_type": "stream",
     "text": [
      "\r",
      "Validating:  64%|█████████████████████████████████▊                   | 148/232 [00:00<00:00, 491.34it/s]"
     ]
    },
    {
     "name": "stdout",
     "output_type": "stream",
     "text": [
      "\u001b[A"
     ]
    },
    {
     "name": "stdout",
     "output_type": "stream",
     "text": [
      "\r",
      "Epoch 9:  78%|▊| 186/240 [00:00<00:00, 328.62it/s, loss=1.63e+04, v_num=1, train_loss_step=5.5e+4, val_lo"
     ]
    },
    {
     "name": "stdout",
     "output_type": "stream",
     "text": [
      "\n"
     ]
    },
    {
     "name": "stdout",
     "output_type": "stream",
     "text": [
      "\r",
      "Validating:  85%|█████████████████████████████████████████████▏       | 198/232 [00:00<00:00, 491.41it/s]"
     ]
    },
    {
     "name": "stdout",
     "output_type": "stream",
     "text": [
      "\u001b[A"
     ]
    },
    {
     "name": "stdout",
     "output_type": "stream",
     "text": [
      "\r",
      "Epoch 9: 100%|█| 240/240 [00:00<00:00, 361.85it/s, loss=1.63e+04, v_num=1, train_loss_step=5.5e+4, val_lo"
     ]
    },
    {
     "name": "stdout",
     "output_type": "stream",
     "text": [
      "\n"
     ]
    },
    {
     "name": "stdout",
     "output_type": "stream",
     "text": [
      "\r",
      "                                                                                                         "
     ]
    },
    {
     "name": "stdout",
     "output_type": "stream",
     "text": [
      "\u001b[A"
     ]
    },
    {
     "name": "stdout",
     "output_type": "stream",
     "text": [
      "\r",
      "Epoch 9: 100%|█| 240/240 [00:00<00:00, 360.23it/s, loss=1.63e+04, v_num=1, train_loss_step=5.5e+4, val_lo"
     ]
    },
    {
     "name": "stdout",
     "output_type": "stream",
     "text": [
      "\r",
      "Epoch 9: 100%|█| 240/240 [00:00<00:00, 345.74it/s, loss=1.63e+04, v_num=1, train_loss_step=5.5e+4, val_lo"
     ]
    },
    {
     "name": "stdout",
     "output_type": "stream",
     "text": [
      "\n"
     ]
    }
   ],
   "source": [
    "early_stopping = pl.callbacks.EarlyStopping(monitor=\"val_loss\")\n",
    "\n",
    "trainer = pl.Trainer(max_epochs=50,  # The bigger this number, the deeper the model is\n",
    "                     gpus=-1 if t.cuda.is_available() else 0,\n",
    "                     callbacks=[early_stopping])\n",
    "\n",
    "trainer.fit(model, train_loader, val_loader)"
   ]
  }
 ],
 "metadata": {
  "kernelspec": {
   "display_name": "Python 3 (ipykernel)",
   "language": "python",
   "name": "python3"
  },
  "language_info": {
   "codemirror_mode": {
    "name": "ipython",
    "version": 3
   },
   "file_extension": ".py",
   "mimetype": "text/x-python",
   "name": "python",
   "nbconvert_exporter": "python",
   "pygments_lexer": "ipython3",
   "version": "3.7.11"
  },
  "papermill": {
   "duration": 11.228068,
   "end_time": "2022-03-03T05:40:20.882559",
   "exception": null,
   "input_path": "C:\\Users\\victor\\AppData\\Local\\Temp\\tmpirak7whs.ipynb",
   "output_path": "C:\\Users\\victor\\Documents\\notebooks\\output\\training-the-model.ipynb",
   "parameters": {
    "product": {
     "nb": "C:\\Users\\victor\\Documents\\notebooks\\output\\training-the-model.ipynb"
    },
    "upstream": {
     "converting-into-timeseriesloader": {
      "nb": "C:\\Users\\victor\\Documents\\notebooks\\output\\converting-into-timeseriesloader.ipynb",
      "train_loader": "C:\\Users\\victor\\Documents\\notebooks\\output\\converting-into-timeseriesloader-train_loader.pkl",
      "val_loader": "C:\\Users\\victor\\Documents\\notebooks\\output\\converting-into-timeseriesloader-val_loader.pkl"
     },
     "instancing-the-model": {
      "model": "C:\\Users\\victor\\Documents\\notebooks\\output\\instancing-the-model-model.pkl",
      "nb": "C:\\Users\\victor\\Documents\\notebooks\\output\\instancing-the-model.ipynb"
     }
    }
   },
   "start_time": "2022-03-03T05:40:09.654491"
  }
 },
 "nbformat": 4,
 "nbformat_minor": 5
}