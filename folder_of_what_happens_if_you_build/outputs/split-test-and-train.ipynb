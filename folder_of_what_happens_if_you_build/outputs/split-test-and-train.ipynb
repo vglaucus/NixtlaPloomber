{
 "cells": [
  {
   "cell_type": "code",
   "execution_count": 1,
   "id": "3d766b1b",
   "metadata": {
    "execution": {
     "iopub.execute_input": "2022-03-03T05:39:39.212737Z",
     "iopub.status.busy": "2022-03-03T05:39:39.212737Z",
     "iopub.status.idle": "2022-03-03T05:39:39.228360Z",
     "shell.execute_reply": "2022-03-03T05:39:39.228360Z"
    },
    "papermill": {
     "duration": 0.062487,
     "end_time": "2022-03-03T05:39:39.228360",
     "exception": false,
     "start_time": "2022-03-03T05:39:39.165873",
     "status": "completed"
    },
    "tags": [
     "soorgeon-imports"
    ]
   },
   "outputs": [],
   "source": [
    "\n",
    "from pathlib import Path\n",
    "import pickle"
   ]
  },
  {
   "cell_type": "code",
   "execution_count": 2,
   "id": "bd82b5f6",
   "metadata": {
    "execution": {
     "iopub.execute_input": "2022-03-03T05:39:39.285486Z",
     "iopub.status.busy": "2022-03-03T05:39:39.284489Z",
     "iopub.status.idle": "2022-03-03T05:39:39.292467Z",
     "shell.execute_reply": "2022-03-03T05:39:39.293464Z"
    },
    "papermill": {
     "duration": 0.033863,
     "end_time": "2022-03-03T05:39:39.293464",
     "exception": false,
     "start_time": "2022-03-03T05:39:39.259601",
     "status": "completed"
    },
    "tags": [
     "parameters"
    ]
   },
   "outputs": [],
   "source": [
    "upstream = ['creating-dataframe-for-x', 'creating-dataframe-for-y']\n",
    "product = None"
   ]
  },
  {
   "cell_type": "code",
   "execution_count": 3,
   "id": "1638dcb2",
   "metadata": {
    "execution": {
     "iopub.execute_input": "2022-03-03T05:39:39.322388Z",
     "iopub.status.busy": "2022-03-03T05:39:39.321390Z",
     "iopub.status.idle": "2022-03-03T05:39:39.340042Z",
     "shell.execute_reply": "2022-03-03T05:39:39.340042Z"
    },
    "papermill": {
     "duration": 0.036604,
     "end_time": "2022-03-03T05:39:39.340042",
     "exception": false,
     "start_time": "2022-03-03T05:39:39.303438",
     "status": "completed"
    },
    "tags": [
     "injected-parameters"
    ]
   },
   "outputs": [],
   "source": [
    "# Parameters\n",
    "upstream = {\n",
    "    \"creating-dataframe-for-y\": {\n",
    "        \"Y_df\": \"C:\\\\Users\\\\victor\\\\Documents\\\\notebooks\\\\output\\\\creating-dataframe-for-y-Y_df.pkl\",\n",
    "        \"nb\": \"C:\\\\Users\\\\victor\\\\Documents\\\\notebooks\\\\output\\\\creating-dataframe-for-y.ipynb\",\n",
    "    },\n",
    "    \"creating-dataframe-for-x\": {\n",
    "        \"X_df\": \"C:\\\\Users\\\\victor\\\\Documents\\\\notebooks\\\\output\\\\creating-dataframe-for-x-X_df.pkl\",\n",
    "        \"nb\": \"C:\\\\Users\\\\victor\\\\Documents\\\\notebooks\\\\output\\\\creating-dataframe-for-x.ipynb\",\n",
    "    },\n",
    "}\n",
    "product = {\n",
    "    \"Y_df_test\": \"C:\\\\Users\\\\victor\\\\Documents\\\\notebooks\\\\output\\\\split-test-and-train-Y_df_test.pkl\",\n",
    "    \"output_size\": \"C:\\\\Users\\\\victor\\\\Documents\\\\notebooks\\\\output\\\\split-test-and-train-output_size.pkl\",\n",
    "    \"X_df_train\": \"C:\\\\Users\\\\victor\\\\Documents\\\\notebooks\\\\output\\\\split-test-and-train-X_df_train.pkl\",\n",
    "    \"input_size\": \"C:\\\\Users\\\\victor\\\\Documents\\\\notebooks\\\\output\\\\split-test-and-train-input_size.pkl\",\n",
    "    \"Y_df_train\": \"C:\\\\Users\\\\victor\\\\Documents\\\\notebooks\\\\output\\\\split-test-and-train-Y_df_train.pkl\",\n",
    "    \"nb\": \"C:\\\\Users\\\\victor\\\\Documents\\\\notebooks\\\\output\\\\split-test-and-train.ipynb\",\n",
    "}\n"
   ]
  },
  {
   "cell_type": "code",
   "execution_count": 4,
   "id": "906d78d1",
   "metadata": {
    "execution": {
     "iopub.execute_input": "2022-03-03T05:39:39.372770Z",
     "iopub.status.busy": "2022-03-03T05:39:39.372770Z",
     "iopub.status.idle": "2022-03-03T05:39:39.689531Z",
     "shell.execute_reply": "2022-03-03T05:39:39.689531Z"
    },
    "papermill": {
     "duration": 0.349489,
     "end_time": "2022-03-03T05:39:39.689531",
     "exception": false,
     "start_time": "2022-03-03T05:39:39.340042",
     "status": "completed"
    },
    "tags": [
     "soorgeon-unpickle"
    ]
   },
   "outputs": [],
   "source": [
    "X_df = pickle.loads(Path(upstream['creating-dataframe-for-x']['X_df']).read_bytes())\n",
    "Y_df = pickle.loads(Path(upstream['creating-dataframe-for-y']['Y_df']).read_bytes())"
   ]
  },
  {
   "cell_type": "markdown",
   "id": "27ebae40",
   "metadata": {
    "papermill": {
     "duration": 0.011325,
     "end_time": "2022-03-03T05:39:39.700856",
     "exception": false,
     "start_time": "2022-03-03T05:39:39.689531",
     "status": "completed"
    },
    "tags": []
   },
   "source": [
    "## Split Test and Train"
   ]
  },
  {
   "cell_type": "code",
   "execution_count": 5,
   "id": "2f399ea6",
   "metadata": {
    "execution": {
     "iopub.execute_input": "2022-03-03T05:39:39.712823Z",
     "iopub.status.busy": "2022-03-03T05:39:39.712823Z",
     "iopub.status.idle": "2022-03-03T05:39:39.720802Z",
     "shell.execute_reply": "2022-03-03T05:39:39.720802Z"
    },
    "papermill": {
     "duration": 0.01496,
     "end_time": "2022-03-03T05:39:39.720802",
     "exception": false,
     "start_time": "2022-03-03T05:39:39.705842",
     "status": "completed"
    },
    "tags": []
   },
   "outputs": [],
   "source": [
    "output_size = 6  # This is how many periods you wish predict. 6 weeks in this case\n",
    "Y_df_test = Y_df.groupby('unique_id').tail(output_size)\n",
    "Y_df_train = Y_df.drop(Y_df_test.index)\n",
    "\n",
    "X_df_train = X_df.drop(Y_df_test.index)"
   ]
  },
  {
   "cell_type": "code",
   "execution_count": 6,
   "id": "974f5435",
   "metadata": {
    "execution": {
     "iopub.execute_input": "2022-03-03T05:39:39.731772Z",
     "iopub.status.busy": "2022-03-03T05:39:39.731772Z",
     "iopub.status.idle": "2022-03-03T05:39:39.734764Z",
     "shell.execute_reply": "2022-03-03T05:39:39.735762Z"
    },
    "papermill": {
     "duration": 0.009974,
     "end_time": "2022-03-03T05:39:39.735762",
     "exception": false,
     "start_time": "2022-03-03T05:39:39.725788",
     "status": "completed"
    },
    "tags": []
   },
   "outputs": [],
   "source": [
    "# Since I want to show a comparable result along with my predictions,\n",
    "# output split is to be doubled so that I can have train  >  validation  >  predictions\n",
    "#                                                         (output_size1)   (output_size2)\n",
    "input_size = 2 * output_size"
   ]
  },
  {
   "cell_type": "code",
   "execution_count": 7,
   "id": "5655a083",
   "metadata": {
    "execution": {
     "iopub.execute_input": "2022-03-03T05:39:39.740771Z",
     "iopub.status.busy": "2022-03-03T05:39:39.740771Z",
     "iopub.status.idle": "2022-03-03T05:39:39.772014Z",
     "shell.execute_reply": "2022-03-03T05:39:39.772014Z"
    },
    "papermill": {
     "duration": 0.032263,
     "end_time": "2022-03-03T05:39:39.772014",
     "exception": false,
     "start_time": "2022-03-03T05:39:39.739751",
     "status": "completed"
    },
    "tags": [
     "soorgeon-pickle"
    ]
   },
   "outputs": [
    {
     "data": {
      "text/plain": [
       "5"
      ]
     },
     "execution_count": 7,
     "metadata": {},
     "output_type": "execute_result"
    }
   ],
   "source": [
    "Path(product['X_df_train']).parent.mkdir(exist_ok=True, parents=True)\n",
    "Path(product['X_df_train']).write_bytes(pickle.dumps(X_df_train))\n",
    "\n",
    "Path(product['Y_df_test']).parent.mkdir(exist_ok=True, parents=True)\n",
    "Path(product['Y_df_test']).write_bytes(pickle.dumps(Y_df_test))\n",
    "\n",
    "Path(product['Y_df_train']).parent.mkdir(exist_ok=True, parents=True)\n",
    "Path(product['Y_df_train']).write_bytes(pickle.dumps(Y_df_train))\n",
    "\n",
    "Path(product['input_size']).parent.mkdir(exist_ok=True, parents=True)\n",
    "Path(product['input_size']).write_bytes(pickle.dumps(input_size))\n",
    "\n",
    "Path(product['output_size']).parent.mkdir(exist_ok=True, parents=True)\n",
    "Path(product['output_size']).write_bytes(pickle.dumps(output_size))"
   ]
  }
 ],
 "metadata": {
  "kernelspec": {
   "display_name": "Python 3 (ipykernel)",
   "language": "python",
   "name": "python3"
  },
  "language_info": {
   "codemirror_mode": {
    "name": "ipython",
    "version": 3
   },
   "file_extension": ".py",
   "mimetype": "text/x-python",
   "name": "python",
   "nbconvert_exporter": "python",
   "pygments_lexer": "ipython3",
   "version": "3.7.11"
  },
  "papermill": {
   "duration": 2.126864,
   "end_time": "2022-03-03T05:39:39.998642",
   "exception": null,
   "input_path": "C:\\Users\\victor\\AppData\\Local\\Temp\\tmpiqum6_i0.ipynb",
   "output_path": "C:\\Users\\victor\\Documents\\notebooks\\output\\split-test-and-train.ipynb",
   "parameters": {
    "product": {
     "X_df_train": "C:\\Users\\victor\\Documents\\notebooks\\output\\split-test-and-train-X_df_train.pkl",
     "Y_df_test": "C:\\Users\\victor\\Documents\\notebooks\\output\\split-test-and-train-Y_df_test.pkl",
     "Y_df_train": "C:\\Users\\victor\\Documents\\notebooks\\output\\split-test-and-train-Y_df_train.pkl",
     "input_size": "C:\\Users\\victor\\Documents\\notebooks\\output\\split-test-and-train-input_size.pkl",
     "nb": "C:\\Users\\victor\\Documents\\notebooks\\output\\split-test-and-train.ipynb",
     "output_size": "C:\\Users\\victor\\Documents\\notebooks\\output\\split-test-and-train-output_size.pkl"
    },
    "upstream": {
     "creating-dataframe-for-x": {
      "X_df": "C:\\Users\\victor\\Documents\\notebooks\\output\\creating-dataframe-for-x-X_df.pkl",
      "nb": "C:\\Users\\victor\\Documents\\notebooks\\output\\creating-dataframe-for-x.ipynb"
     },
     "creating-dataframe-for-y": {
      "Y_df": "C:\\Users\\victor\\Documents\\notebooks\\output\\creating-dataframe-for-y-Y_df.pkl",
      "nb": "C:\\Users\\victor\\Documents\\notebooks\\output\\creating-dataframe-for-y.ipynb"
     }
    }
   },
   "start_time": "2022-03-03T05:39:37.871778"
  }
 },
 "nbformat": 4,
 "nbformat_minor": 5
}