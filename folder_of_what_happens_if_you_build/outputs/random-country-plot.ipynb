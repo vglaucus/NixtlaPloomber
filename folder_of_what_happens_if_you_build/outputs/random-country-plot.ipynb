{
 "cells": [
  {
   "cell_type": "code",
   "execution_count": 1,
   "id": "8fd10fc2",
   "metadata": {
    "execution": {
     "iopub.execute_input": "2022-03-03T05:40:07.808244Z",
     "iopub.status.busy": "2022-03-03T05:40:07.808244Z",
     "iopub.status.idle": "2022-03-03T05:40:07.823863Z",
     "shell.execute_reply": "2022-03-03T05:40:07.823863Z"
    },
    "papermill": {
     "duration": 0.046864,
     "end_time": "2022-03-03T05:40:07.823863",
     "exception": false,
     "start_time": "2022-03-03T05:40:07.776999",
     "status": "completed"
    },
    "tags": [
     "soorgeon-imports"
    ]
   },
   "outputs": [],
   "source": [
    "from random import choice\n",
    "from pathlib import Path\n",
    "import pickle"
   ]
  },
  {
   "cell_type": "code",
   "execution_count": 2,
   "id": "a0389e4b",
   "metadata": {
    "execution": {
     "iopub.execute_input": "2022-03-03T05:40:07.861275Z",
     "iopub.status.busy": "2022-03-03T05:40:07.861275Z",
     "iopub.status.idle": "2022-03-03T05:40:07.874240Z",
     "shell.execute_reply": "2022-03-03T05:40:07.873243Z"
    },
    "papermill": {
     "duration": 0.050377,
     "end_time": "2022-03-03T05:40:07.874240",
     "exception": false,
     "start_time": "2022-03-03T05:40:07.823863",
     "status": "completed"
    },
    "tags": [
     "parameters"
    ]
   },
   "outputs": [],
   "source": [
    "upstream = ['forecasting-using-the-model', 'split-test-and-train']\n",
    "product = None"
   ]
  },
  {
   "cell_type": "code",
   "execution_count": 3,
   "id": "122987c5",
   "metadata": {
    "execution": {
     "iopub.execute_input": "2022-03-03T05:40:07.901869Z",
     "iopub.status.busy": "2022-03-03T05:40:07.901869Z",
     "iopub.status.idle": "2022-03-03T05:40:07.917491Z",
     "shell.execute_reply": "2022-03-03T05:40:07.917491Z"
    },
    "papermill": {
     "duration": 0.035273,
     "end_time": "2022-03-03T05:40:07.917491",
     "exception": false,
     "start_time": "2022-03-03T05:40:07.882218",
     "status": "completed"
    },
    "tags": [
     "injected-parameters"
    ]
   },
   "outputs": [],
   "source": [
    "# Parameters\n",
    "upstream = {\n",
    "    \"forecasting-using-the-model\": {\n",
    "        \"Y_df_forecast\": \"C:\\\\Users\\\\victor\\\\Documents\\\\notebooks\\\\output\\\\forecasting-using-the-model-Y_df_forecast.pkl\",\n",
    "        \"nb\": \"C:\\\\Users\\\\victor\\\\Documents\\\\notebooks\\\\output\\\\forecasting-using-the-model.ipynb\",\n",
    "    },\n",
    "    \"split-test-and-train\": {\n",
    "        \"Y_df_test\": \"C:\\\\Users\\\\victor\\\\Documents\\\\notebooks\\\\output\\\\split-test-and-train-Y_df_test.pkl\",\n",
    "        \"output_size\": \"C:\\\\Users\\\\victor\\\\Documents\\\\notebooks\\\\output\\\\split-test-and-train-output_size.pkl\",\n",
    "        \"X_df_train\": \"C:\\\\Users\\\\victor\\\\Documents\\\\notebooks\\\\output\\\\split-test-and-train-X_df_train.pkl\",\n",
    "        \"input_size\": \"C:\\\\Users\\\\victor\\\\Documents\\\\notebooks\\\\output\\\\split-test-and-train-input_size.pkl\",\n",
    "        \"Y_df_train\": \"C:\\\\Users\\\\victor\\\\Documents\\\\notebooks\\\\output\\\\split-test-and-train-Y_df_train.pkl\",\n",
    "        \"nb\": \"C:\\\\Users\\\\victor\\\\Documents\\\\notebooks\\\\output\\\\split-test-and-train.ipynb\",\n",
    "    },\n",
    "}\n",
    "product = {\n",
    "    \"nb\": \"C:\\\\Users\\\\victor\\\\Documents\\\\notebooks\\\\output\\\\random-country-plot.ipynb\"\n",
    "}\n"
   ]
  },
  {
   "cell_type": "code",
   "execution_count": 4,
   "id": "519d7e22",
   "metadata": {
    "execution": {
     "iopub.execute_input": "2022-03-03T05:40:07.962879Z",
     "iopub.status.busy": "2022-03-03T05:40:07.961882Z",
     "iopub.status.idle": "2022-03-03T05:40:08.399620Z",
     "shell.execute_reply": "2022-03-03T05:40:08.399620Z"
    },
    "papermill": {
     "duration": 0.466508,
     "end_time": "2022-03-03T05:40:08.399620",
     "exception": false,
     "start_time": "2022-03-03T05:40:07.933112",
     "status": "completed"
    },
    "tags": [
     "soorgeon-unpickle"
    ]
   },
   "outputs": [],
   "source": [
    "Y_df_forecast = pickle.loads(Path(upstream['forecasting-using-the-model']['Y_df_forecast']).read_bytes())\n",
    "Y_df_test = pickle.loads(Path(upstream['split-test-and-train']['Y_df_test']).read_bytes())\n",
    "Y_df_train = pickle.loads(Path(upstream['split-test-and-train']['Y_df_train']).read_bytes())"
   ]
  },
  {
   "cell_type": "markdown",
   "id": "161f789b",
   "metadata": {
    "papermill": {
     "duration": 0.0,
     "end_time": "2022-03-03T05:40:08.399620",
     "exception": false,
     "start_time": "2022-03-03T05:40:08.399620",
     "status": "completed"
    },
    "tags": []
   },
   "source": [
    "## Random country plot"
   ]
  },
  {
   "cell_type": "code",
   "execution_count": 5,
   "id": "062068bb",
   "metadata": {
    "execution": {
     "iopub.execute_input": "2022-03-03T05:40:08.419215Z",
     "iopub.status.busy": "2022-03-03T05:40:08.418218Z",
     "iopub.status.idle": "2022-03-03T05:40:09.207163Z",
     "shell.execute_reply": "2022-03-03T05:40:09.207163Z"
    },
    "papermill": {
     "duration": 0.807543,
     "end_time": "2022-03-03T05:40:09.207163",
     "exception": false,
     "start_time": "2022-03-03T05:40:08.399620",
     "status": "completed"
    },
    "tags": []
   },
   "outputs": [
    {
     "data": {
      "text/plain": [
       "<AxesSubplot:title={'center':'Jersey'}, xlabel='ds'>"
      ]
     },
     "execution_count": 5,
     "metadata": {},
     "output_type": "execute_result"
    },
    {
     "data": {
      "image/png": "[encoded data removed]",
      "text/plain": [
       "<Figure size 432x288 with 1 Axes>"
      ]
     },
     "metadata": {
      "needs_background": "light"
     },
     "output_type": "display_data"
    }
   ],
   "source": [
    "Y_df_plot = Y_df_test.append(Y_df_train).merge(Y_df_forecast, how='left', on=['unique_id', 'ds']).sort_values(\"ds\")\n",
    "country = choice(Y_df_plot[\"unique_id\"].unique())\n",
    "Y_df_plot.query(f'unique_id == \"{country}\"').tail(100).set_index('ds').plot(title=country)"
   ]
  }
 ],
 "metadata": {
  "kernelspec": {
   "display_name": "Python 3 (ipykernel)",
   "language": "python",
   "name": "python3"
  },
  "language_info": {
   "codemirror_mode": {
    "name": "ipython",
    "version": 3
   },
   "file_extension": ".py",
   "mimetype": "text/x-python",
   "name": "python",
   "nbconvert_exporter": "python",
   "pygments_lexer": "ipython3",
   "version": "3.7.11"
  },
  "papermill": {
   "duration": 2.930652,
   "end_time": "2022-03-03T05:40:09.443546",
   "exception": null,
   "input_path": "C:\\Users\\victor\\AppData\\Local\\Temp\\tmpl2myjm1l.ipynb",
   "output_path": "C:\\Users\\victor\\Documents\\notebooks\\output\\random-country-plot.ipynb",
   "parameters": {
    "product": {
     "nb": "C:\\Users\\victor\\Documents\\notebooks\\output\\random-country-plot.ipynb"
    },
    "upstream": {
     "forecasting-using-the-model": {
      "Y_df_forecast": "C:\\Users\\victor\\Documents\\notebooks\\output\\forecasting-using-the-model-Y_df_forecast.pkl",
      "nb": "C:\\Users\\victor\\Documents\\notebooks\\output\\forecasting-using-the-model.ipynb"
     },
     "split-test-and-train": {
      "X_df_train": "C:\\Users\\victor\\Documents\\notebooks\\output\\split-test-and-train-X_df_train.pkl",
      "Y_df_test": "C:\\Users\\victor\\Documents\\notebooks\\output\\split-test-and-train-Y_df_test.pkl",
      "Y_df_train": "C:\\Users\\victor\\Documents\\notebooks\\output\\split-test-and-train-Y_df_train.pkl",
      "input_size": "C:\\Users\\victor\\Documents\\notebooks\\output\\split-test-and-train-input_size.pkl",
      "nb": "C:\\Users\\victor\\Documents\\notebooks\\output\\split-test-and-train.ipynb",
      "output_size": "C:\\Users\\victor\\Documents\\notebooks\\output\\split-test-and-train-output_size.pkl"
     }
    }
   },
   "start_time": "2022-03-03T05:40:06.512894"
  }
 },
 "nbformat": 4,
 "nbformat_minor": 5
}