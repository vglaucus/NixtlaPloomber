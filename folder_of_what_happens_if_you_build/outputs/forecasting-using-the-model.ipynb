{
 "cells": [
  {
   "cell_type": "code",
   "execution_count": 1,
   "id": "3f44ca82",
   "metadata": {
    "execution": {
     "iopub.execute_input": "2022-03-03T05:39:58.027773Z",
     "iopub.status.busy": "2022-03-03T05:39:58.012151Z",
     "iopub.status.idle": "2022-03-03T05:39:58.043392Z",
     "shell.execute_reply": "2022-03-03T05:39:58.043392Z"
    },
    "papermill": {
     "duration": 0.062486,
     "end_time": "2022-03-03T05:39:58.043392",
     "exception": false,
     "start_time": "2022-03-03T05:39:57.980906",
     "status": "completed"
    },
    "tags": [
     "soorgeon-imports"
    ]
   },
   "outputs": [],
   "source": [
    "\n",
    "from pathlib import Path\n",
    "import pickle"
   ]
  },
  {
   "cell_type": "code",
   "execution_count": 2,
   "id": "7be20f88",
   "metadata": {
    "execution": {
     "iopub.execute_input": "2022-03-03T05:39:58.076590Z",
     "iopub.status.busy": "2022-03-03T05:39:58.076590Z",
     "iopub.status.idle": "2022-03-03T05:39:58.092212Z",
     "shell.execute_reply": "2022-03-03T05:39:58.092212Z"
    },
    "papermill": {
     "duration": 0.033199,
     "end_time": "2022-03-03T05:39:58.092212",
     "exception": false,
     "start_time": "2022-03-03T05:39:58.059013",
     "status": "completed"
    },
    "tags": [
     "parameters"
    ]
   },
   "outputs": [],
   "source": [
    "upstream = ['creating-dataframe-for-x', 'instancing-the-model', 'split-test-and-train']\n",
    "product = None"
   ]
  },
  {
   "cell_type": "code",
   "execution_count": 3,
   "id": "d4f87b2c",
   "metadata": {
    "execution": {
     "iopub.execute_input": "2022-03-03T05:39:58.140810Z",
     "iopub.status.busy": "2022-03-03T05:39:58.137818Z",
     "iopub.status.idle": "2022-03-03T05:39:58.158509Z",
     "shell.execute_reply": "2022-03-03T05:39:58.158509Z"
    },
    "papermill": {
     "duration": 0.066297,
     "end_time": "2022-03-03T05:39:58.158509",
     "exception": false,
     "start_time": "2022-03-03T05:39:58.092212",
     "status": "completed"
    },
    "tags": [
     "injected-parameters"
    ]
   },
   "outputs": [],
   "source": [
    "# Parameters\n",
    "upstream = {\n",
    "    \"instancing-the-model\": {\n",
    "        \"model\": \"C:\\\\Users\\\\victor\\\\Documents\\\\notebooks\\\\output\\\\instancing-the-model-model.pkl\",\n",
    "        \"nb\": \"C:\\\\Users\\\\victor\\\\Documents\\\\notebooks\\\\output\\\\instancing-the-model.ipynb\",\n",
    "    },\n",
    "    \"creating-dataframe-for-x\": {\n",
    "        \"X_df\": \"C:\\\\Users\\\\victor\\\\Documents\\\\notebooks\\\\output\\\\creating-dataframe-for-x-X_df.pkl\",\n",
    "        \"nb\": \"C:\\\\Users\\\\victor\\\\Documents\\\\notebooks\\\\output\\\\creating-dataframe-for-x.ipynb\",\n",
    "    },\n",
    "    \"split-test-and-train\": {\n",
    "        \"Y_df_test\": \"C:\\\\Users\\\\victor\\\\Documents\\\\notebooks\\\\output\\\\split-test-and-train-Y_df_test.pkl\",\n",
    "        \"output_size\": \"C:\\\\Users\\\\victor\\\\Documents\\\\notebooks\\\\output\\\\split-test-and-train-output_size.pkl\",\n",
    "        \"X_df_train\": \"C:\\\\Users\\\\victor\\\\Documents\\\\notebooks\\\\output\\\\split-test-and-train-X_df_train.pkl\",\n",
    "        \"input_size\": \"C:\\\\Users\\\\victor\\\\Documents\\\\notebooks\\\\output\\\\split-test-and-train-input_size.pkl\",\n",
    "        \"Y_df_train\": \"C:\\\\Users\\\\victor\\\\Documents\\\\notebooks\\\\output\\\\split-test-and-train-Y_df_train.pkl\",\n",
    "        \"nb\": \"C:\\\\Users\\\\victor\\\\Documents\\\\notebooks\\\\output\\\\split-test-and-train.ipynb\",\n",
    "    },\n",
    "}\n",
    "product = {\n",
    "    \"Y_df_forecast\": \"C:\\\\Users\\\\victor\\\\Documents\\\\notebooks\\\\output\\\\forecasting-using-the-model-Y_df_forecast.pkl\",\n",
    "    \"nb\": \"C:\\\\Users\\\\victor\\\\Documents\\\\notebooks\\\\output\\\\forecasting-using-the-model.ipynb\",\n",
    "}\n"
   ]
  },
  {
   "cell_type": "code",
   "execution_count": 4,
   "id": "6192203c",
   "metadata": {
    "execution": {
     "iopub.execute_input": "2022-03-03T05:39:58.216215Z",
     "iopub.status.busy": "2022-03-03T05:39:58.214220Z",
     "iopub.status.idle": "2022-03-03T05:40:00.998793Z",
     "shell.execute_reply": "2022-03-03T05:40:00.998793Z"
    },
    "papermill": {
     "duration": 2.804516,
     "end_time": "2022-03-03T05:40:00.998793",
     "exception": false,
     "start_time": "2022-03-03T05:39:58.194277",
     "status": "completed"
    },
    "tags": [
     "soorgeon-unpickle"
    ]
   },
   "outputs": [],
   "source": [
    "X_df = pickle.loads(Path(upstream['creating-dataframe-for-x']['X_df']).read_bytes())\n",
    "model = pickle.loads(Path(upstream['instancing-the-model']['model']).read_bytes())\n",
    "Y_df_train = pickle.loads(Path(upstream['split-test-and-train']['Y_df_train']).read_bytes())"
   ]
  },
  {
   "cell_type": "markdown",
   "id": "9bd0923c",
   "metadata": {
    "papermill": {
     "duration": 0.013394,
     "end_time": "2022-03-03T05:40:01.043431",
     "exception": false,
     "start_time": "2022-03-03T05:40:01.030037",
     "status": "completed"
    },
    "tags": []
   },
   "source": [
    "## Forecasting using the model"
   ]
  },
  {
   "cell_type": "code",
   "execution_count": 5,
   "id": "845317d5",
   "metadata": {
    "execution": {
     "iopub.execute_input": "2022-03-03T05:40:01.056395Z",
     "iopub.status.busy": "2022-03-03T05:40:01.056395Z",
     "iopub.status.idle": "2022-03-03T05:40:01.477187Z",
     "shell.execute_reply": "2022-03-03T05:40:01.477187Z"
    },
    "papermill": {
     "duration": 0.427774,
     "end_time": "2022-03-03T05:40:01.477187",
     "exception": false,
     "start_time": "2022-03-03T05:40:01.049413",
     "status": "completed"
    },
    "scrolled": true,
    "tags": []
   },
   "outputs": [
    {
     "name": "stderr",
     "output_type": "stream",
     "text": [
      "INFO:root:Train Validation splits\n",
      "\n"
     ]
    },
    {
     "name": "stderr",
     "output_type": "stream",
     "text": [
      "INFO:root:                    ds           \n",
      "                   min        max\n",
      "sample_mask                      \n",
      "0           2020-01-06 2021-11-22\n",
      "1           2021-11-29 2022-01-03\n"
     ]
    },
    {
     "name": "stderr",
     "output_type": "stream",
     "text": [
      "INFO:root:\n",
      "Total data \t\t\t21710 time stamps \n",
      "Available percentage=100.0, \t21710 time stamps \n",
      "Insample  percentage=6.41, \t1392 time stamps \n",
      "Outsample percentage=93.59, \t20318 time stamps \n",
      "\n"
     ]
    },
    {
     "name": "stderr",
     "output_type": "stream",
     "text": [
      "C:\\Users\\victor\\anaconda3\\envs\\myenv2\\lib\\site-packages\\neuralforecast\\data\\tsdataset.py:208: FutureWarning: In a future version of pandas all arguments of DataFrame.drop except for the argument 'labels' will be keyword-only\n",
      "  X.drop(['unique_id', 'ds'], 1, inplace=True)\n",
      "INFO:pytorch_lightning.utilities.distributed:GPU available: False, used: False\n"
     ]
    },
    {
     "name": "stderr",
     "output_type": "stream",
     "text": [
      "INFO:pytorch_lightning.utilities.distributed:TPU available: False, using: 0 TPU cores\n"
     ]
    },
    {
     "name": "stderr",
     "output_type": "stream",
     "text": [
      "INFO:pytorch_lightning.utilities.distributed:IPU available: False, using: 0 IPUs\n"
     ]
    },
    {
     "name": "stderr",
     "output_type": "stream",
     "text": [
      "WARNING:pytorch_lightning.loggers.tensorboard:Missing logger folder: C:\\Users\\victor\\Documents\\notebooks\\lightning_logs\n"
     ]
    },
    {
     "name": "stderr",
     "output_type": "stream",
     "text": [
      "C:\\Users\\victor\\anaconda3\\envs\\myenv2\\lib\\site-packages\\neuralforecast\\data\\tsloader.py:47: UserWarning: This class wraps the pytorch `DataLoader` with a special collate function. If you want to use yours simply use `DataLoader`. Removing collate_fn\n",
      "  'This class wraps the pytorch `DataLoader` with a '\n",
      "C:\\Users\\victor\\anaconda3\\envs\\myenv2\\lib\\site-packages\\pytorch_lightning\\trainer\\data_loading.py:133: UserWarning: The dataloader, predict_dataloader 0, does not have many workers which may be a bottleneck. Consider increasing the value of the `num_workers` argument` (try 8 which is the number of cpus on this machine) in the `DataLoader` init to improve performance.\n",
      "  f\"The dataloader, {name}, does not have many workers which may be a bottleneck.\"\n"
     ]
    },
    {
     "name": "stdout",
     "output_type": "stream",
     "text": [
      "\r",
      "Predicting: 0it [00:00, ?it/s]"
     ]
    },
    {
     "name": "stdout",
     "output_type": "stream",
     "text": [
      "\r",
      "Predicting:  51%|██████████████████████████▍                         | 118/232 [00:00<00:00, 1079.11it/s]"
     ]
    },
    {
     "name": "stdout",
     "output_type": "stream",
     "text": [
      "\r",
      "Predicting: 100%|████████████████████████████████████████████████████| 232/232 [00:00<00:00, 1060.82it/s]"
     ]
    },
    {
     "name": "stdout",
     "output_type": "stream",
     "text": [
      "\n"
     ]
    },
    {
     "data": {
      "text/html": [
       "<div>\n",
       "<style scoped>\n",
       "    .dataframe tbody tr th:only-of-type {\n",
       "        vertical-align: middle;\n",
       "    }\n",
       "\n",
       "    .dataframe tbody tr th {\n",
       "        vertical-align: top;\n",
       "    }\n",
       "\n",
       "    .dataframe thead th {\n",
       "        text-align: right;\n",
       "    }\n",
       "</style>\n",
       "<table border=\"1\" class=\"dataframe\">\n",
       "  <thead>\n",
       "    <tr style=\"text-align: right;\">\n",
       "      <th></th>\n",
       "      <th>unique_id</th>\n",
       "      <th>ds</th>\n",
       "      <th>y_hat</th>\n",
       "    </tr>\n",
       "  </thead>\n",
       "  <tbody>\n",
       "    <tr>\n",
       "      <th>0</th>\n",
       "      <td>Afghanistan</td>\n",
       "      <td>2021-11-29</td>\n",
       "      <td>371.672485</td>\n",
       "    </tr>\n",
       "    <tr>\n",
       "      <th>1</th>\n",
       "      <td>Afghanistan</td>\n",
       "      <td>2021-12-06</td>\n",
       "      <td>137.954773</td>\n",
       "    </tr>\n",
       "    <tr>\n",
       "      <th>2</th>\n",
       "      <td>Afghanistan</td>\n",
       "      <td>2021-12-13</td>\n",
       "      <td>122.632866</td>\n",
       "    </tr>\n",
       "    <tr>\n",
       "      <th>3</th>\n",
       "      <td>Afghanistan</td>\n",
       "      <td>2021-12-20</td>\n",
       "      <td>76.291695</td>\n",
       "    </tr>\n",
       "    <tr>\n",
       "      <th>4</th>\n",
       "      <td>Afghanistan</td>\n",
       "      <td>2021-12-27</td>\n",
       "      <td>242.159256</td>\n",
       "    </tr>\n",
       "  </tbody>\n",
       "</table>\n",
       "</div>"
      ],
      "text/plain": [
       "     unique_id         ds       y_hat\n",
       "0  Afghanistan 2021-11-29  371.672485\n",
       "1  Afghanistan 2021-12-06  137.954773\n",
       "2  Afghanistan 2021-12-13  122.632866\n",
       "3  Afghanistan 2021-12-20   76.291695\n",
       "4  Afghanistan 2021-12-27  242.159256"
      ]
     },
     "execution_count": 5,
     "metadata": {},
     "output_type": "execute_result"
    }
   ],
   "source": [
    "Y_df_forecast = model.forecast(Y_df_train, X_df=X_df)\n",
    "Y_df_forecast.rename(columns={'y': 'y_hat'}, inplace=True)\n",
    "Y_df_forecast.head()"
   ]
  },
  {
   "cell_type": "markdown",
   "id": "5b7d726e",
   "metadata": {
    "papermill": {
     "duration": 0.018311,
     "end_time": "2022-03-03T05:40:01.495498",
     "exception": false,
     "start_time": "2022-03-03T05:40:01.477187",
     "status": "completed"
    },
    "tags": []
   },
   "source": [
    "# Results"
   ]
  },
  {
   "cell_type": "code",
   "execution_count": 6,
   "id": "dac26052",
   "metadata": {
    "execution": {
     "iopub.execute_input": "2022-03-03T05:40:01.533559Z",
     "iopub.status.busy": "2022-03-03T05:40:01.532561Z",
     "iopub.status.idle": "2022-03-03T05:40:01.543532Z",
     "shell.execute_reply": "2022-03-03T05:40:01.543532Z"
    },
    "papermill": {
     "duration": 0.032413,
     "end_time": "2022-03-03T05:40:01.543532",
     "exception": false,
     "start_time": "2022-03-03T05:40:01.511119",
     "status": "completed"
    },
    "tags": [
     "soorgeon-pickle"
    ]
   },
   "outputs": [
    {
     "data": {
      "text/plain": [
       "24920"
      ]
     },
     "execution_count": 6,
     "metadata": {},
     "output_type": "execute_result"
    }
   ],
   "source": [
    "Path(product['Y_df_forecast']).parent.mkdir(exist_ok=True, parents=True)\n",
    "Path(product['Y_df_forecast']).write_bytes(pickle.dumps(Y_df_forecast))"
   ]
  }
 ],
 "metadata": {
  "kernelspec": {
   "display_name": "Python 3 (ipykernel)",
   "language": "python",
   "name": "python3"
  },
  "language_info": {
   "codemirror_mode": {
    "name": "ipython",
    "version": 3
   },
   "file_extension": ".py",
   "mimetype": "text/x-python",
   "name": "python",
   "nbconvert_exporter": "python",
   "pygments_lexer": "ipython3",
   "version": "3.7.11"
  },
  "papermill": {
   "duration": 5.188663,
   "end_time": "2022-03-03T05:40:01.895798",
   "exception": null,
   "input_path": "C:\\Users\\victor\\AppData\\Local\\Temp\\tmp267xfull.ipynb",
   "output_path": "C:\\Users\\victor\\Documents\\notebooks\\output\\forecasting-using-the-model.ipynb",
   "parameters": {
    "product": {
     "Y_df_forecast": "C:\\Users\\victor\\Documents\\notebooks\\output\\forecasting-using-the-model-Y_df_forecast.pkl",
     "nb": "C:\\Users\\victor\\Documents\\notebooks\\output\\forecasting-using-the-model.ipynb"
    },
    "upstream": {
     "creating-dataframe-for-x": {
      "X_df": "C:\\Users\\victor\\Documents\\notebooks\\output\\creating-dataframe-for-x-X_df.pkl",
      "nb": "C:\\Users\\victor\\Documents\\notebooks\\output\\creating-dataframe-for-x.ipynb"
     },
     "instancing-the-model": {
      "model": "C:\\Users\\victor\\Documents\\notebooks\\output\\instancing-the-model-model.pkl",
      "nb": "C:\\Users\\victor\\Documents\\notebooks\\output\\instancing-the-model.ipynb"
     },
     "split-test-and-train": {
      "X_df_train": "C:\\Users\\victor\\Documents\\notebooks\\output\\split-test-and-train-X_df_train.pkl",
      "Y_df_test": "C:\\Users\\victor\\Documents\\notebooks\\output\\split-test-and-train-Y_df_test.pkl",
      "Y_df_train": "C:\\Users\\victor\\Documents\\notebooks\\output\\split-test-and-train-Y_df_train.pkl",
      "input_size": "C:\\Users\\victor\\Documents\\notebooks\\output\\split-test-and-train-input_size.pkl",
      "nb": "C:\\Users\\victor\\Documents\\notebooks\\output\\split-test-and-train.ipynb",
      "output_size": "C:\\Users\\victor\\Documents\\notebooks\\output\\split-test-and-train-output_size.pkl"
     }
    }
   },
   "start_time": "2022-03-03T05:39:56.707135"
  }
 },
 "nbformat": 4,
 "nbformat_minor": 5
}