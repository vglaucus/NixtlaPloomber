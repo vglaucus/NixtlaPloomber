{
 "cells": [
  {
   "cell_type": "code",
   "execution_count": 1,
   "id": "9cb124d7",
   "metadata": {
    "execution": {
     "iopub.execute_input": "2022-03-03T05:39:50.223503Z",
     "iopub.status.busy": "2022-03-03T05:39:50.223503Z",
     "iopub.status.idle": "2022-03-03T05:39:50.348469Z",
     "shell.execute_reply": "2022-03-03T05:39:50.348469Z"
    },
    "papermill": {
     "duration": 0.15621,
     "end_time": "2022-03-03T05:39:50.348469",
     "exception": false,
     "start_time": "2022-03-03T05:39:50.192259",
     "status": "completed"
    },
    "tags": [
     "soorgeon-imports"
    ]
   },
   "outputs": [],
   "source": [
    "import numpy as np\n",
    "from pathlib import Path\n",
    "import pickle"
   ]
  },
  {
   "cell_type": "code",
   "execution_count": 2,
   "id": "563bc5a1",
   "metadata": {
    "execution": {
     "iopub.execute_input": "2022-03-03T05:39:50.362451Z",
     "iopub.status.busy": "2022-03-03T05:39:50.361454Z",
     "iopub.status.idle": "2022-03-03T05:39:50.379405Z",
     "shell.execute_reply": "2022-03-03T05:39:50.379405Z"
    },
    "papermill": {
     "duration": 0.030936,
     "end_time": "2022-03-03T05:39:50.379405",
     "exception": false,
     "start_time": "2022-03-03T05:39:50.348469",
     "status": "completed"
    },
    "tags": [
     "parameters"
    ]
   },
   "outputs": [],
   "source": [
    "upstream = ['train', 'split-test-and-train']\n",
    "product = None"
   ]
  },
  {
   "cell_type": "code",
   "execution_count": 3,
   "id": "b90c8915",
   "metadata": {
    "execution": {
     "iopub.execute_input": "2022-03-03T05:39:50.391373Z",
     "iopub.status.busy": "2022-03-03T05:39:50.390375Z",
     "iopub.status.idle": "2022-03-03T05:39:50.393367Z",
     "shell.execute_reply": "2022-03-03T05:39:50.394365Z"
    },
    "papermill": {
     "duration": 0.010971,
     "end_time": "2022-03-03T05:39:50.394365",
     "exception": false,
     "start_time": "2022-03-03T05:39:50.383394",
     "status": "completed"
    },
    "tags": [
     "injected-parameters"
    ]
   },
   "outputs": [],
   "source": [
    "# Parameters\n",
    "upstream = {\n",
    "    \"split-test-and-train\": {\n",
    "        \"Y_df_test\": \"C:\\\\Users\\\\victor\\\\Documents\\\\notebooks\\\\output\\\\split-test-and-train-Y_df_test.pkl\",\n",
    "        \"output_size\": \"C:\\\\Users\\\\victor\\\\Documents\\\\notebooks\\\\output\\\\split-test-and-train-output_size.pkl\",\n",
    "        \"X_df_train\": \"C:\\\\Users\\\\victor\\\\Documents\\\\notebooks\\\\output\\\\split-test-and-train-X_df_train.pkl\",\n",
    "        \"input_size\": \"C:\\\\Users\\\\victor\\\\Documents\\\\notebooks\\\\output\\\\split-test-and-train-input_size.pkl\",\n",
    "        \"Y_df_train\": \"C:\\\\Users\\\\victor\\\\Documents\\\\notebooks\\\\output\\\\split-test-and-train-Y_df_train.pkl\",\n",
    "        \"nb\": \"C:\\\\Users\\\\victor\\\\Documents\\\\notebooks\\\\output\\\\split-test-and-train.ipynb\",\n",
    "    },\n",
    "    \"train\": {\n",
    "        \"val_mask_df\": \"C:\\\\Users\\\\victor\\\\Documents\\\\notebooks\\\\output\\\\train-val_mask_df.pkl\",\n",
    "        \"train_mask_df\": \"C:\\\\Users\\\\victor\\\\Documents\\\\notebooks\\\\output\\\\train-train_mask_df.pkl\",\n",
    "        \"nb\": \"C:\\\\Users\\\\victor\\\\Documents\\\\notebooks\\\\output\\\\train.ipynb\",\n",
    "    },\n",
    "}\n",
    "product = {\n",
    "    \"nb\": \"C:\\\\Users\\\\victor\\\\Documents\\\\notebooks\\\\output\\\\plot-of-train-test-proportion.ipynb\"\n",
    "}\n"
   ]
  },
  {
   "cell_type": "code",
   "execution_count": 4,
   "id": "d4ce99a3",
   "metadata": {
    "execution": {
     "iopub.execute_input": "2022-03-03T05:39:50.401368Z",
     "iopub.status.busy": "2022-03-03T05:39:50.401368Z",
     "iopub.status.idle": "2022-03-03T05:39:50.628043Z",
     "shell.execute_reply": "2022-03-03T05:39:50.628043Z"
    },
    "papermill": {
     "duration": 0.229689,
     "end_time": "2022-03-03T05:39:50.628043",
     "exception": false,
     "start_time": "2022-03-03T05:39:50.398354",
     "status": "completed"
    },
    "tags": [
     "soorgeon-unpickle"
    ]
   },
   "outputs": [],
   "source": [
    "Y_df_train = pickle.loads(Path(upstream['split-test-and-train']['Y_df_train']).read_bytes())\n",
    "train_mask_df = pickle.loads(Path(upstream['train']['train_mask_df']).read_bytes())\n",
    "val_mask_df = pickle.loads(Path(upstream['train']['val_mask_df']).read_bytes())"
   ]
  },
  {
   "cell_type": "markdown",
   "id": "085058b6",
   "metadata": {
    "papermill": {
     "duration": 0.01471,
     "end_time": "2022-03-03T05:39:50.642753",
     "exception": false,
     "start_time": "2022-03-03T05:39:50.628043",
     "status": "completed"
    },
    "tags": []
   },
   "source": [
    "## Plot of train/test proportion"
   ]
  },
  {
   "cell_type": "code",
   "execution_count": 5,
   "id": "4cae575a",
   "metadata": {
    "execution": {
     "iopub.execute_input": "2022-03-03T05:39:50.668682Z",
     "iopub.status.busy": "2022-03-03T05:39:50.668682Z",
     "iopub.status.idle": "2022-03-03T05:39:50.701284Z",
     "shell.execute_reply": "2022-03-03T05:39:50.701284Z"
    },
    "papermill": {
     "duration": 0.046564,
     "end_time": "2022-03-03T05:39:50.701284",
     "exception": false,
     "start_time": "2022-03-03T05:39:50.654720",
     "status": "completed"
    },
    "tags": []
   },
   "outputs": [],
   "source": [
    "plot_df = Y_df_train.merge(\n",
    "    train_mask_df.drop('available_mask', axis=1).rename(columns={'sample_mask': 'sample_mask_train'}),\n",
    "    how='left',\n",
    "    on=['unique_id', 'ds']\n",
    ").merge(\n",
    "    val_mask_df.drop('available_mask', axis=1).rename(columns={'sample_mask': 'sample_mask_val'}),\n",
    "    how='left',\n",
    "    on=['unique_id', 'ds']\n",
    ")"
   ]
  },
  {
   "cell_type": "code",
   "execution_count": 6,
   "id": "8aa00989",
   "metadata": {
    "execution": {
     "iopub.execute_input": "2022-03-03T05:39:50.751263Z",
     "iopub.status.busy": "2022-03-03T05:39:50.749839Z",
     "iopub.status.idle": "2022-03-03T05:39:50.780184Z",
     "shell.execute_reply": "2022-03-03T05:39:50.780184Z"
    },
    "papermill": {
     "duration": 0.048652,
     "end_time": "2022-03-03T05:39:50.781182",
     "exception": false,
     "start_time": "2022-03-03T05:39:50.732530",
     "status": "completed"
    },
    "tags": []
   },
   "outputs": [
    {
     "data": {
      "text/html": [
       "<div>\n",
       "<style scoped>\n",
       "    .dataframe tbody tr th:only-of-type {\n",
       "        vertical-align: middle;\n",
       "    }\n",
       "\n",
       "    .dataframe tbody tr th {\n",
       "        vertical-align: top;\n",
       "    }\n",
       "\n",
       "    .dataframe thead th {\n",
       "        text-align: right;\n",
       "    }\n",
       "</style>\n",
       "<table border=\"1\" class=\"dataframe\">\n",
       "  <thead>\n",
       "    <tr style=\"text-align: right;\">\n",
       "      <th></th>\n",
       "      <th>unique_id</th>\n",
       "      <th>ds</th>\n",
       "      <th>y</th>\n",
       "      <th>sample_mask_train</th>\n",
       "      <th>sample_mask_val</th>\n",
       "      <th>y_train</th>\n",
       "      <th>y_val</th>\n",
       "    </tr>\n",
       "  </thead>\n",
       "  <tbody>\n",
       "    <tr>\n",
       "      <th>2936</th>\n",
       "      <td>Bulgaria</td>\n",
       "      <td>2020-12-28</td>\n",
       "      <td>5581.0</td>\n",
       "      <td>1</td>\n",
       "      <td>0</td>\n",
       "      <td>5581.0</td>\n",
       "      <td>NaN</td>\n",
       "    </tr>\n",
       "    <tr>\n",
       "      <th>217</th>\n",
       "      <td>Albania</td>\n",
       "      <td>2020-10-12</td>\n",
       "      <td>1160.0</td>\n",
       "      <td>1</td>\n",
       "      <td>0</td>\n",
       "      <td>1160.0</td>\n",
       "      <td>NaN</td>\n",
       "    </tr>\n",
       "    <tr>\n",
       "      <th>15140</th>\n",
       "      <td>Romania</td>\n",
       "      <td>2021-07-19</td>\n",
       "      <td>403.0</td>\n",
       "      <td>1</td>\n",
       "      <td>0</td>\n",
       "      <td>403.0</td>\n",
       "      <td>NaN</td>\n",
       "    </tr>\n",
       "  </tbody>\n",
       "</table>\n",
       "</div>"
      ],
      "text/plain": [
       "      unique_id         ds       y  sample_mask_train  sample_mask_val  \\\n",
       "2936   Bulgaria 2020-12-28  5581.0                  1                0   \n",
       "217     Albania 2020-10-12  1160.0                  1                0   \n",
       "15140   Romania 2021-07-19   403.0                  1                0   \n",
       "\n",
       "       y_train  y_val  \n",
       "2936    5581.0    NaN  \n",
       "217     1160.0    NaN  \n",
       "15140    403.0    NaN  "
      ]
     },
     "execution_count": 6,
     "metadata": {},
     "output_type": "execute_result"
    }
   ],
   "source": [
    "plot_df['y_train'] = np.where(plot_df['sample_mask_train'] == 1, plot_df['y'], np.nan)\n",
    "plot_df['y_val'] = np.where(plot_df['sample_mask_val'] == 1, plot_df['y'], np.nan)\n",
    "plot_df.sample(3)"
   ]
  },
  {
   "cell_type": "code",
   "execution_count": 7,
   "id": "f8d12047",
   "metadata": {
    "execution": {
     "iopub.execute_input": "2022-03-03T05:39:50.817819Z",
     "iopub.status.busy": "2022-03-03T05:39:50.817819Z",
     "iopub.status.idle": "2022-03-03T05:39:51.683724Z",
     "shell.execute_reply": "2022-03-03T05:39:51.683724Z"
    },
    "papermill": {
     "duration": 0.893565,
     "end_time": "2022-03-03T05:39:51.683724",
     "exception": false,
     "start_time": "2022-03-03T05:39:50.790159",
     "status": "completed"
    },
    "tags": []
   },
   "outputs": [
    {
     "data": {
      "text/plain": [
       "<AxesSubplot:title={'center':'Train vs Validation'}, xlabel='ds'>"
      ]
     },
     "execution_count": 7,
     "metadata": {},
     "output_type": "execute_result"
    },
    {
     "data": {
      "image/png": "[encoded data removed]",
      "text/plain": [
       "<Figure size 432x288 with 1 Axes>"
      ]
     },
     "metadata": {
      "needs_background": "light"
     },
     "output_type": "display_data"
    }
   ],
   "source": [
    "plot_df.query('unique_id == \"Argentina\"').set_index('ds')[['y_train', 'y_val']].plot(title=\"Train vs Validation\")"
   ]
  }
 ],
 "metadata": {
  "kernelspec": {
   "display_name": "Python 3 (ipykernel)",
   "language": "python",
   "name": "python3"
  },
  "language_info": {
   "codemirror_mode": {
    "name": "ipython",
    "version": 3
   },
   "file_extension": ".py",
   "mimetype": "text/x-python",
   "name": "python",
   "nbconvert_exporter": "python",
   "pygments_lexer": "ipython3",
   "version": "3.7.11"
  },
  "papermill": {
   "duration": 3.021886,
   "end_time": "2022-03-03T05:39:51.918030",
   "exception": null,
   "input_path": "C:\\Users\\victor\\AppData\\Local\\Temp\\tmp_do9uzus.ipynb",
   "output_path": "C:\\Users\\victor\\Documents\\notebooks\\output\\plot-of-train-test-proportion.ipynb",
   "parameters": {
    "product": {
     "nb": "C:\\Users\\victor\\Documents\\notebooks\\output\\plot-of-train-test-proportion.ipynb"
    },
    "upstream": {
     "split-test-and-train": {
      "X_df_train": "C:\\Users\\victor\\Documents\\notebooks\\output\\split-test-and-train-X_df_train.pkl",
      "Y_df_test": "C:\\Users\\victor\\Documents\\notebooks\\output\\split-test-and-train-Y_df_test.pkl",
      "Y_df_train": "C:\\Users\\victor\\Documents\\notebooks\\output\\split-test-and-train-Y_df_train.pkl",
      "input_size": "C:\\Users\\victor\\Documents\\notebooks\\output\\split-test-and-train-input_size.pkl",
      "nb": "C:\\Users\\victor\\Documents\\notebooks\\output\\split-test-and-train.ipynb",
      "output_size": "C:\\Users\\victor\\Documents\\notebooks\\output\\split-test-and-train-output_size.pkl"
     },
     "train": {
      "nb": "C:\\Users\\victor\\Documents\\notebooks\\output\\train.ipynb",
      "train_mask_df": "C:\\Users\\victor\\Documents\\notebooks\\output\\train-train_mask_df.pkl",
      "val_mask_df": "C:\\Users\\victor\\Documents\\notebooks\\output\\train-val_mask_df.pkl"
     }
    }
   },
   "start_time": "2022-03-03T05:39:48.896144"
  }
 },
 "nbformat": 4,
 "nbformat_minor": 5
}