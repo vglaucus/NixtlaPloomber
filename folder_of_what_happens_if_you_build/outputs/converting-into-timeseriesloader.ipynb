{
 "cells": [
  {
   "cell_type": "code",
   "execution_count": 1,
   "id": "49fe5229",
   "metadata": {
    "execution": {
     "iopub.execute_input": "2022-03-03T05:40:03.334662Z",
     "iopub.status.busy": "2022-03-03T05:40:03.334662Z",
     "iopub.status.idle": "2022-03-03T05:40:05.892100Z",
     "shell.execute_reply": "2022-03-03T05:40:05.892100Z"
    },
    "papermill": {
     "duration": 2.588684,
     "end_time": "2022-03-03T05:40:05.892100",
     "exception": false,
     "start_time": "2022-03-03T05:40:03.303416",
     "status": "completed"
    },
    "tags": [
     "soorgeon-imports"
    ]
   },
   "outputs": [],
   "source": [
    "import neuralforecast as nf\n",
    "from pathlib import Path\n",
    "import pickle"
   ]
  },
  {
   "cell_type": "code",
   "execution_count": 2,
   "id": "d17699a2",
   "metadata": {
    "execution": {
     "iopub.execute_input": "2022-03-03T05:40:05.906121Z",
     "iopub.status.busy": "2022-03-03T05:40:05.905125Z",
     "iopub.status.idle": "2022-03-03T05:40:05.909113Z",
     "shell.execute_reply": "2022-03-03T05:40:05.909113Z"
    },
    "papermill": {
     "duration": 0.017013,
     "end_time": "2022-03-03T05:40:05.909113",
     "exception": false,
     "start_time": "2022-03-03T05:40:05.892100",
     "status": "completed"
    },
    "tags": [
     "parameters"
    ]
   },
   "outputs": [],
   "source": [
    "upstream = ['converting-into-windowsdataset']\n",
    "product = None"
   ]
  },
  {
   "cell_type": "code",
   "execution_count": 3,
   "id": "2a85dfc8",
   "metadata": {
    "execution": {
     "iopub.execute_input": "2022-03-03T05:40:05.920083Z",
     "iopub.status.busy": "2022-03-03T05:40:05.920083Z",
     "iopub.status.idle": "2022-03-03T05:40:05.924072Z",
     "shell.execute_reply": "2022-03-03T05:40:05.925070Z"
    },
    "papermill": {
     "duration": 0.011968,
     "end_time": "2022-03-03T05:40:05.925070",
     "exception": false,
     "start_time": "2022-03-03T05:40:05.913102",
     "status": "completed"
    },
    "tags": [
     "injected-parameters"
    ]
   },
   "outputs": [],
   "source": [
    "# Parameters\n",
    "upstream = {\n",
    "    \"converting-into-windowsdataset\": {\n",
    "        \"train_dataset\": \"C:\\\\Users\\\\victor\\\\Documents\\\\notebooks\\\\output\\\\converting-into-windowsdataset-train_dataset.pkl\",\n",
    "        \"val_dataset\": \"C:\\\\Users\\\\victor\\\\Documents\\\\notebooks\\\\output\\\\converting-into-windowsdataset-val_dataset.pkl\",\n",
    "        \"nb\": \"C:\\\\Users\\\\victor\\\\Documents\\\\notebooks\\\\output\\\\converting-into-windowsdataset.ipynb\",\n",
    "    }\n",
    "}\n",
    "product = {\n",
    "    \"val_loader\": \"C:\\\\Users\\\\victor\\\\Documents\\\\notebooks\\\\output\\\\converting-into-timeseriesloader-val_loader.pkl\",\n",
    "    \"train_loader\": \"C:\\\\Users\\\\victor\\\\Documents\\\\notebooks\\\\output\\\\converting-into-timeseriesloader-train_loader.pkl\",\n",
    "    \"nb\": \"C:\\\\Users\\\\victor\\\\Documents\\\\notebooks\\\\output\\\\converting-into-timeseriesloader.ipynb\",\n",
    "}\n"
   ]
  },
  {
   "cell_type": "code",
   "execution_count": 4,
   "id": "f16fca87",
   "metadata": {
    "execution": {
     "iopub.execute_input": "2022-03-03T05:40:05.936041Z",
     "iopub.status.busy": "2022-03-03T05:40:05.936041Z",
     "iopub.status.idle": "2022-03-03T05:40:06.060028Z",
     "shell.execute_reply": "2022-03-03T05:40:06.060028Z"
    },
    "papermill": {
     "duration": 0.130969,
     "end_time": "2022-03-03T05:40:06.060028",
     "exception": false,
     "start_time": "2022-03-03T05:40:05.929059",
     "status": "completed"
    },
    "tags": [
     "soorgeon-unpickle"
    ]
   },
   "outputs": [],
   "source": [
    "train_dataset = pickle.loads(Path(upstream['converting-into-windowsdataset']['train_dataset']).read_bytes())\n",
    "val_dataset = pickle.loads(Path(upstream['converting-into-windowsdataset']['val_dataset']).read_bytes())"
   ]
  },
  {
   "cell_type": "markdown",
   "id": "3cb78053",
   "metadata": {
    "papermill": {
     "duration": 0.002015,
     "end_time": "2022-03-03T05:40:06.067030",
     "exception": false,
     "start_time": "2022-03-03T05:40:06.065015",
     "status": "completed"
    },
    "tags": []
   },
   "source": [
    "## Converting into TimeSeriesLoader"
   ]
  },
  {
   "cell_type": "code",
   "execution_count": 5,
   "id": "88f6d3fc",
   "metadata": {
    "execution": {
     "iopub.execute_input": "2022-03-03T05:40:06.067030Z",
     "iopub.status.busy": "2022-03-03T05:40:06.067030Z",
     "iopub.status.idle": "2022-03-03T05:40:06.082652Z",
     "shell.execute_reply": "2022-03-03T05:40:06.082652Z"
    },
    "papermill": {
     "duration": 0.015622,
     "end_time": "2022-03-03T05:40:06.082652",
     "exception": false,
     "start_time": "2022-03-03T05:40:06.067030",
     "status": "completed"
    },
    "tags": []
   },
   "outputs": [],
   "source": [
    "# This is another object made by Nixtla. It's used to give the WindowsDatasets to the models\n",
    "train_loader = nf.data.tsloader.TimeSeriesLoader(\n",
    "    train_dataset, batch_size=32, \n",
    "    n_windows=256,\n",
    "    shuffle=True\n",
    ")"
   ]
  },
  {
   "cell_type": "code",
   "execution_count": 6,
   "id": "0c59a2d3",
   "metadata": {
    "execution": {
     "iopub.execute_input": "2022-03-03T05:40:06.082652Z",
     "iopub.status.busy": "2022-03-03T05:40:06.082652Z",
     "iopub.status.idle": "2022-03-03T05:40:06.098274Z",
     "shell.execute_reply": "2022-03-03T05:40:06.098274Z"
    },
    "papermill": {
     "duration": 0.015622,
     "end_time": "2022-03-03T05:40:06.098274",
     "exception": false,
     "start_time": "2022-03-03T05:40:06.082652",
     "status": "completed"
    },
    "tags": []
   },
   "outputs": [],
   "source": [
    "# This is another object made by Nixtla. It's used to give the WindowsDatasets to the models\n",
    "val_loader = nf.data.tsloader.TimeSeriesLoader(\n",
    "    val_dataset, \n",
    "    batch_size=1\n",
    ")"
   ]
  },
  {
   "cell_type": "code",
   "execution_count": 7,
   "id": "88dd8a9b",
   "metadata": {
    "execution": {
     "iopub.execute_input": "2022-03-03T05:40:06.098274Z",
     "iopub.status.busy": "2022-03-03T05:40:06.098274Z",
     "iopub.status.idle": "2022-03-03T05:40:06.162387Z",
     "shell.execute_reply": "2022-03-03T05:40:06.162387Z"
    },
    "papermill": {
     "duration": 0.064113,
     "end_time": "2022-03-03T05:40:06.162387",
     "exception": false,
     "start_time": "2022-03-03T05:40:06.098274",
     "status": "completed"
    },
    "tags": [
     "soorgeon-pickle"
    ]
   },
   "outputs": [
    {
     "data": {
      "text/plain": [
       "2761862"
      ]
     },
     "execution_count": 7,
     "metadata": {},
     "output_type": "execute_result"
    }
   ],
   "source": [
    "Path(product['train_loader']).parent.mkdir(exist_ok=True, parents=True)\n",
    "Path(product['train_loader']).write_bytes(pickle.dumps(train_loader))\n",
    "\n",
    "Path(product['val_loader']).parent.mkdir(exist_ok=True, parents=True)\n",
    "Path(product['val_loader']).write_bytes(pickle.dumps(val_loader))"
   ]
  }
 ],
 "metadata": {
  "kernelspec": {
   "display_name": "Python 3 (ipykernel)",
   "language": "python",
   "name": "python3"
  },
  "language_info": {
   "codemirror_mode": {
    "name": "ipython",
    "version": 3
   },
   "file_extension": ".py",
   "mimetype": "text/x-python",
   "name": "python",
   "nbconvert_exporter": "python",
   "pygments_lexer": "ipython3",
   "version": "3.7.11"
  },
  "papermill": {
   "duration": 4.477439,
   "end_time": "2022-03-03T05:40:06.486481",
   "exception": null,
   "input_path": "C:\\Users\\victor\\AppData\\Local\\Temp\\tmp3cad08w1.ipynb",
   "output_path": "C:\\Users\\victor\\Documents\\notebooks\\output\\converting-into-timeseriesloader.ipynb",
   "parameters": {
    "product": {
     "nb": "C:\\Users\\victor\\Documents\\notebooks\\output\\converting-into-timeseriesloader.ipynb",
     "train_loader": "C:\\Users\\victor\\Documents\\notebooks\\output\\converting-into-timeseriesloader-train_loader.pkl",
     "val_loader": "C:\\Users\\victor\\Documents\\notebooks\\output\\converting-into-timeseriesloader-val_loader.pkl"
    },
    "upstream": {
     "converting-into-windowsdataset": {
      "nb": "C:\\Users\\victor\\Documents\\notebooks\\output\\converting-into-windowsdataset.ipynb",
      "train_dataset": "C:\\Users\\victor\\Documents\\notebooks\\output\\converting-into-windowsdataset-train_dataset.pkl",
      "val_dataset": "C:\\Users\\victor\\Documents\\notebooks\\output\\converting-into-windowsdataset-val_dataset.pkl"
     }
    }
   },
   "start_time": "2022-03-03T05:40:02.009042"
  }
 },
 "nbformat": 4,
 "nbformat_minor": 5
}