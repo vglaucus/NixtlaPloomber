{
 "cells": [
  {
   "cell_type": "code",
   "execution_count": 1,
   "id": "6e03a1e0",
   "metadata": {
    "execution": {
     "iopub.execute_input": "2022-03-03T05:39:28.565145Z",
     "iopub.status.busy": "2022-03-03T05:39:28.565145Z",
     "iopub.status.idle": "2022-03-03T05:39:28.877569Z",
     "shell.execute_reply": "2022-03-03T05:39:28.877569Z"
    },
    "papermill": {
     "duration": 0.343668,
     "end_time": "2022-03-03T05:39:28.877569",
     "exception": false,
     "start_time": "2022-03-03T05:39:28.533901",
     "status": "completed"
    },
    "tags": [
     "soorgeon-imports"
    ]
   },
   "outputs": [],
   "source": [
    "import pandas as pd\n",
    "from pathlib import Path\n",
    "import pickle"
   ]
  },
  {
   "cell_type": "code",
   "execution_count": 2,
   "id": "52eaf2ba",
   "metadata": {
    "execution": {
     "iopub.execute_input": "2022-03-03T05:39:28.901355Z",
     "iopub.status.busy": "2022-03-03T05:39:28.900358Z",
     "iopub.status.idle": "2022-03-03T05:39:28.912325Z",
     "shell.execute_reply": "2022-03-03T05:39:28.913322Z"
    },
    "papermill": {
     "duration": 0.035753,
     "end_time": "2022-03-03T05:39:28.913322",
     "exception": false,
     "start_time": "2022-03-03T05:39:28.877569",
     "status": "completed"
    },
    "tags": [
     "parameters"
    ]
   },
   "outputs": [],
   "source": [
    "upstream = None\n",
    "product = None"
   ]
  },
  {
   "cell_type": "code",
   "execution_count": 3,
   "id": "4a193ef8",
   "metadata": {
    "execution": {
     "iopub.execute_input": "2022-03-03T05:39:28.945023Z",
     "iopub.status.busy": "2022-03-03T05:39:28.945023Z",
     "iopub.status.idle": "2022-03-03T05:39:28.960645Z",
     "shell.execute_reply": "2022-03-03T05:39:28.960645Z"
    },
    "papermill": {
     "duration": 0.032364,
     "end_time": "2022-03-03T05:39:28.960645",
     "exception": false,
     "start_time": "2022-03-03T05:39:28.928281",
     "status": "completed"
    },
    "tags": [
     "injected-parameters"
    ]
   },
   "outputs": [],
   "source": [
    "# Parameters\n",
    "product = {\n",
    "    \"Y_col\": \"C:\\\\Users\\\\victor\\\\Documents\\\\notebooks\\\\output\\\\read-csv-Y_col.pkl\",\n",
    "    \"df\": \"C:\\\\Users\\\\victor\\\\Documents\\\\notebooks\\\\output\\\\read-csv-df.pkl\",\n",
    "    \"X_cols\": \"C:\\\\Users\\\\victor\\\\Documents\\\\notebooks\\\\output\\\\read-csv-X_cols.pkl\",\n",
    "    \"nb\": \"C:\\\\Users\\\\victor\\\\Documents\\\\notebooks\\\\output\\\\read-csv.ipynb\",\n",
    "}\n"
   ]
  },
  {
   "cell_type": "markdown",
   "id": "c9773c13",
   "metadata": {
    "papermill": {
     "duration": 0.01562,
     "end_time": "2022-03-03T05:39:28.976265",
     "exception": false,
     "start_time": "2022-03-03T05:39:28.960645",
     "status": "completed"
    },
    "tags": []
   },
   "source": [
    "# Reading and processing"
   ]
  },
  {
   "cell_type": "code",
   "execution_count": 4,
   "id": "77115596",
   "metadata": {
    "execution": {
     "iopub.execute_input": "2022-03-03T05:39:28.976265Z",
     "iopub.status.busy": "2022-03-03T05:39:28.976265Z",
     "iopub.status.idle": "2022-03-03T05:39:28.992285Z",
     "shell.execute_reply": "2022-03-03T05:39:28.992285Z"
    },
    "papermill": {
     "duration": 0.017016,
     "end_time": "2022-03-03T05:39:28.993281",
     "exception": false,
     "start_time": "2022-03-03T05:39:28.976265",
     "status": "completed"
    },
    "tags": []
   },
   "outputs": [],
   "source": [
    "\n",
    "  # Not actually used, but shows a nice Ploomber feature\n",
    "\n",
    "\n",
    "\n"
   ]
  },
  {
   "cell_type": "markdown",
   "id": "80c482a8",
   "metadata": {
    "papermill": {
     "duration": 0.004985,
     "end_time": "2022-03-03T05:39:29.003488",
     "exception": false,
     "start_time": "2022-03-03T05:39:28.998503",
     "status": "completed"
    },
    "tags": []
   },
   "source": [
    "## Read csv"
   ]
  },
  {
   "cell_type": "code",
   "execution_count": 5,
   "id": "9ad8d219",
   "metadata": {
    "execution": {
     "iopub.execute_input": "2022-03-03T05:39:29.015456Z",
     "iopub.status.busy": "2022-03-03T05:39:29.014459Z",
     "iopub.status.idle": "2022-03-03T05:39:29.584273Z",
     "shell.execute_reply": "2022-03-03T05:39:29.584273Z"
    },
    "papermill": {
     "duration": 0.576796,
     "end_time": "2022-03-03T05:39:29.584273",
     "exception": false,
     "start_time": "2022-03-03T05:39:29.007477",
     "status": "completed"
    },
    "tags": []
   },
   "outputs": [
    {
     "data": {
      "text/html": [
       "<div>\n",
       "<style scoped>\n",
       "    .dataframe tbody tr th:only-of-type {\n",
       "        vertical-align: middle;\n",
       "    }\n",
       "\n",
       "    .dataframe tbody tr th {\n",
       "        vertical-align: top;\n",
       "    }\n",
       "\n",
       "    .dataframe thead th {\n",
       "        text-align: right;\n",
       "    }\n",
       "</style>\n",
       "<table border=\"1\" class=\"dataframe\">\n",
       "  <thead>\n",
       "    <tr style=\"text-align: right;\">\n",
       "      <th></th>\n",
       "      <th>Unnamed: 0</th>\n",
       "      <th>iso_code</th>\n",
       "      <th>continent</th>\n",
       "      <th>location</th>\n",
       "      <th>date</th>\n",
       "      <th>total_cases</th>\n",
       "      <th>new_cases</th>\n",
       "      <th>new_cases_smoothed</th>\n",
       "      <th>total_deaths</th>\n",
       "      <th>new_deaths</th>\n",
       "      <th>...</th>\n",
       "      <th>female_smokers</th>\n",
       "      <th>male_smokers</th>\n",
       "      <th>handwashing_facilities</th>\n",
       "      <th>hospital_beds_per_thousand</th>\n",
       "      <th>life_expectancy</th>\n",
       "      <th>human_development_index</th>\n",
       "      <th>excess_mortality_cumulative_absolute</th>\n",
       "      <th>excess_mortality_cumulative</th>\n",
       "      <th>excess_mortality</th>\n",
       "      <th>excess_mortality_cumulative_per_million</th>\n",
       "    </tr>\n",
       "  </thead>\n",
       "  <tbody>\n",
       "    <tr>\n",
       "      <th>0</th>\n",
       "      <td>0</td>\n",
       "      <td>AFG</td>\n",
       "      <td>Asia</td>\n",
       "      <td>Afghanistan</td>\n",
       "      <td>2020-02-24</td>\n",
       "      <td>5.0</td>\n",
       "      <td>5.0</td>\n",
       "      <td>NaN</td>\n",
       "      <td>NaN</td>\n",
       "      <td>NaN</td>\n",
       "      <td>...</td>\n",
       "      <td>NaN</td>\n",
       "      <td>NaN</td>\n",
       "      <td>37.746</td>\n",
       "      <td>0.5</td>\n",
       "      <td>64.83</td>\n",
       "      <td>0.511</td>\n",
       "      <td>NaN</td>\n",
       "      <td>NaN</td>\n",
       "      <td>NaN</td>\n",
       "      <td>NaN</td>\n",
       "    </tr>\n",
       "    <tr>\n",
       "      <th>1</th>\n",
       "      <td>1</td>\n",
       "      <td>AFG</td>\n",
       "      <td>Asia</td>\n",
       "      <td>Afghanistan</td>\n",
       "      <td>2020-02-25</td>\n",
       "      <td>5.0</td>\n",
       "      <td>0.0</td>\n",
       "      <td>NaN</td>\n",
       "      <td>NaN</td>\n",
       "      <td>NaN</td>\n",
       "      <td>...</td>\n",
       "      <td>NaN</td>\n",
       "      <td>NaN</td>\n",
       "      <td>37.746</td>\n",
       "      <td>0.5</td>\n",
       "      <td>64.83</td>\n",
       "      <td>0.511</td>\n",
       "      <td>NaN</td>\n",
       "      <td>NaN</td>\n",
       "      <td>NaN</td>\n",
       "      <td>NaN</td>\n",
       "    </tr>\n",
       "    <tr>\n",
       "      <th>2</th>\n",
       "      <td>2</td>\n",
       "      <td>AFG</td>\n",
       "      <td>Asia</td>\n",
       "      <td>Afghanistan</td>\n",
       "      <td>2020-02-26</td>\n",
       "      <td>5.0</td>\n",
       "      <td>0.0</td>\n",
       "      <td>NaN</td>\n",
       "      <td>NaN</td>\n",
       "      <td>NaN</td>\n",
       "      <td>...</td>\n",
       "      <td>NaN</td>\n",
       "      <td>NaN</td>\n",
       "      <td>37.746</td>\n",
       "      <td>0.5</td>\n",
       "      <td>64.83</td>\n",
       "      <td>0.511</td>\n",
       "      <td>NaN</td>\n",
       "      <td>NaN</td>\n",
       "      <td>NaN</td>\n",
       "      <td>NaN</td>\n",
       "    </tr>\n",
       "  </tbody>\n",
       "</table>\n",
       "<p>3 rows × 68 columns</p>\n",
       "</div>"
      ],
      "text/plain": [
       "   Unnamed: 0 iso_code continent     location       date  total_cases  \\\n",
       "0           0      AFG      Asia  Afghanistan 2020-02-24          5.0   \n",
       "1           1      AFG      Asia  Afghanistan 2020-02-25          5.0   \n",
       "2           2      AFG      Asia  Afghanistan 2020-02-26          5.0   \n",
       "\n",
       "   new_cases  new_cases_smoothed  total_deaths  new_deaths  ...  \\\n",
       "0        5.0                 NaN           NaN         NaN  ...   \n",
       "1        0.0                 NaN           NaN         NaN  ...   \n",
       "2        0.0                 NaN           NaN         NaN  ...   \n",
       "\n",
       "   female_smokers  male_smokers  handwashing_facilities  \\\n",
       "0             NaN           NaN                  37.746   \n",
       "1             NaN           NaN                  37.746   \n",
       "2             NaN           NaN                  37.746   \n",
       "\n",
       "   hospital_beds_per_thousand  life_expectancy  human_development_index  \\\n",
       "0                         0.5            64.83                    0.511   \n",
       "1                         0.5            64.83                    0.511   \n",
       "2                         0.5            64.83                    0.511   \n",
       "\n",
       "   excess_mortality_cumulative_absolute  excess_mortality_cumulative  \\\n",
       "0                                   NaN                          NaN   \n",
       "1                                   NaN                          NaN   \n",
       "2                                   NaN                          NaN   \n",
       "\n",
       "   excess_mortality  excess_mortality_cumulative_per_million  \n",
       "0               NaN                                      NaN  \n",
       "1               NaN                                      NaN  \n",
       "2               NaN                                      NaN  \n",
       "\n",
       "[3 rows x 68 columns]"
      ]
     },
     "execution_count": 5,
     "metadata": {},
     "output_type": "execute_result"
    }
   ],
   "source": [
    "# Data can be downloaded here: https://ourworldindata.org/covid-cases\n",
    "df = pd.read_csv(\"~/Downloads/owid-covid-data.csv\", parse_dates=['date'])\n",
    "df.head(3)"
   ]
  },
  {
   "cell_type": "code",
   "execution_count": 6,
   "id": "4afeac8d",
   "metadata": {
    "execution": {
     "iopub.execute_input": "2022-03-03T05:39:29.598634Z",
     "iopub.status.busy": "2022-03-03T05:39:29.598634Z",
     "iopub.status.idle": "2022-03-03T05:39:29.615589Z",
     "shell.execute_reply": "2022-03-03T05:39:29.615589Z"
    },
    "papermill": {
     "duration": 0.031316,
     "end_time": "2022-03-03T05:39:29.615589",
     "exception": false,
     "start_time": "2022-03-03T05:39:29.584273",
     "status": "completed"
    },
    "tags": []
   },
   "outputs": [],
   "source": [
    "# Columns to be used in the model as extra information\n",
    "X_cols = [\"human_development_index\", \"gdp_per_capita\", \"stringency_index\", \n",
    "          \"life_expectancy\", \"hospital_beds_per_thousand\"]\n",
    "# Column to predict\n",
    "Y_col =  \"new_cases\""
   ]
  },
  {
   "cell_type": "code",
   "execution_count": 7,
   "id": "e7d0beec",
   "metadata": {
    "execution": {
     "iopub.execute_input": "2022-03-03T05:39:29.628554Z",
     "iopub.status.busy": "2022-03-03T05:39:29.628554Z",
     "iopub.status.idle": "2022-03-03T05:39:30.623732Z",
     "shell.execute_reply": "2022-03-03T05:39:30.623732Z"
    },
    "papermill": {
     "duration": 1.003157,
     "end_time": "2022-03-03T05:39:30.623732",
     "exception": false,
     "start_time": "2022-03-03T05:39:29.620575",
     "status": "completed"
    },
    "tags": [
     "soorgeon-pickle"
    ]
   },
   "outputs": [
    {
     "data": {
      "text/plain": [
       "80642690"
      ]
     },
     "execution_count": 7,
     "metadata": {},
     "output_type": "execute_result"
    }
   ],
   "source": [
    "Path(product['X_cols']).parent.mkdir(exist_ok=True, parents=True)\n",
    "Path(product['X_cols']).write_bytes(pickle.dumps(X_cols))\n",
    "\n",
    "Path(product['Y_col']).parent.mkdir(exist_ok=True, parents=True)\n",
    "Path(product['Y_col']).write_bytes(pickle.dumps(Y_col))\n",
    "\n",
    "Path(product['df']).parent.mkdir(exist_ok=True, parents=True)\n",
    "Path(product['df']).write_bytes(pickle.dumps(df))"
   ]
  }
 ],
 "metadata": {
  "kernelspec": {
   "display_name": "Python 3 (ipykernel)",
   "language": "python",
   "name": "python3"
  },
  "language_info": {
   "codemirror_mode": {
    "name": "ipython",
    "version": 3
   },
   "file_extension": ".py",
   "mimetype": "text/x-python",
   "name": "python",
   "nbconvert_exporter": "python",
   "pygments_lexer": "ipython3",
   "version": "3.7.11"
  },
  "papermill": {
   "duration": 3.672582,
   "end_time": "2022-03-03T05:39:30.897389",
   "exception": null,
   "input_path": "C:\\Users\\victor\\AppData\\Local\\Temp\\tmpy9fvb3sv.ipynb",
   "output_path": "C:\\Users\\victor\\Documents\\notebooks\\output\\read-csv.ipynb",
   "parameters": {
    "product": {
     "X_cols": "C:\\Users\\victor\\Documents\\notebooks\\output\\read-csv-X_cols.pkl",
     "Y_col": "C:\\Users\\victor\\Documents\\notebooks\\output\\read-csv-Y_col.pkl",
     "df": "C:\\Users\\victor\\Documents\\notebooks\\output\\read-csv-df.pkl",
     "nb": "C:\\Users\\victor\\Documents\\notebooks\\output\\read-csv.ipynb"
    }
   },
   "start_time": "2022-03-03T05:39:27.224807"
  }
 },
 "nbformat": 4,
 "nbformat_minor": 5
}