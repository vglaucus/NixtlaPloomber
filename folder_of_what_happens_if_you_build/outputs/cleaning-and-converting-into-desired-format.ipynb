{
 "cells": [
  {
   "cell_type": "code",
   "execution_count": 1,
   "id": "eca53cd6",
   "metadata": {
    "execution": {
     "iopub.execute_input": "2022-03-03T05:39:32.284618Z",
     "iopub.status.busy": "2022-03-03T05:39:32.284618Z",
     "iopub.status.idle": "2022-03-03T05:39:32.597042Z",
     "shell.execute_reply": "2022-03-03T05:39:32.597042Z"
    },
    "papermill": {
     "duration": 0.343668,
     "end_time": "2022-03-03T05:39:32.597042",
     "exception": false,
     "start_time": "2022-03-03T05:39:32.253374",
     "status": "completed"
    },
    "tags": [
     "soorgeon-imports"
    ]
   },
   "outputs": [],
   "source": [
    "import pandas as pd\n",
    "from pathlib import Path\n",
    "import pickle"
   ]
  },
  {
   "cell_type": "code",
   "execution_count": 2,
   "id": "fd3dec20",
   "metadata": {
    "execution": {
     "iopub.execute_input": "2022-03-03T05:39:32.617748Z",
     "iopub.status.busy": "2022-03-03T05:39:32.615753Z",
     "iopub.status.idle": "2022-03-03T05:39:32.629716Z",
     "shell.execute_reply": "2022-03-03T05:39:32.630712Z"
    },
    "papermill": {
     "duration": 0.034668,
     "end_time": "2022-03-03T05:39:32.631710",
     "exception": false,
     "start_time": "2022-03-03T05:39:32.597042",
     "status": "completed"
    },
    "tags": [
     "parameters"
    ]
   },
   "outputs": [],
   "source": [
    "upstream = ['read-csv']\n",
    "product = None"
   ]
  },
  {
   "cell_type": "code",
   "execution_count": 3,
   "id": "0bab3a8c",
   "metadata": {
    "execution": {
     "iopub.execute_input": "2022-03-03T05:39:32.666325Z",
     "iopub.status.busy": "2022-03-03T05:39:32.650701Z",
     "iopub.status.idle": "2022-03-03T05:39:32.666325Z",
     "shell.execute_reply": "2022-03-03T05:39:32.666325Z"
    },
    "papermill": {
     "duration": 0.020653,
     "end_time": "2022-03-03T05:39:32.666325",
     "exception": false,
     "start_time": "2022-03-03T05:39:32.645672",
     "status": "completed"
    },
    "tags": [
     "injected-parameters"
    ]
   },
   "outputs": [],
   "source": [
    "# Parameters\n",
    "upstream = {\n",
    "    \"read-csv\": {\n",
    "        \"Y_col\": \"C:\\\\Users\\\\victor\\\\Documents\\\\notebooks\\\\output\\\\read-csv-Y_col.pkl\",\n",
    "        \"df\": \"C:\\\\Users\\\\victor\\\\Documents\\\\notebooks\\\\output\\\\read-csv-df.pkl\",\n",
    "        \"X_cols\": \"C:\\\\Users\\\\victor\\\\Documents\\\\notebooks\\\\output\\\\read-csv-X_cols.pkl\",\n",
    "        \"nb\": \"C:\\\\Users\\\\victor\\\\Documents\\\\notebooks\\\\output\\\\read-csv.ipynb\",\n",
    "    }\n",
    "}\n",
    "product = {\n",
    "    \"df\": \"C:\\\\Users\\\\victor\\\\Documents\\\\notebooks\\\\output\\\\cleaning-and-converting-into-desired-format-df.pkl\",\n",
    "    \"column_renamer\": \"C:\\\\Users\\\\victor\\\\Documents\\\\notebooks\\\\output\\\\cleaning-and-converting-into-desired-format-column_renamer.pkl\",\n",
    "    \"nb\": \"C:\\\\Users\\\\victor\\\\Documents\\\\notebooks\\\\output\\\\cleaning-and-converting-into-desired-format.ipynb\",\n",
    "}\n"
   ]
  },
  {
   "cell_type": "code",
   "execution_count": 4,
   "id": "44749060",
   "metadata": {
    "execution": {
     "iopub.execute_input": "2022-03-03T05:39:32.681943Z",
     "iopub.status.busy": "2022-03-03T05:39:32.681943Z",
     "iopub.status.idle": "2022-03-03T05:39:32.924340Z",
     "shell.execute_reply": "2022-03-03T05:39:32.924340Z"
    },
    "papermill": {
     "duration": 0.258015,
     "end_time": "2022-03-03T05:39:32.924340",
     "exception": false,
     "start_time": "2022-03-03T05:39:32.666325",
     "status": "completed"
    },
    "tags": [
     "soorgeon-unpickle"
    ]
   },
   "outputs": [],
   "source": [
    "X_cols = pickle.loads(Path(upstream['read-csv']['X_cols']).read_bytes())\n",
    "Y_col = pickle.loads(Path(upstream['read-csv']['Y_col']).read_bytes())\n",
    "df = pickle.loads(Path(upstream['read-csv']['df']).read_bytes())"
   ]
  },
  {
   "cell_type": "markdown",
   "id": "07d40209",
   "metadata": {
    "papermill": {
     "duration": 0.011253,
     "end_time": "2022-03-03T05:39:32.935593",
     "exception": false,
     "start_time": "2022-03-03T05:39:32.924340",
     "status": "completed"
    },
    "tags": []
   },
   "source": [
    "## Cleaning and converting into desired format"
   ]
  },
  {
   "cell_type": "code",
   "execution_count": 5,
   "id": "273edd9c",
   "metadata": {
    "execution": {
     "iopub.execute_input": "2022-03-03T05:39:32.968504Z",
     "iopub.status.busy": "2022-03-03T05:39:32.968504Z",
     "iopub.status.idle": "2022-03-03T05:39:32.971496Z",
     "shell.execute_reply": "2022-03-03T05:39:32.971496Z"
    },
    "papermill": {
     "duration": 0.020942,
     "end_time": "2022-03-03T05:39:32.971496",
     "exception": false,
     "start_time": "2022-03-03T05:39:32.950554",
     "status": "completed"
    },
    "tags": []
   },
   "outputs": [],
   "source": [
    "# These names are required by the library\n",
    "column_renamer = {\"location\": \"unique_id\",\n",
    "                  \"date\": \"ds\",\n",
    "                  \"new_cases\": \"y\"}"
   ]
  },
  {
   "cell_type": "code",
   "execution_count": 6,
   "id": "61c4ddba",
   "metadata": {
    "execution": {
     "iopub.execute_input": "2022-03-03T05:39:32.984488Z",
     "iopub.status.busy": "2022-03-03T05:39:32.984488Z",
     "iopub.status.idle": "2022-03-03T05:39:33.079162Z",
     "shell.execute_reply": "2022-03-03T05:39:33.079162Z"
    },
    "papermill": {
     "duration": 0.101682,
     "end_time": "2022-03-03T05:39:33.079162",
     "exception": false,
     "start_time": "2022-03-03T05:39:32.977480",
     "status": "completed"
    },
    "tags": []
   },
   "outputs": [
    {
     "data": {
      "text/html": [
       "<div>\n",
       "<style scoped>\n",
       "    .dataframe tbody tr th:only-of-type {\n",
       "        vertical-align: middle;\n",
       "    }\n",
       "\n",
       "    .dataframe tbody tr th {\n",
       "        vertical-align: top;\n",
       "    }\n",
       "\n",
       "    .dataframe thead th {\n",
       "        text-align: right;\n",
       "    }\n",
       "</style>\n",
       "<table border=\"1\" class=\"dataframe\">\n",
       "  <thead>\n",
       "    <tr style=\"text-align: right;\">\n",
       "      <th></th>\n",
       "      <th>min</th>\n",
       "      <th>max</th>\n",
       "      <th>count</th>\n",
       "      <th>proportions</th>\n",
       "    </tr>\n",
       "    <tr>\n",
       "      <th>location</th>\n",
       "      <th></th>\n",
       "      <th></th>\n",
       "      <th></th>\n",
       "      <th></th>\n",
       "    </tr>\n",
       "  </thead>\n",
       "  <tbody>\n",
       "    <tr>\n",
       "      <th>Estonia</th>\n",
       "      <td>2020-01-06</td>\n",
       "      <td>2021-12-31</td>\n",
       "      <td>698</td>\n",
       "      <td>1.040115</td>\n",
       "    </tr>\n",
       "    <tr>\n",
       "      <th>Greece</th>\n",
       "      <td>2020-01-06</td>\n",
       "      <td>2021-12-31</td>\n",
       "      <td>678</td>\n",
       "      <td>1.070796</td>\n",
       "    </tr>\n",
       "    <tr>\n",
       "      <th>Latvia</th>\n",
       "      <td>2020-01-06</td>\n",
       "      <td>2021-12-31</td>\n",
       "      <td>675</td>\n",
       "      <td>1.075556</td>\n",
       "    </tr>\n",
       "    <tr>\n",
       "      <th>Norway</th>\n",
       "      <td>2020-02-12</td>\n",
       "      <td>2021-12-31</td>\n",
       "      <td>676</td>\n",
       "      <td>1.019231</td>\n",
       "    </tr>\n",
       "  </tbody>\n",
       "</table>\n",
       "</div>"
      ],
      "text/plain": [
       "                min        max  count  proportions\n",
       "location                                          \n",
       "Estonia  2020-01-06 2021-12-31    698     1.040115\n",
       "Greece   2020-01-06 2021-12-31    678     1.070796\n",
       "Latvia   2020-01-06 2021-12-31    675     1.075556\n",
       "Norway   2020-02-12 2021-12-31    676     1.019231"
      ]
     },
     "execution_count": 6,
     "metadata": {},
     "output_type": "execute_result"
    }
   ],
   "source": [
    "# Library requires that all series end at the same time. Not many countries are lost this way\n",
    "df = df[df.groupby(\"location\")[\"date\"].transform(max) == df[\"date\"].max()]\n",
    "minmaxes = df.groupby(\"location\")[\"date\"].agg([min, max, \"count\"])\n",
    "minmaxes[\"proportions\"] = (((minmaxes[\"max\"] - minmaxes[\"min\"]).dt.days + 1) / minmaxes[\"count\"])\n",
    "minmaxes[minmaxes[\"proportions\"] != 1]"
   ]
  },
  {
   "cell_type": "code",
   "execution_count": 7,
   "id": "564f9663",
   "metadata": {
    "execution": {
     "iopub.execute_input": "2022-03-03T05:39:33.084171Z",
     "iopub.status.busy": "2022-03-03T05:39:33.084171Z",
     "iopub.status.idle": "2022-03-03T05:39:33.279465Z",
     "shell.execute_reply": "2022-03-03T05:39:33.279465Z"
    },
    "papermill": {
     "duration": 0.195294,
     "end_time": "2022-03-03T05:39:33.279465",
     "exception": false,
     "start_time": "2022-03-03T05:39:33.084171",
     "status": "completed"
    },
    "tags": []
   },
   "outputs": [],
   "source": [
    "# Aggregating data to be at a weekly level since daily was very messy\n",
    "grouper_aggregator = {col: \"mean\" for col in X_cols}\n",
    "grouper_aggregator.update({Y_col: \"sum\"})\n",
    "df = df.groupby([\"location\", \n",
    "                 pd.Grouper(key='date', freq='W-MON')]).agg(grouper_aggregator).reset_index()"
   ]
  },
  {
   "cell_type": "code",
   "execution_count": 8,
   "id": "38d559f2",
   "metadata": {
    "execution": {
     "iopub.execute_input": "2022-03-03T05:39:33.279465Z",
     "iopub.status.busy": "2022-03-03T05:39:33.279465Z",
     "iopub.status.idle": "2022-03-03T05:39:33.310708Z",
     "shell.execute_reply": "2022-03-03T05:39:33.310708Z"
    },
    "papermill": {
     "duration": 0.031243,
     "end_time": "2022-03-03T05:39:33.310708",
     "exception": false,
     "start_time": "2022-03-03T05:39:33.279465",
     "status": "completed"
    },
    "tags": [
     "soorgeon-pickle"
    ]
   },
   "outputs": [
    {
     "data": {
      "text/plain": [
       "1279996"
      ]
     },
     "execution_count": 8,
     "metadata": {},
     "output_type": "execute_result"
    }
   ],
   "source": [
    "Path(product['column_renamer']).parent.mkdir(exist_ok=True, parents=True)\n",
    "Path(product['column_renamer']).write_bytes(pickle.dumps(column_renamer))\n",
    "\n",
    "Path(product['df']).parent.mkdir(exist_ok=True, parents=True)\n",
    "Path(product['df']).write_bytes(pickle.dumps(df))"
   ]
  }
 ],
 "metadata": {
  "kernelspec": {
   "display_name": "Python 3 (ipykernel)",
   "language": "python",
   "name": "python3"
  },
  "language_info": {
   "codemirror_mode": {
    "name": "ipython",
    "version": 3
   },
   "file_extension": ".py",
   "mimetype": "text/x-python",
   "name": "python",
   "nbconvert_exporter": "python",
   "pygments_lexer": "ipython3",
   "version": "3.7.11"
  },
  "papermill": {
   "duration": 2.570773,
   "end_time": "2022-03-03T05:39:33.550112",
   "exception": null,
   "input_path": "C:\\Users\\victor\\AppData\\Local\\Temp\\tmpj2emycn_.ipynb",
   "output_path": "C:\\Users\\victor\\Documents\\notebooks\\output\\cleaning-and-converting-into-desired-format.ipynb",
   "parameters": {
    "product": {
     "column_renamer": "C:\\Users\\victor\\Documents\\notebooks\\output\\cleaning-and-converting-into-desired-format-column_renamer.pkl",
     "df": "C:\\Users\\victor\\Documents\\notebooks\\output\\cleaning-and-converting-into-desired-format-df.pkl",
     "nb": "C:\\Users\\victor\\Documents\\notebooks\\output\\cleaning-and-converting-into-desired-format.ipynb"
    },
    "upstream": {
     "read-csv": {
      "X_cols": "C:\\Users\\victor\\Documents\\notebooks\\output\\read-csv-X_cols.pkl",
      "Y_col": "C:\\Users\\victor\\Documents\\notebooks\\output\\read-csv-Y_col.pkl",
      "df": "C:\\Users\\victor\\Documents\\notebooks\\output\\read-csv-df.pkl",
      "nb": "C:\\Users\\victor\\Documents\\notebooks\\output\\read-csv.ipynb"
     }
    }
   },
   "start_time": "2022-03-03T05:39:30.979339"
  }
 },
 "nbformat": 4,
 "nbformat_minor": 5
}