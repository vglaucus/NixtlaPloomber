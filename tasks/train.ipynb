{
 "cells": [
  {
   "cell_type": "code",
   "execution_count": null,
   "id": "8fdc8af9",
   "metadata": {
    "tags": [
     "soorgeon-imports"
    ]
   },
   "outputs": [],
   "source": [
    "import neuralforecast as nf\n",
    "from pathlib import Path\n",
    "import pickle"
   ]
  },
  {
   "cell_type": "code",
   "execution_count": null,
   "id": "d60e25d2",
   "metadata": {
    "tags": [
     "parameters"
    ]
   },
   "outputs": [],
   "source": [
    "upstream = ['split-test-and-train']\n",
    "product = None"
   ]
  },
  {
   "cell_type": "code",
   "execution_count": null,
   "id": "34c98b75",
   "metadata": {
    "tags": [
     "soorgeon-unpickle"
    ]
   },
   "outputs": [],
   "source": [
    "Y_df_train = pickle.loads(Path(upstream['split-test-and-train']['Y_df_train']).read_bytes())\n",
    "output_size = pickle.loads(Path(upstream['split-test-and-train']['output_size']).read_bytes())"
   ]
  },
  {
   "cell_type": "markdown",
   "id": "bae356c8",
   "metadata": {},
   "source": [
    "## Train"
   ]
  },
  {
   "cell_type": "code",
   "execution_count": null,
   "id": "a34bf70f",
   "metadata": {},
   "outputs": [],
   "source": [
    "# This library tool tags the data as train and validation. See graph below\n",
    "train_mask_df, val_mask_df, _ = nf.experiments.utils.get_mask_dfs(\n",
    "    Y_df=Y_df_train,\n",
    "    ds_in_val=output_size,\n",
    "    ds_in_test=0\n",
    ")\n",
    "train_mask_df.sample(3)"
   ]
  },
  {
   "cell_type": "code",
   "execution_count": null,
   "id": "38dfc9a5",
   "metadata": {
    "tags": [
     "soorgeon-pickle"
    ]
   },
   "outputs": [],
   "source": [
    "Path(product['train_mask_df']).parent.mkdir(exist_ok=True, parents=True)\n",
    "Path(product['train_mask_df']).write_bytes(pickle.dumps(train_mask_df))\n",
    "\n",
    "Path(product['val_mask_df']).parent.mkdir(exist_ok=True, parents=True)\n",
    "Path(product['val_mask_df']).write_bytes(pickle.dumps(val_mask_df))"
   ]
  }
 ],
 "metadata": {
  "kernelspec": {
   "display_name": "Python 3",
   "language": "python",
   "name": "python3"
  }
 },
 "nbformat": 4,
 "nbformat_minor": 5
}