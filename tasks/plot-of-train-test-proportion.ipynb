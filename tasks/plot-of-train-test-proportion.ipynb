{
 "cells": [
  {
   "cell_type": "code",
   "execution_count": null,
   "id": "9cb124d7",
   "metadata": {
    "tags": [
     "soorgeon-imports"
    ]
   },
   "outputs": [],
   "source": [
    "import numpy as np\n",
    "from pathlib import Path\n",
    "import pickle"
   ]
  },
  {
   "cell_type": "code",
   "execution_count": null,
   "id": "563bc5a1",
   "metadata": {
    "tags": [
     "parameters"
    ]
   },
   "outputs": [],
   "source": [
    "upstream = ['train', 'split-test-and-train']\n",
    "product = None"
   ]
  },
  {
   "cell_type": "code",
   "execution_count": null,
   "id": "d4ce99a3",
   "metadata": {
    "tags": [
     "soorgeon-unpickle"
    ]
   },
   "outputs": [],
   "source": [
    "Y_df_train = pickle.loads(Path(upstream['split-test-and-train']['Y_df_train']).read_bytes())\n",
    "train_mask_df = pickle.loads(Path(upstream['train']['train_mask_df']).read_bytes())\n",
    "val_mask_df = pickle.loads(Path(upstream['train']['val_mask_df']).read_bytes())"
   ]
  },
  {
   "cell_type": "markdown",
   "id": "085058b6",
   "metadata": {},
   "source": [
    "## Plot of train/test proportion"
   ]
  },
  {
   "cell_type": "code",
   "execution_count": null,
   "id": "4cae575a",
   "metadata": {},
   "outputs": [],
   "source": [
    "plot_df = Y_df_train.merge(\n",
    "    train_mask_df.drop('available_mask', axis=1).rename(columns={'sample_mask': 'sample_mask_train'}),\n",
    "    how='left',\n",
    "    on=['unique_id', 'ds']\n",
    ").merge(\n",
    "    val_mask_df.drop('available_mask', axis=1).rename(columns={'sample_mask': 'sample_mask_val'}),\n",
    "    how='left',\n",
    "    on=['unique_id', 'ds']\n",
    ")"
   ]
  },
  {
   "cell_type": "code",
   "execution_count": null,
   "id": "8aa00989",
   "metadata": {},
   "outputs": [],
   "source": [
    "plot_df['y_train'] = np.where(plot_df['sample_mask_train'] == 1, plot_df['y'], np.nan)\n",
    "plot_df['y_val'] = np.where(plot_df['sample_mask_val'] == 1, plot_df['y'], np.nan)\n",
    "plot_df.sample(3)"
   ]
  },
  {
   "cell_type": "code",
   "execution_count": null,
   "id": "f8d12047",
   "metadata": {},
   "outputs": [],
   "source": [
    "plot_df.query('unique_id == \"Argentina\"').set_index('ds')[['y_train', 'y_val']].plot(title=\"Train vs Validation\")"
   ]
  }
 ],
 "metadata": {
  "kernelspec": {
   "display_name": "Python 3",
   "language": "python",
   "name": "python3"
  }
 },
 "nbformat": 4,
 "nbformat_minor": 5
}