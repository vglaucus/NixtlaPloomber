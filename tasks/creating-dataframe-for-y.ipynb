{
 "cells": [
  {
   "cell_type": "code",
   "execution_count": null,
   "id": "878a5f32",
   "metadata": {
    "tags": [
     "soorgeon-imports"
    ]
   },
   "outputs": [],
   "source": [
    "\n",
    "from pathlib import Path\n",
    "import pickle"
   ]
  },
  {
   "cell_type": "code",
   "execution_count": null,
   "id": "787122e5",
   "metadata": {
    "tags": [
     "parameters"
    ]
   },
   "outputs": [],
   "source": [
    "upstream = ['read-csv', 'cleaning-and-converting-into-desired-format']\n",
    "product = None"
   ]
  },
  {
   "cell_type": "code",
   "execution_count": null,
   "id": "60f82a60",
   "metadata": {
    "tags": [
     "soorgeon-unpickle"
    ]
   },
   "outputs": [],
   "source": [
    "column_renamer = pickle.loads(Path(upstream['cleaning-and-converting-into-desired-format']['column_renamer']).read_bytes())\n",
    "df = pickle.loads(Path(upstream['cleaning-and-converting-into-desired-format']['df']).read_bytes())\n",
    "Y_col = pickle.loads(Path(upstream['read-csv']['Y_col']).read_bytes())"
   ]
  },
  {
   "cell_type": "markdown",
   "id": "632d4baa",
   "metadata": {},
   "source": [
    "## Creating DataFrame for Y"
   ]
  },
  {
   "cell_type": "code",
   "execution_count": null,
   "id": "24e481ff",
   "metadata": {},
   "outputs": [],
   "source": [
    "Y_df = df[[\"location\", \"date\", Y_col]]\n",
    "Y_df = Y_df.rename(columns=column_renamer).fillna(0)\n",
    "Y_df.sample(3)"
   ]
  },
  {
   "cell_type": "code",
   "execution_count": null,
   "id": "e08e511f",
   "metadata": {
    "tags": [
     "soorgeon-pickle"
    ]
   },
   "outputs": [],
   "source": [
    "Path(product['Y_df']).parent.mkdir(exist_ok=True, parents=True)\n",
    "Path(product['Y_df']).write_bytes(pickle.dumps(Y_df))"
   ]
  }
 ],
 "metadata": {
  "kernelspec": {
   "display_name": "Python 3",
   "language": "python",
   "name": "python3"
  }
 },
 "nbformat": 4,
 "nbformat_minor": 5
}