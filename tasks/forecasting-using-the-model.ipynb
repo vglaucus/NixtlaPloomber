{
 "cells": [
  {
   "cell_type": "code",
   "execution_count": null,
   "id": "3f44ca82",
   "metadata": {
    "tags": [
     "soorgeon-imports"
    ]
   },
   "outputs": [],
   "source": [
    "\n",
    "from pathlib import Path\n",
    "import pickle"
   ]
  },
  {
   "cell_type": "code",
   "execution_count": null,
   "id": "7be20f88",
   "metadata": {
    "tags": [
     "parameters"
    ]
   },
   "outputs": [],
   "source": [
    "upstream = ['creating-dataframe-for-x', 'instancing-the-model', 'split-test-and-train']\n",
    "product = None"
   ]
  },
  {
   "cell_type": "code",
   "execution_count": null,
   "id": "6192203c",
   "metadata": {
    "tags": [
     "soorgeon-unpickle"
    ]
   },
   "outputs": [],
   "source": [
    "X_df = pickle.loads(Path(upstream['creating-dataframe-for-x']['X_df']).read_bytes())\n",
    "model = pickle.loads(Path(upstream['instancing-the-model']['model']).read_bytes())\n",
    "Y_df_train = pickle.loads(Path(upstream['split-test-and-train']['Y_df_train']).read_bytes())"
   ]
  },
  {
   "cell_type": "markdown",
   "id": "9bd0923c",
   "metadata": {},
   "source": [
    "## Forecasting using the model"
   ]
  },
  {
   "cell_type": "code",
   "execution_count": null,
   "id": "845317d5",
   "metadata": {
    "scrolled": true
   },
   "outputs": [],
   "source": [
    "Y_df_forecast = model.forecast(Y_df_train, X_df=X_df)\n",
    "Y_df_forecast.rename(columns={'y': 'y_hat'}, inplace=True)\n",
    "Y_df_forecast.head()"
   ]
  },
  {
   "cell_type": "markdown",
   "id": "5b7d726e",
   "metadata": {},
   "source": [
    "# Results"
   ]
  },
  {
   "cell_type": "code",
   "execution_count": null,
   "id": "dac26052",
   "metadata": {
    "tags": [
     "soorgeon-pickle"
    ]
   },
   "outputs": [],
   "source": [
    "Path(product['Y_df_forecast']).parent.mkdir(exist_ok=True, parents=True)\n",
    "Path(product['Y_df_forecast']).write_bytes(pickle.dumps(Y_df_forecast))"
   ]
  }
 ],
 "metadata": {
  "kernelspec": {
   "display_name": "Python 3",
   "language": "python",
   "name": "python3"
  }
 },
 "nbformat": 4,
 "nbformat_minor": 5
}