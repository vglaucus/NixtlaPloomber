{
 "cells": [
  {
   "cell_type": "code",
   "execution_count": null,
   "id": "6e03a1e0",
   "metadata": {
    "tags": [
     "soorgeon-imports"
    ]
   },
   "outputs": [],
   "source": [
    "import pandas as pd\n",
    "from pathlib import Path\n",
    "import pickle"
   ]
  },
  {
   "cell_type": "code",
   "execution_count": null,
   "id": "52eaf2ba",
   "metadata": {
    "tags": [
     "parameters"
    ]
   },
   "outputs": [],
   "source": [
    "upstream = None\n",
    "product = None"
   ]
  },
  {
   "cell_type": "markdown",
   "id": "c9773c13",
   "metadata": {},
   "source": [
    "# Reading and processing"
   ]
  },
  {
   "cell_type": "code",
   "execution_count": null,
   "id": "77115596",
   "metadata": {},
   "outputs": [],
   "source": [
    "\n",
    "  # Not actually used, but shows a nice Ploomber feature\n",
    "\n",
    "\n",
    "\n"
   ]
  },
  {
   "cell_type": "markdown",
   "id": "80c482a8",
   "metadata": {},
   "source": [
    "## Read csv"
   ]
  },
  {
   "cell_type": "code",
   "execution_count": null,
   "id": "9ad8d219",
   "metadata": {},
   "outputs": [],
   "source": [
    "# Data can be downloaded here: https://ourworldindata.org/covid-cases\n",
    "df = pd.read_csv(\"~/Downloads/owid-covid-data.csv\", parse_dates=['date'])\n",
    "df.head(3)"
   ]
  },
  {
   "cell_type": "code",
   "execution_count": null,
   "id": "4afeac8d",
   "metadata": {},
   "outputs": [],
   "source": [
    "# Columns to be used in the model as extra information\n",
    "X_cols = [\"human_development_index\", \"gdp_per_capita\", \"stringency_index\", \n",
    "          \"life_expectancy\", \"hospital_beds_per_thousand\"]\n",
    "# Column to predict\n",
    "Y_col =  \"new_cases\""
   ]
  },
  {
   "cell_type": "code",
   "execution_count": null,
   "id": "e7d0beec",
   "metadata": {
    "tags": [
     "soorgeon-pickle"
    ]
   },
   "outputs": [],
   "source": [
    "Path(product['X_cols']).parent.mkdir(exist_ok=True, parents=True)\n",
    "Path(product['X_cols']).write_bytes(pickle.dumps(X_cols))\n",
    "\n",
    "Path(product['Y_col']).parent.mkdir(exist_ok=True, parents=True)\n",
    "Path(product['Y_col']).write_bytes(pickle.dumps(Y_col))\n",
    "\n",
    "Path(product['df']).parent.mkdir(exist_ok=True, parents=True)\n",
    "Path(product['df']).write_bytes(pickle.dumps(df))"
   ]
  }
 ],
 "metadata": {
  "kernelspec": {
   "display_name": "Python 3",
   "language": "python",
   "name": "python3"
  }
 },
 "nbformat": 4,
 "nbformat_minor": 5
}