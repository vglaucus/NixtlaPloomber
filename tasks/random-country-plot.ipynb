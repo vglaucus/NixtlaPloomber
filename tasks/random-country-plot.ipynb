{
 "cells": [
  {
   "cell_type": "code",
   "execution_count": null,
   "id": "8fd10fc2",
   "metadata": {
    "tags": [
     "soorgeon-imports"
    ]
   },
   "outputs": [],
   "source": [
    "from random import choice\n",
    "from pathlib import Path\n",
    "import pickle"
   ]
  },
  {
   "cell_type": "code",
   "execution_count": null,
   "id": "a0389e4b",
   "metadata": {
    "tags": [
     "parameters"
    ]
   },
   "outputs": [],
   "source": [
    "upstream = ['forecasting-using-the-model', 'split-test-and-train']\n",
    "product = None"
   ]
  },
  {
   "cell_type": "code",
   "execution_count": null,
   "id": "519d7e22",
   "metadata": {
    "tags": [
     "soorgeon-unpickle"
    ]
   },
   "outputs": [],
   "source": [
    "Y_df_forecast = pickle.loads(Path(upstream['forecasting-using-the-model']['Y_df_forecast']).read_bytes())\n",
    "Y_df_test = pickle.loads(Path(upstream['split-test-and-train']['Y_df_test']).read_bytes())\n",
    "Y_df_train = pickle.loads(Path(upstream['split-test-and-train']['Y_df_train']).read_bytes())"
   ]
  },
  {
   "cell_type": "markdown",
   "id": "161f789b",
   "metadata": {},
   "source": [
    "## Random country plot"
   ]
  },
  {
   "cell_type": "code",
   "execution_count": null,
   "id": "062068bb",
   "metadata": {},
   "outputs": [],
   "source": [
    "Y_df_plot = Y_df_test.append(Y_df_train).merge(Y_df_forecast, how='left', on=['unique_id', 'ds']).sort_values(\"ds\")\n",
    "country = choice(Y_df_plot[\"unique_id\"].unique())\n",
    "Y_df_plot.query(f'unique_id == \"{country}\"').tail(100).set_index('ds').plot(title=country)"
   ]
  }
 ],
 "metadata": {
  "kernelspec": {
   "display_name": "Python 3",
   "language": "python",
   "name": "python3"
  }
 },
 "nbformat": 4,
 "nbformat_minor": 5
}