{
 "cells": [
  {
   "cell_type": "code",
   "execution_count": null,
   "id": "34710ff7",
   "metadata": {
    "tags": [
     "soorgeon-imports"
    ]
   },
   "outputs": [],
   "source": [
    "\n",
    "from pathlib import Path\n",
    "import pickle"
   ]
  },
  {
   "cell_type": "code",
   "execution_count": null,
   "id": "c13049c2",
   "metadata": {
    "tags": [
     "parameters"
    ]
   },
   "outputs": [],
   "source": [
    "upstream = ['cleaning-and-converting-into-desired-format', 'read-csv']\n",
    "product = None"
   ]
  },
  {
   "cell_type": "code",
   "execution_count": null,
   "id": "3cf23218",
   "metadata": {
    "tags": [
     "soorgeon-unpickle"
    ]
   },
   "outputs": [],
   "source": [
    "column_renamer = pickle.loads(Path(upstream['cleaning-and-converting-into-desired-format']['column_renamer']).read_bytes())\n",
    "df = pickle.loads(Path(upstream['cleaning-and-converting-into-desired-format']['df']).read_bytes())\n",
    "X_cols = pickle.loads(Path(upstream['read-csv']['X_cols']).read_bytes())"
   ]
  },
  {
   "cell_type": "markdown",
   "id": "36c27818",
   "metadata": {},
   "source": [
    "## Creating DataFrame for X"
   ]
  },
  {
   "cell_type": "code",
   "execution_count": null,
   "id": "cfcfe882",
   "metadata": {},
   "outputs": [],
   "source": [
    "X_df = df[[\"location\", \"date\"] + X_cols]\n",
    "X_df = X_df.rename(columns=column_renamer).fillna(0)\n",
    "X_df.sample(3)"
   ]
  },
  {
   "cell_type": "code",
   "execution_count": null,
   "id": "f50a4854",
   "metadata": {
    "tags": [
     "soorgeon-pickle"
    ]
   },
   "outputs": [],
   "source": [
    "Path(product['X_df']).parent.mkdir(exist_ok=True, parents=True)\n",
    "Path(product['X_df']).write_bytes(pickle.dumps(X_df))"
   ]
  }
 ],
 "metadata": {
  "kernelspec": {
   "display_name": "Python 3",
   "language": "python",
   "name": "python3"
  }
 },
 "nbformat": 4,
 "nbformat_minor": 5
}